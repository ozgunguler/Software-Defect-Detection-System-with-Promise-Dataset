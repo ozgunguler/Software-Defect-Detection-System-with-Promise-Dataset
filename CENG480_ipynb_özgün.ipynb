{
  "cells": [
    {
      "cell_type": "markdown",
      "metadata": {
        "id": "view-in-github",
        "colab_type": "text"
      },
      "source": [
        "<a href=\"https://colab.research.google.com/github/ozgunguler/Software-Defect-Detection-System-with-Promise-Dataset/blob/main/CENG480_ipynb_%C3%B6zg%C3%BCn.ipynb\" target=\"_parent\"><img src=\"https://colab.research.google.com/assets/colab-badge.svg\" alt=\"Open In Colab\"/></a>"
      ]
    },
    {
      "cell_type": "markdown",
      "metadata": {
        "id": "rRC8O__l9VaW"
      },
      "source": [
        "# Import datasets"
      ]
    },
    {
      "cell_type": "code",
      "execution_count": null,
      "metadata": {
        "colab": {
          "base_uri": "https://localhost:8080/"
        },
        "id": "OPf9DIzCnwEe",
        "outputId": "0c82ef9a-c78f-4389-f8a9-8f9b9074e904"
      },
      "outputs": [
        {
          "output_type": "stream",
          "name": "stdout",
          "text": [
            "Mounted at /content/drive\n"
          ]
        }
      ],
      "source": [
        "from google.colab import drive\n",
        "drive.mount('/content/drive')"
      ]
    },
    {
      "cell_type": "code",
      "execution_count": null,
      "metadata": {
        "id": "y_b9fAxcpQNo"
      },
      "outputs": [],
      "source": [
        "import numpy as np\n",
        "import pandas as pd\n",
        "import matplotlib.pyplot as plt\n",
        "import seaborn as sns\n",
        "\n",
        "from sklearn import preprocessing"
      ]
    },
    {
      "cell_type": "code",
      "execution_count": null,
      "metadata": {
        "id": "19xfQbSanvip"
      },
      "outputs": [],
      "source": [
        "import pandas as pd\n",
        "import numpy as np\n",
        "import random as rnd\n",
        "\n",
        "import seaborn as sns\n",
        "import matplotlib.pyplot as plt\n",
        "plt.rcParams[\"figure.figsize\"] = (8, 5)\n",
        "\n",
        "from sklearn.ensemble import BaggingClassifier\n",
        "\n",
        "from sklearn.linear_model import LogisticRegression\n",
        "from sklearn.svm import SVC, LinearSVC\n",
        "from sklearn.ensemble import RandomForestClassifier\n",
        "from sklearn.neighbors import KNeighborsClassifier\n",
        "from sklearn.naive_bayes import GaussianNB\n",
        "from sklearn.linear_model import Perceptron\n",
        "from sklearn.linear_model import SGDClassifier\n",
        "from sklearn.tree import DecisionTreeClassifier\n",
        "from sklearn.preprocessing import StandardScaler\n",
        "from sklearn.linear_model import Lasso\n",
        "from sklearn.pipeline import Pipeline\n",
        "from sklearn.model_selection import GridSearchCV\n",
        "from sklearn.model_selection import StratifiedKFold\n",
        "\n",
        "from sklearn.ensemble import AdaBoostClassifier\n",
        "\n",
        "\n",
        "from sklearn.metrics import accuracy_score, roc_auc_score, roc_curve, auc, confusion_matrix, f1_score\n",
        "\n",
        "from sklearn.preprocessing import LabelBinarizer\n",
        "\n",
        "\n",
        "from mpl_toolkits.mplot3d import Axes3D\n",
        "from sklearn.cluster import KMeans\n",
        "from sklearn.dummy import DummyClassifier\n",
        "from sklearn.decomposition import PCA\n",
        "from sklearn.mixture import GaussianMixture\n"
      ]
    },
    {
      "cell_type": "code",
      "execution_count": null,
      "metadata": {
        "id": "T2QE9DNlpcup"
      },
      "outputs": [],
      "source": [
        "df={}\n",
        "df[0] = pd.read_csv(\"/content/drive/MyDrive/dataset/antV2/5.csv\")\n",
        "df[1] = pd.read_csv(\"/content/drive/MyDrive/dataset/camelV1/4.csv\")\n",
        "df[2] = pd.read_csv(\"/content/drive/MyDrive/dataset/ivy/3.csv\")\n",
        "df[3] = pd.read_csv(\"/content/drive/MyDrive/dataset/jeditV2/5.csv\")\n",
        "df[4] = pd.read_csv(\"/content/drive/MyDrive/dataset/log4j/3.csv\")\n",
        "df[5] = pd.read_csv(\"/content/drive/MyDrive/dataset/lucene/3.csv\")\n",
        "df[6] = pd.read_csv(\"/content/drive/MyDrive/dataset/poiV1/4.csv\")\n",
        "df[7] = pd.read_csv(\"/content/drive/MyDrive/dataset/synapse/3.csv\")\n",
        "df[8]  = pd.read_csv(\"/content/drive/MyDrive/dataset/velocity/3.csv\")\n",
        "df[9] = pd.read_csv(\"/content/drive/MyDrive/dataset/xercesV1/4.csv\")\n",
        "for i in range(10):\n",
        "  df[i] = df[i].drop(columns=['name','version','name.1'])"
      ]
    },
    {
      "cell_type": "markdown",
      "metadata": {
        "id": "VHm0xJAYaP02"
      },
      "source": [
        "# Visualizing data"
      ]
    },
    {
      "cell_type": "markdown",
      "metadata": {
        "id": "RBBU8VS2cOna"
      },
      "source": [
        "Let's see every label in histogram graphs and make analysis for what we will do in next steps"
      ]
    },
    {
      "cell_type": "code",
      "execution_count": null,
      "metadata": {
        "id": "wnWTfdBqaieJ"
      },
      "outputs": [],
      "source": [
        "for i in range(10):\n",
        "  for col in df[i].columns:\n",
        "    plt.hist(df[i][col],rwidth=0.9,alpha=0.3,color='blue',bins=20,edgecolor='red')\n",
        "    plt.title(col)\n",
        "    plt.show()\n",
        "  print(i)"
      ]
    },
    {
      "cell_type": "markdown",
      "metadata": {
        "id": "7vsU2ql0mNMA"
      },
      "source": [
        "As we see"
      ]
    },
    {
      "cell_type": "markdown",
      "metadata": {
        "id": "GJXv0suiBNHV"
      },
      "source": [
        "# Detecting and treating outliers"
      ]
    },
    {
      "cell_type": "code",
      "execution_count": null,
      "metadata": {
        "id": "BEgTxK-6ib51"
      },
      "outputs": [],
      "source": [
        "for i in range(10):\n",
        "  for col in (df[i].columns):\n",
        "    if col == 'bug':\n",
        "      continue\n",
        "    q1=df[i][col].quantile(0.25)\n",
        "    q3=df[i][col].quantile(0.75)\n",
        "    IQR=q3-q1\n",
        "    lowLim = q1 - 1.5 * IQR\n",
        "    upLim = q3 + 1.5 * IQR\n",
        "    df[i][col][ (df[i][col] > upLim) | (df[i][col] < lowLim)] = df[i][col].mean()"
      ]
    },
    {
      "cell_type": "markdown",
      "metadata": {
        "id": "8OOuyblpCDua"
      },
      "source": [
        "# Shapes of datasets after treating outliers"
      ]
    },
    {
      "cell_type": "code",
      "execution_count": null,
      "metadata": {
        "id": "5mdm_oR-_49C"
      },
      "outputs": [],
      "source": [
        "for i in range(10):\n",
        "  print(df[i].shape)"
      ]
    },
    {
      "cell_type": "code",
      "execution_count": null,
      "metadata": {
        "id": "SWtnezrrfQrc"
      },
      "outputs": [],
      "source": [
        "print(df[1]['bug'])"
      ]
    },
    {
      "cell_type": "markdown",
      "metadata": {
        "id": "pHOdNrf4f-8J"
      },
      "source": [
        "# İlk Datasetin Scale, Feature Selection ve Modelling işlemleri"
      ]
    },
    {
      "cell_type": "code",
      "execution_count": null,
      "metadata": {
        "id": "PnK51bexgGzd"
      },
      "outputs": [],
      "source": [
        "# Shuffle data before removing classname to keep mapping\n",
        "dfantV2 = df[0].sample(frac=1.0)\n",
        "\n",
        "# We do not need confusing variables such as the class name; We can use it as an index or leave it.\n",
        "X = dfantV2.iloc[:, :-1]\n",
        "y = dfantV2[\"bug\"]\n",
        "\n",
        "print(\"X:\", X.shape)\n",
        "print(\"y:\", y.shape)"
      ]
    },
    {
      "cell_type": "code",
      "execution_count": null,
      "metadata": {
        "id": "vNWnAkHnggMv"
      },
      "outputs": [],
      "source": [
        "dfantV2.describe()"
      ]
    },
    {
      "cell_type": "code",
      "execution_count": null,
      "metadata": {
        "id": "S7ucN0-dgug7"
      },
      "outputs": [],
      "source": [
        "X.head()"
      ]
    },
    {
      "cell_type": "code",
      "execution_count": null,
      "metadata": {
        "id": "N0bJ-1eOh6Ij"
      },
      "outputs": [],
      "source": [
        "y.head()"
      ]
    },
    {
      "cell_type": "code",
      "execution_count": null,
      "metadata": {
        "id": "C12467jwhqsM"
      },
      "outputs": [],
      "source": [
        "#Label convert binary \n",
        "y = np.where((y > 1), 1, y) \n",
        "y = pd.Series(y)"
      ]
    },
    {
      "cell_type": "code",
      "execution_count": null,
      "metadata": {
        "id": "VCVGYsighteQ"
      },
      "outputs": [],
      "source": [
        "print([y > 1])"
      ]
    },
    {
      "cell_type": "code",
      "execution_count": null,
      "metadata": {
        "id": "kdIubfF6h1WP"
      },
      "outputs": [],
      "source": [
        "#Class Balance: we can see bugs rate\n",
        "unique, counts = np.unique(y, return_counts=True)\n",
        "print(\"Classes:\", unique.tolist())\n",
        "print(\"Counts:\", counts.tolist())\n",
        "\n",
        "plt.bar(unique, counts, color=['g', 'orange'], alpha=0.7)\n",
        "plt.title(\"#Bugs VS Occurrences\")\n",
        "plt.xticks(range(len(unique)))\n",
        "plt.ylabel(\"Occurrences\")\n",
        "plt.xlabel(\"# Bugs\");"
      ]
    },
    {
      "cell_type": "code",
      "execution_count": null,
      "metadata": {
        "colab": {
          "base_uri": "https://localhost:8080/"
        },
        "id": "C8oYXUWzipO9",
        "outputId": "d93505be-4493-419d-a4b3-4510923fe502"
      },
      "outputs": [
        {
          "name": "stdout",
          "output_type": "stream",
          "text": [
            "Train: (521, 20) (521,) Test: (112, 20) (112,) Cross Validation (112, 20) (112,)\n"
          ]
        }
      ],
      "source": [
        "#Splitting data train, test, and cross validation\n",
        "from sklearn.model_selection import train_test_split\n",
        "X_train, X_test, y_train, y_test = train_test_split(X, y, test_size=0.3)\n",
        "X_cv, X_test, y_cv, y_test = train_test_split(X_test, y_test, test_size=0.5)\n",
        "print(\"Train:\", X_train.shape, y_train.shape,\n",
        "      \"Test:\", X_test.shape, y_test.shape,\n",
        "      \"Cross Validation\", X_cv.shape, y_cv.shape)"
      ]
    },
    {
      "cell_type": "code",
      "execution_count": null,
      "metadata": {
        "id": "3Vc1VQxQizuI"
      },
      "outputs": [],
      "source": [
        "#we can see y_train bugs rate\n",
        "unique, counts = np.unique(y_train, return_counts=True)\n",
        "print(\"Classes:\", unique.tolist())\n",
        "print(\"Counts:\", counts.tolist())\n",
        "\n",
        "plt.bar(unique, counts, color=['g', 'orange'], alpha=0.7)\n",
        "plt.title(\"#Bugs VS Occurrences\")\n",
        "plt.xticks(range(len(unique)))\n",
        "plt.ylabel(\"Occurrences\")\n",
        "plt.xlabel(\"# Bugs\");"
      ]
    },
    {
      "cell_type": "code",
      "execution_count": null,
      "metadata": {
        "colab": {
          "base_uri": "https://localhost:8080/"
        },
        "id": "rAmqUCZJnmvY",
        "outputId": "2b991c37-7080-4b3e-b250-dfcf18bb0822"
      },
      "outputs": [
        {
          "name": "stdout",
          "output_type": "stream",
          "text": [
            "Train: (521, 20) (521,) Test: (112, 20) (112,) Cross Validation (112, 20) (112,)\n"
          ]
        }
      ],
      "source": [
        "#Scaling features\n",
        "X_train_scaled = pd.DataFrame(StandardScaler().fit_transform(X_train.values), columns=X_train.columns, index=X_train.index)\n",
        "X_test_scaled = pd.DataFrame(StandardScaler().fit_transform(X_test.values), columns=X_test.columns, index=X_test.index)\n",
        "\n",
        "data_for_viz = X_train_scaled.copy()\n",
        "data_for_viz_unscaled = X_train.copy()\n",
        "\n",
        "data_for_viz['Bugs'] = y_train.copy().tolist()\n",
        "data_for_viz_unscaled['Bugs'] = y_train.copy().tolist()\n",
        "\n",
        "print(\"Train:\", X_train.shape, y_train.shape,\n",
        "      \"Test:\", X_test.shape, y_test.shape,\n",
        "      \"Cross Validation\", X_cv.shape, y_cv.shape)"
      ]
    },
    {
      "cell_type": "code",
      "execution_count": null,
      "metadata": {
        "id": "FfBQhTKvn61p"
      },
      "outputs": [],
      "source": [
        "data_for_viz.head()"
      ]
    },
    {
      "cell_type": "code",
      "execution_count": null,
      "metadata": {
        "id": "vHSf4qRuoKHf"
      },
      "outputs": [],
      "source": [
        "#Correlation matrix\n",
        "fig, ax = plt.subplots(figsize=(10,8))\n",
        "\n",
        "corr = data_for_viz.corr()\n",
        "mask = np.triu(corr)\n",
        "sns.heatmap(corr, vmin=-1, vmax=1, center= 0, cmap= 'Pastel2', linewidths=3, ax=ax, mask=mask);\n",
        "\n",
        "#We can see that highest correlated variables with Bugs are:\n",
        "\n",
        "#1) wmc \n",
        "# highest correlated with rfc, npm, loc, ce, dam, "
      ]
    },
    {
      "cell_type": "code",
      "execution_count": null,
      "metadata": {
        "id": "n4NOWYa_pmlN"
      },
      "outputs": [],
      "source": [
        "#Feature Importance / Selection\n",
        "rfc = RandomForestClassifier()\n",
        "rfc.fit(X_train, y_train);\n",
        "coef_rfc = pd.Series(rfc.feature_importances_, index = X_train.columns)"
      ]
    },
    {
      "cell_type": "code",
      "execution_count": null,
      "metadata": {
        "colab": {
          "base_uri": "https://localhost:8080/"
        },
        "id": "ADu4ExL_pvR-",
        "outputId": "0df415a8-2177-4840-b8c2-528aff4e9df7"
      },
      "outputs": [
        {
          "name": "stdout",
          "output_type": "stream",
          "text": [
            "accuracy score: 1.0\n"
          ]
        }
      ],
      "source": [
        "preds = rfc.predict(X_train)\n",
        "print(\"accuracy score:\", accuracy_score(y_train, preds))\n",
        "#Acc is high and its normal because of only x_train modelling"
      ]
    },
    {
      "cell_type": "code",
      "execution_count": null,
      "metadata": {
        "id": "NUH5olzPp9t2"
      },
      "outputs": [],
      "source": [
        "coef_rfc.sort_values()[7:].plot(kind='barh', cmap=\"Pastel2\");"
      ]
    },
    {
      "cell_type": "code",
      "execution_count": null,
      "metadata": {
        "id": "s9NbGE6aqtVI"
      },
      "outputs": [],
      "source": [
        "data_for_viz_unscaled.head()"
      ]
    },
    {
      "cell_type": "code",
      "execution_count": null,
      "metadata": {
        "id": "rh13EFoEqta8"
      },
      "outputs": [],
      "source": [
        "for_pair_plot = data_for_viz_unscaled[['rfc', 'lcom', 'loc','amc', 'cam', 'ce','wmc','cbo','avg_cc','lcom3','max_cc','Bugs']]\n",
        "pairplot = sns.pairplot(for_pair_plot, hue=\"Bugs\", vars=['rfc', 'lcom', 'loc','amc', 'cam', 'ce','wmc','cbo','avg_cc','lcom3','max_cc']);\n",
        "pairplot.fig.suptitle(\"Scatter w.r.t classes: 0, > 1 Bugs\", y=1.02);\n",
        "\n"
      ]
    },
    {
      "cell_type": "code",
      "execution_count": null,
      "metadata": {
        "id": "P8hCBiJuwMvz"
      },
      "outputs": [],
      "source": [
        "#MODELING\n",
        "def Modeler(model, X_train, y_train, X_cv, y_cv, params, scale=True, n_jobs=True, pca=False):\n",
        "    \n",
        "    if scale & pca:\n",
        "        pipeline = Pipeline([\n",
        "            ('scale', StandardScaler()),\n",
        "            ('dim_reduct', PCA(n_components=4)),\n",
        "            ('clf', model())])\n",
        "        print(\"Scaling and dim reduct...\")\n",
        "        \n",
        "    elif scale:\n",
        "        pipeline = Pipeline([ ('scale', StandardScaler()), ('clf', model())])\n",
        "        \n",
        "    elif pca:\n",
        "        pipeline = Pipeline([\n",
        "        ('dim_reduct', PCA(n_components=pca)),\n",
        "        ('clf', model())])\n",
        "    else:\n",
        "        pipeline = Pipeline([('clf', model())])\n",
        "        \n",
        "    grid = GridSearchCV(pipeline, param_grid = params, cv=3, n_jobs=4, refit=True)\n",
        "    grid.fit(X_cv, y_cv)\n",
        "    \n",
        "    best_prameters = {}\n",
        "    for k, v in grid.best_params_.items():\n",
        "        best_prameters[k[5:]] = v\n",
        "\n",
        "    if n_jobs:\n",
        "        model = model(**best_prameters, n_jobs=4)\n",
        "    else:\n",
        "        model = model(**best_prameters)\n",
        "   \n",
        "    model.fit(X_train, y_train)\n",
        "    \n",
        "    print(\"Best Parameters for model:\", best_prameters)\n",
        "\n",
        "    return {\n",
        "        \"model\": model, \n",
        "        \"best_params\":best_prameters\n",
        "    }"
      ]
    },
    {
      "cell_type": "code",
      "execution_count": null,
      "metadata": {
        "id": "SfWaLXZhwPgH"
      },
      "outputs": [],
      "source": [
        "def model_eval(model, X_test, y_test, acc=True, auc_=True, plot_conf=True, plot_auc=True, multi=True, f1=True, prop=False):\n",
        "    \n",
        "    res = [None, None, None] # Accuracy, auc_roc, f1_score\n",
        "    y_pred = model.predict(X_test)\n",
        "    \n",
        "    if prop:\n",
        "        y_pred = np.where(y_pred > 0.5, 1, 0)\n",
        "    \n",
        "    if f1:\n",
        "        f_sc = f1_score(y_test, y_pred, average='macro')\n",
        "        res[2] = f_sc\n",
        "        \n",
        "    if acc:\n",
        "        res[0] = accuracy_score(y_test, y_pred)\n",
        "#         print('accuracy:', res[0] * 100 ,'%')\n",
        "\n",
        "    if auc_:\n",
        "        lb = LabelBinarizer()\n",
        "        lb.fit(y_test)\n",
        "\n",
        "        truth = lb.transform(y_test)\n",
        "        y_pred_encode = lb.transform(y_pred)\n",
        "\n",
        "        res[1] = roc_auc_score(truth, y_pred_encode, average = 'macro')\n",
        "#         print('ROC:', res[1] * 100 ,'%')\n",
        "\n",
        "    if plot_conf:\n",
        "        fig, ax = plt.subplots(figsize=(10,6))\n",
        "\n",
        "        conf = confusion_matrix(y_test, y_pred, labels=np.unique(y_test))\n",
        "        sns.heatmap(conf, cmap= 'Set1', annot=True, cbar=False)\n",
        "        plt.ylabel('Actual')\n",
        "        plt.xlabel('Predicted')\n",
        "        plt.title('Confusion Matrix');\n",
        "    \n",
        "    if plot_auc:\n",
        "        fig, ax = plt.subplots(figsize=(10,6))\n",
        "\n",
        "        if not auc_:\n",
        "            lb = LabelBinarizer()\n",
        "            lb.fit(y_test)\n",
        "\n",
        "            truth = lb.transform(y_test)\n",
        "            y_pred_encode = lb.transform(y_pred)\n",
        "\n",
        "        fpr = [None, None, None]\n",
        "        tpr = [None, None, None]\n",
        "        auc_of_roc = [None, None, None]\n",
        "        \n",
        "         \n",
        "        n_classes = 1 #(0, 1)\n",
        "        if multi:\n",
        "            n_classes = 3\n",
        "\n",
        "        for i in range(n_classes):\n",
        "            fpr[i], tpr[i], _ = roc_curve(truth[:, i], y_pred_encode[:, i])\n",
        "            auc_of_roc[i] = auc(fpr[i], tpr[i])\n",
        "            \n",
        "        plt.plot(fpr[0], tpr[0], label='0 - area under ROC = %0.3f' % auc_of_roc[0])\n",
        "        if multi:\n",
        "            plt.plot(fpr[1], tpr[1], label='1 - area under ROC = %0.3f' % auc_of_roc[1])\n",
        "\n",
        "        plt.xlabel('False Positive Rate')\n",
        "        plt.ylabel('True Positive Rate')\n",
        "        plt.title(\"ROC AUC\");\n",
        "        plt.legend()\n",
        "\n",
        "    return res"
      ]
    },
    {
      "cell_type": "code",
      "execution_count": null,
      "metadata": {
        "id": "L3llyQ5l1ieS"
      },
      "outputs": [],
      "source": [
        "X_train_scaled_featured = X_train_scaled[['rfc', 'lcom', 'loc','amc', 'cam', 'ce','wmc','cbo','avg_cc','lcom3','max_cc']]\n",
        "X_test_scaled_featured = X_test_scaled[['rfc', 'lcom', 'loc','amc', 'cam', 'ce','wmc','cbo','avg_cc','lcom3','max_cc']]\n",
        "X_cv_featured = X_cv[['rfc', 'lcom', 'loc','amc', 'cam', 'ce','wmc','cbo','avg_cc','lcom3','max_cc']]\n"
      ]
    },
    {
      "cell_type": "code",
      "execution_count": null,
      "metadata": {
        "id": "103JK35FwUgV"
      },
      "outputs": [],
      "source": [
        "from imblearn.over_sampling import SMOTE\n",
        "X_train_over_sampled, y_train_over_sampled = SMOTE().fit_resample(X_train_scaled_featured, y_train)\n",
        "X_cv_over_sampled, y_cv_over_sampled = SMOTE().fit_resample(X_cv_featured , y_cv)"
      ]
    },
    {
      "cell_type": "code",
      "execution_count": null,
      "metadata": {
        "id": "H1a1UhvGwWZu"
      },
      "outputs": [],
      "source": [
        "# print((y_train_over_sampled == 1).sum())\n",
        "# print((y_train_over_sampled == 0).sum())\n",
        "\n",
        "# print((y_cv_over_sampled == 1).sum())\n",
        "# print((y_cv_over_sampled == 0).sum())\n",
        "\n",
        "X_train_over_sampled = pd.DataFrame(X_train_over_sampled)\n",
        "X_cv_over_sampled = pd.DataFrame(X_cv_over_sampled)\n",
        "\n",
        "y_train_over_sampled = pd.Series(y_train_over_sampled)\n",
        "y_cv_over_sampled = pd.Series(y_cv_over_sampled)"
      ]
    },
    {
      "cell_type": "code",
      "execution_count": null,
      "metadata": {
        "colab": {
          "base_uri": "https://localhost:8080/"
        },
        "id": "9zgFhGFnwYDT",
        "outputId": "391eac01-14b6-48aa-e10b-81975ca318ba"
      },
      "outputs": [
        {
          "name": "stdout",
          "output_type": "stream",
          "text": [
            "Best Parameters for model: {'C': 1, 'gamma': 1, 'kernel': 'rbf'}\n"
          ]
        }
      ],
      "source": [
        "# SVC()\n",
        "svc_params = {\n",
        "    'clf__C': [0.1, 1, 10],\n",
        "    'clf__kernel': ['linear', 'rbf'],\n",
        "    'clf__gamma':[1, 0.01, 0.001]\n",
        "}\n",
        "\n",
        "svc = Modeler(SVC, X_train_over_sampled, y_train_over_sampled, X_cv_over_sampled, y_cv_over_sampled, svc_params, scale=True, n_jobs=False)"
      ]
    },
    {
      "cell_type": "code",
      "execution_count": null,
      "metadata": {
        "id": "7d9GkxoRwZhF"
      },
      "outputs": [],
      "source": [
        "model_scoring = model_eval(svc[\"model\"], X_test_scaled_featured, y_test, multi=False)\n",
        "scores = {}\n",
        "scores[\"Support-Vector Machine | Binary\"] = {\"Accuracy\": model_scoring[0],\n",
        "                             \"ROC\": model_scoring[1],\n",
        "                             \"F1-Score\": model_scoring[2]}"
      ]
    },
    {
      "cell_type": "code",
      "execution_count": null,
      "metadata": {
        "id": "VhW_SS6_ws5O"
      },
      "outputs": [],
      "source": [
        "#KNN\n",
        "knn_params = {\n",
        "    'clf__n_neighbors': [3, 5, 11, 17], # Try not to put even numbers\n",
        "    'clf__weights': ['uniform', 'distance'],\n",
        "    'clf__metric': ['euclidean', 'manhattan'],\n",
        "}\n",
        "\n",
        "knn = Modeler(KNeighborsClassifier,X_train_over_sampled, y_train_over_sampled, X_cv_over_sampled, y_cv_over_sampled, knn_params, scale=True)"
      ]
    },
    {
      "cell_type": "code",
      "execution_count": null,
      "metadata": {
        "id": "rKVRfCuDwuRZ"
      },
      "outputs": [],
      "source": [
        "model_scoring = model_eval(knn[\"model\"], X_test_scaled_featured, y_test, multi=False)\n",
        "scores[\"K-Nearest Neighbor | Binary\"] = {\"Accuracy\": model_scoring[0],\n",
        "                             \"ROC\": model_scoring[1],\n",
        "                             \"F1-Score\": model_scoring[2]}"
      ]
    },
    {
      "cell_type": "code",
      "execution_count": null,
      "metadata": {
        "colab": {
          "base_uri": "https://localhost:8080/"
        },
        "id": "9_3PoodD93oB",
        "outputId": "548b5f7c-820a-4e8a-fa49-7a231daa7e2b"
      },
      "outputs": [
        {
          "name": "stdout",
          "output_type": "stream",
          "text": [
            "Best Parameters for model: {'criterion': 'gini', 'max_depth': 20, 'max_features': 0.4, 'n_estimators': 500}\n"
          ]
        }
      ],
      "source": [
        "#RANDOM FOREST\n",
        "rfc_params = {\n",
        "    'clf__n_estimators'      : [200, 500, 1000],\n",
        "    'clf__max_depth'         : [10, 20, 50],\n",
        "    'clf__max_features': [1.0, 0.7, 0.4],\n",
        "    'clf__criterion' :['gini', 'entropy']\n",
        "}\n",
        "\n",
        "rfc = Modeler(RandomForestClassifier, X_train_over_sampled, y_train_over_sampled, X_cv_over_sampled, y_cv_over_sampled, rfc_params, scale=True) "
      ]
    },
    {
      "cell_type": "code",
      "execution_count": null,
      "metadata": {
        "id": "X_ilDsiI97fE"
      },
      "outputs": [],
      "source": [
        "model_scoring = model_eval(rfc[\"model\"], X_test_scaled_featured, y_test, multi=False)\n",
        "scores[\"Random Forest | Binary\"] = {\"Accuracy\": model_scoring[0],\n",
        "                             \"ROC\": model_scoring[1],\n",
        "                             \"F1-Score\": model_scoring[2]}"
      ]
    },
    {
      "cell_type": "code",
      "execution_count": null,
      "metadata": {
        "colab": {
          "base_uri": "https://localhost:8080/"
        },
        "id": "U08c2tYGJ0u0",
        "outputId": "6309cf28-6235-4926-a6bd-4c5a7f841816"
      },
      "outputs": [
        {
          "name": "stdout",
          "output_type": "stream",
          "text": [
            "Best Parameters for model: {'learning_rate': 0.1, 'n_estimators': 100}\n"
          ]
        }
      ],
      "source": [
        "#ADA BOOST\n",
        "# AdaBoostClassifier\n",
        "ada_params = {\n",
        "    'clf__learning_rate': [0.1, 0.5, 1.0],\n",
        "    'clf__n_estimators': [100, 200]\n",
        "}\n",
        "\n",
        "ada = Modeler(AdaBoostClassifier, X_train_over_sampled, y_train_over_sampled, X_cv_over_sampled, y_cv_over_sampled, ada_params, scale=True, n_jobs=False)"
      ]
    },
    {
      "cell_type": "code",
      "execution_count": null,
      "metadata": {
        "id": "42_rjqEnJ3yz"
      },
      "outputs": [],
      "source": [
        "model_scoring = model_eval(ada[\"model\"], X_test_scaled_featured, y_test, multi=False)\n",
        "scores[\"AdaBoost Classifier | Binary\"] = {\"Accuracy\": model_scoring[0],\n",
        "                             \"ROC\": model_scoring[1],\n",
        "                             \"F1-Score\": model_scoring[2]}"
      ]
    },
    {
      "cell_type": "code",
      "execution_count": null,
      "metadata": {
        "id": "jWVkrNkVwwwR"
      },
      "outputs": [],
      "source": [
        "score_df = pd.DataFrame.from_dict(scores).T\n",
        "score_df= score_df.sort_values('ROC', ascending=False)"
      ]
    },
    {
      "cell_type": "code",
      "execution_count": null,
      "metadata": {
        "id": "xokSEsB4wyUw"
      },
      "outputs": [],
      "source": [
        "score_df"
      ]
    },
    {
      "cell_type": "markdown",
      "metadata": {
        "id": "h199bc7AmaSj"
      },
      "source": [
        "# İkinci Dataset\n"
      ]
    },
    {
      "cell_type": "code",
      "execution_count": null,
      "metadata": {
        "id": "moslyx5fKjTH"
      },
      "outputs": [],
      "source": [
        "# Shuffle data before removing classname to keep mapping\n",
        "camelV1 = df[1].sample(frac=1.0)\n",
        "\n",
        "# We do not need confusing variables such as the class name; We can use it as an index or leave it.\n",
        "X = camelV1.iloc[:, :-1]\n",
        "y = camelV1[\"bug\"]\n",
        "\n",
        "print(\"X:\", X.shape)\n",
        "print(\"y:\", y.shape)"
      ]
    },
    {
      "cell_type": "code",
      "execution_count": null,
      "metadata": {
        "id": "wO8khi_PKjTH"
      },
      "outputs": [],
      "source": [
        "camelV1.describe()"
      ]
    },
    {
      "cell_type": "code",
      "execution_count": null,
      "metadata": {
        "id": "ZkacPT4eKjTH"
      },
      "outputs": [],
      "source": [
        "X.head()"
      ]
    },
    {
      "cell_type": "code",
      "execution_count": null,
      "metadata": {
        "id": "pPFnT9UhKjTI"
      },
      "outputs": [],
      "source": [
        "y.head()"
      ]
    },
    {
      "cell_type": "code",
      "execution_count": null,
      "metadata": {
        "id": "vjp-x85xKjTI"
      },
      "outputs": [],
      "source": [
        "#Label convert binary \n",
        "y = np.where((y > 1), 1, y) \n",
        "y = pd.Series(y)"
      ]
    },
    {
      "cell_type": "code",
      "execution_count": null,
      "metadata": {
        "id": "8lIiLR1mKjTI"
      },
      "outputs": [],
      "source": [
        "print([y > 1])"
      ]
    },
    {
      "cell_type": "code",
      "execution_count": null,
      "metadata": {
        "id": "kxJnAgCZKjTI"
      },
      "outputs": [],
      "source": [
        "#Class Balance: we can see bugs rate\n",
        "unique, counts = np.unique(y, return_counts=True)\n",
        "print(\"Classes:\", unique.tolist())\n",
        "print(\"Counts:\", counts.tolist())\n",
        "\n",
        "plt.bar(unique, counts, color=['g', 'orange'], alpha=0.7)\n",
        "plt.title(\"#Bugs VS Occurrences\")\n",
        "plt.xticks(range(len(unique)))\n",
        "plt.ylabel(\"Occurrences\")\n",
        "plt.xlabel(\"# Bugs\");"
      ]
    },
    {
      "cell_type": "code",
      "execution_count": null,
      "metadata": {
        "id": "ZXk1Lh-mKjTI"
      },
      "outputs": [],
      "source": [
        "#Splitting data train, test, and cross validation\n",
        "from sklearn.model_selection import train_test_split\n",
        "X_train, X_test, y_train, y_test = train_test_split(X, y, test_size=0.3)\n",
        "X_cv, X_test, y_cv, y_test = train_test_split(X_test, y_test, test_size=0.5)\n",
        "print(\"Train:\", X_train.shape, y_train.shape,\n",
        "      \"Test:\", X_test.shape, y_test.shape,\n",
        "      \"Cross Validation\", X_cv.shape, y_cv.shape)"
      ]
    },
    {
      "cell_type": "code",
      "execution_count": null,
      "metadata": {
        "id": "r_cstR6RKjTI"
      },
      "outputs": [],
      "source": [
        "#we can see y_train bugs rate\n",
        "unique, counts = np.unique(y_train, return_counts=True)\n",
        "print(\"Classes:\", unique.tolist())\n",
        "print(\"Counts:\", counts.tolist())\n",
        "\n",
        "plt.bar(unique, counts, color=['g', 'orange'], alpha=0.7)\n",
        "plt.title(\"#Bugs VS Occurrences\")\n",
        "plt.xticks(range(len(unique)))\n",
        "plt.ylabel(\"Occurrences\")\n",
        "plt.xlabel(\"# Bugs\");"
      ]
    },
    {
      "cell_type": "code",
      "execution_count": null,
      "metadata": {
        "colab": {
          "base_uri": "https://localhost:8080/"
        },
        "id": "iF-E7Q2iKjTJ",
        "outputId": "8b0a17cc-c43c-4051-d444-762c71f238d3"
      },
      "outputs": [
        {
          "name": "stdout",
          "output_type": "stream",
          "text": [
            "Train: (675, 20) (675,) Test: (145, 20) (145,) Cross Validation (145, 20) (145,)\n"
          ]
        }
      ],
      "source": [
        "#Scaling features\n",
        "X_train_scaled = pd.DataFrame(StandardScaler().fit_transform(X_train.values), columns=X_train.columns, index=X_train.index)\n",
        "X_test_scaled = pd.DataFrame(StandardScaler().fit_transform(X_test.values), columns=X_test.columns, index=X_test.index)\n",
        "\n",
        "data_for_viz = X_train_scaled.copy()\n",
        "data_for_viz_unscaled = X_train.copy()\n",
        "\n",
        "data_for_viz['Bugs'] = y_train.copy().tolist()\n",
        "data_for_viz_unscaled['Bugs'] = y_train.copy().tolist()\n",
        "\n",
        "print(\"Train:\", X_train.shape, y_train.shape,\n",
        "      \"Test:\", X_test.shape, y_test.shape,\n",
        "      \"Cross Validation\", X_cv.shape, y_cv.shape)"
      ]
    },
    {
      "cell_type": "code",
      "execution_count": null,
      "metadata": {
        "id": "fr-JdWlQKjTJ"
      },
      "outputs": [],
      "source": [
        "data_for_viz.head()"
      ]
    },
    {
      "cell_type": "code",
      "execution_count": null,
      "metadata": {
        "id": "4-85yZNsKjTJ"
      },
      "outputs": [],
      "source": [
        "#Correlation matrix\n",
        "fig, ax = plt.subplots(figsize=(10,8))\n",
        "\n",
        "corr = data_for_viz.corr()\n",
        "mask = np.triu(corr)\n",
        "sns.heatmap(corr, vmin=-1, vmax=1, center= 0, cmap= 'Pastel2', linewidths=3, ax=ax, mask=mask);\n",
        "\n",
        "#We can see that highest correlated variables with Bugs are:\n",
        "\n",
        "#1) wmc \n",
        "# highest correlated with rfc, npm, loc, ce, dam, "
      ]
    },
    {
      "cell_type": "code",
      "execution_count": null,
      "metadata": {
        "id": "ZqvDckj1KjTJ"
      },
      "outputs": [],
      "source": [
        "#Feature Importance / Selection\n",
        "rfc = RandomForestClassifier()\n",
        "rfc.fit(X_train, y_train);\n",
        "coef_rfc = pd.Series(rfc.feature_importances_, index = X_train.columns)"
      ]
    },
    {
      "cell_type": "code",
      "execution_count": null,
      "metadata": {
        "colab": {
          "base_uri": "https://localhost:8080/"
        },
        "id": "n1OeS5QOKjTJ",
        "outputId": "bee1c46b-8b7d-4d12-f5c8-e0bbb53b40cf"
      },
      "outputs": [
        {
          "name": "stdout",
          "output_type": "stream",
          "text": [
            "accuracy score: 0.9955555555555555\n"
          ]
        }
      ],
      "source": [
        "preds = rfc.predict(X_train)\n",
        "print(\"accuracy score:\", accuracy_score(y_train, preds))\n",
        "#Acc is high and its normal because of only x_train modelling"
      ]
    },
    {
      "cell_type": "code",
      "execution_count": null,
      "metadata": {
        "id": "MLSjqrnRKjTK"
      },
      "outputs": [],
      "source": [
        "coef_rfc.sort_values()[7:].plot(kind='barh', cmap=\"Pastel2\");"
      ]
    },
    {
      "cell_type": "code",
      "execution_count": null,
      "metadata": {
        "id": "1KUFTF6BKjTK"
      },
      "outputs": [],
      "source": [
        "data_for_viz_unscaled.head()"
      ]
    },
    {
      "cell_type": "code",
      "execution_count": null,
      "metadata": {
        "id": "IOSkzayrKjTK"
      },
      "outputs": [],
      "source": [
        "for_pair_plot = data_for_viz_unscaled[['lcom3', 'cbo', 'loc','amc', 'ca', 'avg_cc','cam','ce','rfc','mfa','npm', 'Bugs']]\n",
        "pairplot = sns.pairplot(for_pair_plot, hue=\"Bugs\", vars=['lcom3', 'cbo', 'loc','amc', 'ca', 'avg_cc','cam','ce','rfc','mfa','npm']);\n",
        "pairplot.fig.suptitle(\"Scatter w.r.t classes: 0, > 1 Bugs\", y=1.02);\n",
        "\n"
      ]
    },
    {
      "cell_type": "code",
      "execution_count": null,
      "metadata": {
        "id": "f4sI_EMCKjTK"
      },
      "outputs": [],
      "source": [
        "#MODELING\n",
        "def Modeler(model, X_train, y_train, X_cv, y_cv, params, scale=True, n_jobs=True, pca=False):\n",
        "    \n",
        "    if scale & pca:\n",
        "        pipeline = Pipeline([\n",
        "            ('scale', StandardScaler()),\n",
        "            ('dim_reduct', PCA(n_components=4)),\n",
        "            ('clf', model())])\n",
        "        print(\"Scaling and dim reduct...\")\n",
        "        \n",
        "    elif scale:\n",
        "        pipeline = Pipeline([ ('scale', StandardScaler()), ('clf', model())])\n",
        "        \n",
        "    elif pca:\n",
        "        pipeline = Pipeline([\n",
        "        ('dim_reduct', PCA(n_components=pca)),\n",
        "        ('clf', model())])\n",
        "    else:\n",
        "        pipeline = Pipeline([('clf', model())])\n",
        "        \n",
        "    grid = GridSearchCV(pipeline, param_grid = params, cv=3, n_jobs=4, refit=True)\n",
        "    grid.fit(X_cv, y_cv)\n",
        "    \n",
        "    best_prameters = {}\n",
        "    for k, v in grid.best_params_.items():\n",
        "        best_prameters[k[5:]] = v\n",
        "\n",
        "    if n_jobs:\n",
        "        model = model(**best_prameters, n_jobs=4)\n",
        "    else:\n",
        "        model = model(**best_prameters)\n",
        "   \n",
        "    model.fit(X_train, y_train)\n",
        "    \n",
        "    print(\"Best Parameters for model:\", best_prameters)\n",
        "\n",
        "    return {\n",
        "        \"model\": model, \n",
        "        \"best_params\":best_prameters\n",
        "    }"
      ]
    },
    {
      "cell_type": "code",
      "execution_count": null,
      "metadata": {
        "id": "5lE5GU5DKjTK"
      },
      "outputs": [],
      "source": [
        "def model_eval(model, X_test, y_test, acc=True, auc_=True, plot_conf=True, plot_auc=True, multi=True, f1=True, prop=False):\n",
        "    \n",
        "    res = [None, None, None] # Accuracy, auc_roc, f1_score\n",
        "    y_pred = model.predict(X_test)\n",
        "    \n",
        "    if prop:\n",
        "        y_pred = np.where(y_pred > 0.5, 1, 0)\n",
        "    \n",
        "    if f1:\n",
        "        f_sc = f1_score(y_test, y_pred, average='macro')\n",
        "        res[2] = f_sc\n",
        "        \n",
        "    if acc:\n",
        "        res[0] = accuracy_score(y_test, y_pred)\n",
        "#         print('accuracy:', res[0] * 100 ,'%')\n",
        "\n",
        "    if auc_:\n",
        "        lb = LabelBinarizer()\n",
        "        lb.fit(y_test)\n",
        "\n",
        "        truth = lb.transform(y_test)\n",
        "        y_pred_encode = lb.transform(y_pred)\n",
        "\n",
        "        res[1] = roc_auc_score(truth, y_pred_encode, average = 'macro')\n",
        "#         print('ROC:', res[1] * 100 ,'%')\n",
        "\n",
        "    if plot_conf:\n",
        "        fig, ax = plt.subplots(figsize=(10,6))\n",
        "\n",
        "        conf = confusion_matrix(y_test, y_pred, labels=np.unique(y_test))\n",
        "        sns.heatmap(conf, cmap= 'Set1', annot=True, cbar=False)\n",
        "        plt.ylabel('Actual')\n",
        "        plt.xlabel('Predicted')\n",
        "        plt.title('Confusion Matrix');\n",
        "    \n",
        "    if plot_auc:\n",
        "        fig, ax = plt.subplots(figsize=(10,6))\n",
        "\n",
        "        if not auc_:\n",
        "            lb = LabelBinarizer()\n",
        "            lb.fit(y_test)\n",
        "\n",
        "            truth = lb.transform(y_test)\n",
        "            y_pred_encode = lb.transform(y_pred)\n",
        "\n",
        "        fpr = [None, None, None]\n",
        "        tpr = [None, None, None]\n",
        "        auc_of_roc = [None, None, None]\n",
        "        \n",
        "        n_classes = 1 #(0, 1)\n",
        "        \n",
        "        for i in range(n_classes):\n",
        "            fpr[i], tpr[i], _ = roc_curve(truth[:, i], y_pred_encode[:, i])\n",
        "            auc_of_roc[i] = auc(fpr[i], tpr[i])\n",
        "            \n",
        "        plt.plot(fpr[0], tpr[0], label='0 - area under ROC = %0.3f' % auc_of_roc[0])\n",
        "        if multi:\n",
        "            plt.plot(fpr[1], tpr[1], label='1 - area under ROC = %0.3f' % auc_of_roc[1])\n",
        "\n",
        "        plt.xlabel('False Positive Rate')\n",
        "        plt.ylabel('True Positive Rate')\n",
        "        plt.title(\"ROC AUC\");\n",
        "        plt.legend()\n",
        "\n",
        "    return res"
      ]
    },
    {
      "cell_type": "code",
      "execution_count": null,
      "metadata": {
        "id": "cG49T0En0Kvv"
      },
      "outputs": [],
      "source": [
        "X_train_scaled_featured = X_train_scaled[['lcom3', 'cbo', 'loc','amc', 'ca', 'avg_cc','cam','ce','rfc','mfa','npm']]\n",
        "X_test_scaled_featured = X_test_scaled[['lcom3', 'cbo', 'loc','amc', 'ca', 'avg_cc','cam','ce','rfc','mfa','npm']]\n",
        "X_cv_featured = X_cv[['lcom3', 'cbo', 'loc','amc', 'ca', 'avg_cc','cam','ce','rfc','mfa','npm']]"
      ]
    },
    {
      "cell_type": "code",
      "execution_count": null,
      "metadata": {
        "id": "-PSyjuCEKjTL"
      },
      "outputs": [],
      "source": [
        "from imblearn.over_sampling import SMOTE\n",
        "X_train_over_sampled, y_train_over_sampled = SMOTE().fit_resample(X_train_scaled_featured, y_train)\n",
        "X_cv_over_sampled, y_cv_over_sampled = SMOTE().fit_resample(X_cv_featured, y_cv)"
      ]
    },
    {
      "cell_type": "code",
      "execution_count": null,
      "metadata": {
        "id": "sEqBLyayKjTL"
      },
      "outputs": [],
      "source": [
        "# print((y_train_over_sampled == 1).sum())\n",
        "# print((y_train_over_sampled == 0).sum())\n",
        "\n",
        "# print((y_cv_over_sampled == 1).sum())\n",
        "# print((y_cv_over_sampled == 0).sum())\n",
        "\n",
        "X_train_over_sampled = pd.DataFrame(X_train_over_sampled)\n",
        "X_cv_over_sampled = pd.DataFrame(X_cv_over_sampled)\n",
        "\n",
        "y_train_over_sampled = pd.Series(y_train_over_sampled)\n",
        "y_cv_over_sampled = pd.Series(y_cv_over_sampled)"
      ]
    },
    {
      "cell_type": "code",
      "execution_count": null,
      "metadata": {
        "id": "3fw0Njv3KjTL"
      },
      "outputs": [],
      "source": [
        "# SVC()\n",
        "svc_params = {\n",
        "    'clf__C': [0.1, 1, 10],\n",
        "    'clf__kernel': ['linear', 'rbf'],\n",
        "    'clf__gamma':[1, 0.01, 0.001]\n",
        "}\n",
        "\n",
        "svc = Modeler(SVC, X_train_over_sampled, y_train_over_sampled, X_cv_over_sampled, y_cv_over_sampled, svc_params, scale=True, n_jobs=False)"
      ]
    },
    {
      "cell_type": "code",
      "execution_count": null,
      "metadata": {
        "id": "p4N548c7KjTL"
      },
      "outputs": [],
      "source": [
        "model_scoring = model_eval(svc[\"model\"], X_test_scaled_featured, y_test, multi=False)\n",
        "scores = {}\n",
        "scores[\"Support-Vector Machine | Binary\"] = {\"Accuracy\": model_scoring[0],\n",
        "                             \"ROC\": model_scoring[1],\n",
        "                             \"F1-Score\": model_scoring[2]}"
      ]
    },
    {
      "cell_type": "code",
      "execution_count": null,
      "metadata": {
        "colab": {
          "base_uri": "https://localhost:8080/"
        },
        "id": "U9OgNhLfKjTL",
        "outputId": "0ff96539-2e58-47cc-f94e-dfc8b6c9502d"
      },
      "outputs": [
        {
          "name": "stdout",
          "output_type": "stream",
          "text": [
            "Best Parameters for model: {'metric': 'manhattan', 'n_neighbors': 3, 'weights': 'distance'}\n"
          ]
        }
      ],
      "source": [
        "#KNN\n",
        "knn_params = {\n",
        "    'clf__n_neighbors': [3, 5, 11, 17], # Try not to put even numbers\n",
        "    'clf__weights': ['uniform', 'distance'],\n",
        "    'clf__metric': ['euclidean', 'manhattan'],\n",
        "}\n",
        "\n",
        "knn = Modeler(KNeighborsClassifier, X_train_over_sampled, y_train_over_sampled, X_cv_over_sampled, y_cv_over_sampled, knn_params, scale=True)"
      ]
    },
    {
      "cell_type": "code",
      "execution_count": null,
      "metadata": {
        "id": "M-CEO6_LKjTM"
      },
      "outputs": [],
      "source": [
        "model_scoring = model_eval(knn[\"model\"], X_test_scaled_featured, y_test, multi=False)\n",
        "scores[\"K-Nearest Neighbor | Binary\"] = {\"Accuracy\": model_scoring[0],\n",
        "                             \"ROC\": model_scoring[1],\n",
        "                             \"F1-Score\": model_scoring[2]}"
      ]
    },
    {
      "cell_type": "code",
      "execution_count": null,
      "metadata": {
        "colab": {
          "base_uri": "https://localhost:8080/"
        },
        "id": "78Qk240iKjTM",
        "outputId": "301a9e8d-4b8a-4b19-f5cf-b1cd5ea5af24"
      },
      "outputs": [
        {
          "name": "stdout",
          "output_type": "stream",
          "text": [
            "Best Parameters for model: {'criterion': 'gini', 'max_depth': 20, 'max_features': 0.4, 'n_estimators': 500}\n"
          ]
        }
      ],
      "source": [
        "#RANDOM FOREST\n",
        "rfc_params = {\n",
        "    'clf__n_estimators'      : [200, 500, 1000],\n",
        "    'clf__max_depth'         : [10, 20, 50],\n",
        "    'clf__max_features': [1.0, 0.7, 0.4],\n",
        "    'clf__criterion' :['gini', 'entropy']\n",
        "}\n",
        "\n",
        "rfc = Modeler(RandomForestClassifier, X_train_over_sampled, y_train_over_sampled, X_cv_over_sampled, y_cv_over_sampled, rfc_params, scale=True) "
      ]
    },
    {
      "cell_type": "code",
      "execution_count": null,
      "metadata": {
        "id": "Eo0A_K4eKjTM"
      },
      "outputs": [],
      "source": [
        "model_scoring = model_eval(rfc[\"model\"], X_test_scaled_featured, y_test, multi = False)\n",
        "scores[\"Random Forest | Binary\"] = {\"Accuracy\": model_scoring[0],\n",
        "                             \"ROC\": model_scoring[1],\n",
        "                             \"F1-Score\": model_scoring[2]}"
      ]
    },
    {
      "cell_type": "code",
      "execution_count": null,
      "metadata": {
        "colab": {
          "base_uri": "https://localhost:8080/"
        },
        "id": "W7J5CNlvKjTM",
        "outputId": "81077fec-8d31-464f-f722-8f0c69f2f51e"
      },
      "outputs": [
        {
          "name": "stdout",
          "output_type": "stream",
          "text": [
            "Best Parameters for model: {'learning_rate': 1.0, 'n_estimators': 200}\n"
          ]
        }
      ],
      "source": [
        "#ADA BOOST\n",
        "# AdaBoostClassifier\n",
        "ada_params = {\n",
        "    'clf__learning_rate': [0.1, 0.5, 1.0],\n",
        "    'clf__n_estimators': [100, 200]\n",
        "}\n",
        "\n",
        "ada = Modeler(AdaBoostClassifier, X_train_over_sampled, y_train_over_sampled, X_cv_over_sampled, y_cv_over_sampled, ada_params, scale=True, n_jobs=False)"
      ]
    },
    {
      "cell_type": "code",
      "execution_count": null,
      "metadata": {
        "id": "X_-SxzwCKjTM"
      },
      "outputs": [],
      "source": [
        "model_scoring = model_eval(ada[\"model\"], X_test_scaled_featured, y_test, multi=False)\n",
        "scores[\"AdaBoost Classifier | Binary\"] = {\"Accuracy\": model_scoring[0],\n",
        "                             \"ROC\": model_scoring[1],\n",
        "                             \"F1-Score\": model_scoring[2]}"
      ]
    },
    {
      "cell_type": "code",
      "execution_count": null,
      "metadata": {
        "id": "ReWcOzBjKjTM"
      },
      "outputs": [],
      "source": [
        "score_df = pd.DataFrame.from_dict(scores).T\n",
        "score_df= score_df.sort_values('ROC', ascending=False)"
      ]
    },
    {
      "cell_type": "code",
      "execution_count": null,
      "metadata": {
        "id": "SmdtjnuoKjTM"
      },
      "outputs": [],
      "source": [
        "score_df"
      ]
    },
    {
      "cell_type": "markdown",
      "metadata": {
        "id": "BqdJVnahKsp_"
      },
      "source": [
        "# 3. Datasetin Scale, Feature Selection ve Modelling işlemleri"
      ]
    },
    {
      "cell_type": "code",
      "execution_count": null,
      "metadata": {
        "colab": {
          "base_uri": "https://localhost:8080/"
        },
        "id": "Mg70uJcZKsqA",
        "outputId": "11749974-e80b-4e5b-8a47-f18ad82d1f99"
      },
      "outputs": [
        {
          "name": "stdout",
          "output_type": "stream",
          "text": [
            "X: (352, 20)\n",
            "y: (352,)\n"
          ]
        }
      ],
      "source": [
        "# Shuffle data before removing classname to keep mapping\n",
        "ivy = df[2].sample(frac=1.0)\n",
        "\n",
        "# We do not need confusing variables such as the class name; We can use it as an index or leave it.\n",
        "X = ivy.iloc[:, :-1]\n",
        "y = ivy[\"bug\"]\n",
        "\n",
        "print(\"X:\", X.shape)\n",
        "print(\"y:\", y.shape)"
      ]
    },
    {
      "cell_type": "code",
      "execution_count": null,
      "metadata": {
        "id": "uP3dwWYrKsqA"
      },
      "outputs": [],
      "source": [
        "ivy.describe()"
      ]
    },
    {
      "cell_type": "code",
      "execution_count": null,
      "metadata": {
        "id": "xW5V9q8SKsqA"
      },
      "outputs": [],
      "source": [
        "X.head()"
      ]
    },
    {
      "cell_type": "code",
      "execution_count": null,
      "metadata": {
        "id": "F_yt_YdDKsqA"
      },
      "outputs": [],
      "source": [
        "y.head()"
      ]
    },
    {
      "cell_type": "code",
      "execution_count": null,
      "metadata": {
        "id": "jrmtZq_NKsqA"
      },
      "outputs": [],
      "source": [
        "#Label convert binary \n",
        "y = np.where((y > 1), 1, y) \n",
        "y = pd.Series(y)"
      ]
    },
    {
      "cell_type": "code",
      "execution_count": null,
      "metadata": {
        "id": "vW8kG-nWKsqA"
      },
      "outputs": [],
      "source": [
        "print([y > 1])"
      ]
    },
    {
      "cell_type": "code",
      "execution_count": null,
      "metadata": {
        "id": "-HGpLeY9KsqB"
      },
      "outputs": [],
      "source": [
        "#Class Balance: we can see bugs rate\n",
        "unique, counts = np.unique(y, return_counts=True)\n",
        "print(\"Classes:\", unique.tolist())\n",
        "print(\"Counts:\", counts.tolist())\n",
        "\n",
        "plt.bar(unique, counts, color=['g', 'orange'], alpha=0.7)\n",
        "plt.title(\"#Bugs VS Occurrences\")\n",
        "plt.xticks(range(len(unique)))\n",
        "plt.ylabel(\"Occurrences\")\n",
        "plt.xlabel(\"# Bugs\");"
      ]
    },
    {
      "cell_type": "code",
      "execution_count": null,
      "metadata": {
        "colab": {
          "base_uri": "https://localhost:8080/"
        },
        "id": "GpACbmRSKsqB",
        "outputId": "62b51382-7a73-45ca-eaa4-80205defa445"
      },
      "outputs": [
        {
          "name": "stdout",
          "output_type": "stream",
          "text": [
            "Train: (246, 20) (246,) Test: (53, 20) (53,) Cross Validation (53, 20) (53,)\n"
          ]
        }
      ],
      "source": [
        "#Splitting data train, test, and cross validation\n",
        "from sklearn.model_selection import train_test_split\n",
        "X_train, X_test, y_train, y_test = train_test_split(X, y, test_size=0.3)\n",
        "X_cv, X_test, y_cv, y_test = train_test_split(X_test, y_test, test_size=0.5)\n",
        "print(\"Train:\", X_train.shape, y_train.shape,\n",
        "      \"Test:\", X_test.shape, y_test.shape,\n",
        "      \"Cross Validation\", X_cv.shape, y_cv.shape)"
      ]
    },
    {
      "cell_type": "code",
      "execution_count": null,
      "metadata": {
        "id": "eeQ6k9VTKsqB"
      },
      "outputs": [],
      "source": [
        "#we can see y_train bugs rate\n",
        "unique, counts = np.unique(y_train, return_counts=True)\n",
        "print(\"Classes:\", unique.tolist())\n",
        "print(\"Counts:\", counts.tolist())\n",
        "\n",
        "plt.bar(unique, counts, color=['g', 'orange'], alpha=0.7)\n",
        "plt.title(\"#Bugs VS Occurrences\")\n",
        "plt.xticks(range(len(unique)))\n",
        "plt.ylabel(\"Occurrences\")\n",
        "plt.xlabel(\"# Bugs\");"
      ]
    },
    {
      "cell_type": "code",
      "execution_count": null,
      "metadata": {
        "id": "0LdhNBbqKsqB"
      },
      "outputs": [],
      "source": [
        "#Scaling features\n",
        "X_train_scaled = pd.DataFrame(StandardScaler().fit_transform(X_train.values), columns=X_train.columns, index=X_train.index)\n",
        "X_test_scaled = pd.DataFrame(StandardScaler().fit_transform(X_test.values), columns=X_test.columns, index=X_test.index)\n",
        "\n",
        "data_for_viz = X_train_scaled.copy()\n",
        "data_for_viz_unscaled = X_train.copy()\n",
        "\n",
        "data_for_viz['Bugs'] = y_train.copy().tolist()\n",
        "data_for_viz_unscaled['Bugs'] = y_train.copy().tolist()\n",
        "\n",
        "print(\"Train:\", X_train.shape, y_train.shape,\n",
        "      \"Test:\", X_test.shape, y_test.shape,\n",
        "      \"Cross Validation\", X_cv.shape, y_cv.shape)"
      ]
    },
    {
      "cell_type": "code",
      "execution_count": null,
      "metadata": {
        "id": "0CFJUMvmKsqB"
      },
      "outputs": [],
      "source": [
        "data_for_viz.head()"
      ]
    },
    {
      "cell_type": "code",
      "execution_count": null,
      "metadata": {
        "id": "uL48XcURKsqB"
      },
      "outputs": [],
      "source": [
        "#Correlation matrix\n",
        "fig, ax = plt.subplots(figsize=(10,8))\n",
        "\n",
        "corr = data_for_viz.corr()\n",
        "mask = np.triu(corr)\n",
        "sns.heatmap(corr, vmin=-1, vmax=1, center= 0, cmap= 'Pastel2', linewidths=3, ax=ax, mask=mask);\n",
        "\n",
        "#We can see that highest correlated variables with Bugs are:\n",
        "\n",
        "#1) wmc \n",
        "# highest correlated with rfc, npm, loc, ce, dam, "
      ]
    },
    {
      "cell_type": "code",
      "execution_count": null,
      "metadata": {
        "id": "NB3DUiLeKsqB"
      },
      "outputs": [],
      "source": [
        "#Feature Importance / Selection\n",
        "rfc = RandomForestClassifier()\n",
        "rfc.fit(X_train, y_train);\n",
        "coef_rfc = pd.Series(rfc.feature_importances_, index = X_train.columns)"
      ]
    },
    {
      "cell_type": "code",
      "execution_count": null,
      "metadata": {
        "colab": {
          "base_uri": "https://localhost:8080/"
        },
        "id": "_jitBR8eKsqC",
        "outputId": "ccf151ec-114d-47ca-887f-bb0c51a953e9"
      },
      "outputs": [
        {
          "name": "stdout",
          "output_type": "stream",
          "text": [
            "accuracy score: 1.0\n"
          ]
        }
      ],
      "source": [
        "preds = rfc.predict(X_train)\n",
        "print(\"accuracy score:\", accuracy_score(y_train, preds))\n",
        "#Acc is high and its normal because of only x_train modelling"
      ]
    },
    {
      "cell_type": "code",
      "execution_count": null,
      "metadata": {
        "id": "t5XIdjHYKsqC"
      },
      "outputs": [],
      "source": [
        "coef_rfc.sort_values()[7:].plot(kind='barh', cmap=\"Pastel2\");"
      ]
    },
    {
      "cell_type": "code",
      "execution_count": null,
      "metadata": {
        "id": "vC7IBEsNKsqC"
      },
      "outputs": [],
      "source": [
        "data_for_viz_unscaled.head()"
      ]
    },
    {
      "cell_type": "code",
      "execution_count": null,
      "metadata": {
        "id": "zQHNZsx_KsqC"
      },
      "outputs": [],
      "source": [
        "for_pair_plot = data_for_viz_unscaled[['rfc', 'lcom3', 'loc','amc', 'cam','npm', 'cbo','lcom','avg_cc','max_cc','ca','Bugs']]\n",
        "pairplot = sns.pairplot(for_pair_plot, hue=\"Bugs\", vars=['rfc', 'lcom3', 'loc','amc', 'cam','npm', 'cbo','lcom','avg_cc','max_cc','ca']);\n",
        "pairplot.fig.suptitle(\"Scatter w.r.t classes: 0, > 1 Bugs\", y=1.02);\n",
        "\n"
      ]
    },
    {
      "cell_type": "code",
      "execution_count": null,
      "metadata": {
        "id": "7iwcqwotKsqC"
      },
      "outputs": [],
      "source": [
        "#MODELING\n",
        "def Modeler(model, X_train, y_train, X_cv, y_cv, params, scale=True, n_jobs=True, pca=False):\n",
        "    \n",
        "    if scale & pca:\n",
        "        pipeline = Pipeline([\n",
        "            ('scale', StandardScaler()),\n",
        "            ('dim_reduct', PCA(n_components=4)),\n",
        "            ('clf', model())])\n",
        "        print(\"Scaling and dim reduct...\")\n",
        "        \n",
        "    elif scale:\n",
        "        pipeline = Pipeline([ ('scale', StandardScaler()), ('clf', model())])\n",
        "        \n",
        "    elif pca:\n",
        "        pipeline = Pipeline([\n",
        "        ('dim_reduct', PCA(n_components=pca)),\n",
        "        ('clf', model())])\n",
        "    else:\n",
        "        pipeline = Pipeline([('clf', model())])\n",
        "        \n",
        "    grid = GridSearchCV(pipeline, param_grid = params, cv=3, n_jobs=4, refit=True)\n",
        "    grid.fit(X_cv, y_cv)\n",
        "    \n",
        "    best_prameters = {}\n",
        "    for k, v in grid.best_params_.items():\n",
        "        best_prameters[k[5:]] = v\n",
        "\n",
        "    if n_jobs:\n",
        "        model = model(**best_prameters, n_jobs=4)\n",
        "    else:\n",
        "        model = model(**best_prameters)\n",
        "   \n",
        "    model.fit(X_train, y_train)\n",
        "    \n",
        "    print(\"Best Parameters for model:\", best_prameters)\n",
        "\n",
        "    return {\n",
        "        \"model\": model, \n",
        "        \"best_params\":best_prameters\n",
        "    }"
      ]
    },
    {
      "cell_type": "code",
      "execution_count": null,
      "metadata": {
        "id": "bj7dV6WYKsqC"
      },
      "outputs": [],
      "source": [
        "def model_eval(model, X_test, y_test, acc=True, auc_=True, plot_conf=True, plot_auc=True, multi=True, f1=True, prop=False):\n",
        "    \n",
        "    res = [None, None, None] # Accuracy, auc_roc, f1_score\n",
        "    y_pred = model.predict(X_test)\n",
        "    \n",
        "    if prop:\n",
        "        y_pred = np.where(y_pred > 0.5, 1, 0)\n",
        "    \n",
        "    if f1:\n",
        "        f_sc = f1_score(y_test, y_pred, average='macro')\n",
        "        res[2] = f_sc\n",
        "        \n",
        "    if acc:\n",
        "        res[0] = accuracy_score(y_test, y_pred)\n",
        "#         print('accuracy:', res[0] * 100 ,'%')\n",
        "\n",
        "    if auc_:\n",
        "        lb = LabelBinarizer()\n",
        "        lb.fit(y_test)\n",
        "\n",
        "        truth = lb.transform(y_test)\n",
        "        y_pred_encode = lb.transform(y_pred)\n",
        "\n",
        "        res[1] = roc_auc_score(truth, y_pred_encode, average = 'macro')\n",
        "#         print('ROC:', res[1] * 100 ,'%')\n",
        "\n",
        "    if plot_conf:\n",
        "        fig, ax = plt.subplots(figsize=(10,6))\n",
        "\n",
        "        conf = confusion_matrix(y_test, y_pred, labels=np.unique(y_test))\n",
        "        sns.heatmap(conf, cmap= 'Set1', annot=True, cbar=False)\n",
        "        plt.ylabel('Actual')\n",
        "        plt.xlabel('Predicted')\n",
        "        plt.title('Confusion Matrix');\n",
        "    \n",
        "    if plot_auc:\n",
        "        fig, ax = plt.subplots(figsize=(10,6))\n",
        "\n",
        "        if not auc_:\n",
        "            lb = LabelBinarizer()\n",
        "            lb.fit(y_test)\n",
        "\n",
        "            truth = lb.transform(y_test)\n",
        "            y_pred_encode = lb.transform(y_pred)\n",
        "\n",
        "        fpr = [None, None, None]\n",
        "        tpr = [None, None, None]\n",
        "        auc_of_roc = [None, None, None]\n",
        "        \n",
        "        n_classes = 1 #(0, 1)\n",
        "        \n",
        "        for i in range(n_classes):\n",
        "            fpr[i], tpr[i], _ = roc_curve(truth[:, i], y_pred_encode[:, i])\n",
        "            auc_of_roc[i] = auc(fpr[i], tpr[i])\n",
        "            \n",
        "        plt.plot(fpr[0], tpr[0], label='0 - area under ROC = %0.3f' % auc_of_roc[0])\n",
        "        if multi:\n",
        "            plt.plot(fpr[1], tpr[1], label='1 - area under ROC = %0.3f' % auc_of_roc[1])\n",
        "\n",
        "        plt.xlabel('False Positive Rate')\n",
        "        plt.ylabel('True Positive Rate')\n",
        "        plt.title(\"ROC AUC\");\n",
        "        plt.legend()\n",
        "\n",
        "    return res"
      ]
    },
    {
      "cell_type": "code",
      "execution_count": null,
      "metadata": {
        "id": "9RTQ0_1vzf0e"
      },
      "outputs": [],
      "source": [
        "X_train_scaled_featured = X_train_scaled[['rfc', 'lcom3', 'loc','amc', 'cam','npm', 'cbo','lcom','avg_cc','max_cc','ca']]\n",
        "X_test_scaled_featured = X_test_scaled[['rfc', 'lcom3', 'loc','amc', 'cam','npm', 'cbo','lcom','avg_cc','max_cc','ca']]\n",
        "X_cv_featured = X_cv[['rfc', 'lcom3', 'loc','amc', 'cam','npm', 'cbo','lcom','avg_cc','max_cc','ca']]\n"
      ]
    },
    {
      "cell_type": "code",
      "execution_count": null,
      "metadata": {
        "id": "u9fe9F-GKsqD"
      },
      "outputs": [],
      "source": [
        "from imblearn.over_sampling import SMOTE\n",
        "X_train_over_sampled, y_train_over_sampled = SMOTE().fit_resample(X_train_scaled_featured, y_train)\n",
        "X_cv_over_sampled, y_cv_over_sampled = SMOTE(k_neighbors=3).fit_resample(X_cv_featured, y_cv)"
      ]
    },
    {
      "cell_type": "code",
      "execution_count": null,
      "metadata": {
        "id": "I4XNj7JkKsqD"
      },
      "outputs": [],
      "source": [
        "# print((y_train_over_sampled == 1).sum())\n",
        "# print((y_train_over_sampled == 0).sum())\n",
        "\n",
        "# print((y_cv_over_sampled == 1).sum())\n",
        "# print((y_cv_over_sampled == 0).sum())\n",
        "\n",
        "X_train_over_sampled = pd.DataFrame(X_train_over_sampled)\n",
        "X_cv_over_sampled = pd.DataFrame(X_cv_over_sampled)\n",
        "\n",
        "y_train_over_sampled = pd.Series(y_train_over_sampled)\n",
        "y_cv_over_sampled = pd.Series(y_cv_over_sampled)"
      ]
    },
    {
      "cell_type": "code",
      "execution_count": null,
      "metadata": {
        "colab": {
          "base_uri": "https://localhost:8080/"
        },
        "id": "hcbz_FEHKsqD",
        "outputId": "4d9aa2e0-2878-4931-ccf2-f635b1ab6935"
      },
      "outputs": [
        {
          "name": "stdout",
          "output_type": "stream",
          "text": [
            "Best Parameters for model: {'C': 1, 'gamma': 1, 'kernel': 'rbf'}\n"
          ]
        }
      ],
      "source": [
        "# SVC()\n",
        "svc_params = {\n",
        "    'clf__C': [0.1, 1, 10],\n",
        "    'clf__kernel': ['linear', 'rbf'],\n",
        "    'clf__gamma':[1, 0.01, 0.001]\n",
        "}\n",
        "\n",
        "svc = Modeler(SVC, X_train_over_sampled, y_train_over_sampled, X_cv_over_sampled, y_cv_over_sampled, svc_params, scale=True, n_jobs=False)"
      ]
    },
    {
      "cell_type": "code",
      "execution_count": null,
      "metadata": {
        "id": "v-hIaDZfKsqD"
      },
      "outputs": [],
      "source": [
        "model_scoring = model_eval(svc[\"model\"], X_test_scaled_featured , y_test, multi=False)\n",
        "scores = {}\n",
        "scores[\"Support-Vector Machine | Binary\"] = {\"Accuracy\": model_scoring[0],\n",
        "                             \"ROC\": model_scoring[1],\n",
        "                             \"F1-Score\": model_scoring[2]}"
      ]
    },
    {
      "cell_type": "code",
      "execution_count": null,
      "metadata": {
        "colab": {
          "base_uri": "https://localhost:8080/"
        },
        "id": "9tHC-EPmKsqD",
        "outputId": "e01b4718-9c5c-4d0a-83c2-26dc209c7145"
      },
      "outputs": [
        {
          "name": "stdout",
          "output_type": "stream",
          "text": [
            "Best Parameters for model: {'metric': 'manhattan', 'n_neighbors': 17, 'weights': 'distance'}\n"
          ]
        }
      ],
      "source": [
        "#KNN\n",
        "knn_params = {\n",
        "    'clf__n_neighbors': [3, 5, 11, 17], # Try not to put even numbers\n",
        "    'clf__weights': ['uniform', 'distance'],\n",
        "    'clf__metric': ['euclidean', 'manhattan'],\n",
        "}\n",
        "\n",
        "knn = Modeler(KNeighborsClassifier,X_train_over_sampled, y_train_over_sampled, X_cv_over_sampled, y_cv_over_sampled, knn_params, scale=True)"
      ]
    },
    {
      "cell_type": "code",
      "execution_count": null,
      "metadata": {
        "id": "hMo1t_nuKsqD"
      },
      "outputs": [],
      "source": [
        "model_scoring = model_eval(knn[\"model\"], X_test_scaled_featured, y_test, multi=False)\n",
        "scores[\"K-Nearest Neighbor | Binary\"] = {\"Accuracy\": model_scoring[0],\n",
        "                             \"ROC\": model_scoring[1],\n",
        "                             \"F1-Score\": model_scoring[2]}"
      ]
    },
    {
      "cell_type": "code",
      "execution_count": null,
      "metadata": {
        "colab": {
          "base_uri": "https://localhost:8080/"
        },
        "id": "sR7e7qjsKsqE",
        "outputId": "ed0bd145-86cd-4c0b-a9d1-619e6bde7856"
      },
      "outputs": [
        {
          "name": "stdout",
          "output_type": "stream",
          "text": [
            "Best Parameters for model: {'criterion': 'gini', 'max_depth': 10, 'max_features': 0.4, 'n_estimators': 200}\n"
          ]
        }
      ],
      "source": [
        "#RANDOM FOREST\n",
        "rfc_params = {\n",
        "    'clf__n_estimators'      : [200, 500, 1000],\n",
        "    'clf__max_depth'         : [10, 20, 50],\n",
        "    'clf__max_features': [1.0, 0.7, 0.4],\n",
        "    'clf__criterion' :['gini', 'entropy']\n",
        "}\n",
        "\n",
        "rfc = Modeler(RandomForestClassifier, X_train_over_sampled, y_train_over_sampled, X_cv_over_sampled, y_cv_over_sampled, rfc_params, scale=True) "
      ]
    },
    {
      "cell_type": "code",
      "execution_count": null,
      "metadata": {
        "id": "Ryhb7BGSKsqE"
      },
      "outputs": [],
      "source": [
        "model_scoring = model_eval(rfc[\"model\"], X_test_scaled_featured , y_test, multi=False)\n",
        "scores[\"Random Forest | Binary\"] = {\"Accuracy\": model_scoring[0],\n",
        "                             \"ROC\": model_scoring[1],\n",
        "                             \"F1-Score\": model_scoring[2]}"
      ]
    },
    {
      "cell_type": "code",
      "execution_count": null,
      "metadata": {
        "colab": {
          "base_uri": "https://localhost:8080/"
        },
        "id": "92DBSfz8KsqE",
        "outputId": "7b728cad-52e0-426f-cb6f-df957f0bc485"
      },
      "outputs": [
        {
          "name": "stdout",
          "output_type": "stream",
          "text": [
            "Best Parameters for model: {'learning_rate': 0.5, 'n_estimators': 200}\n"
          ]
        }
      ],
      "source": [
        "#ADA BOOST\n",
        "# AdaBoostClassifier\n",
        "ada_params = {\n",
        "    'clf__learning_rate': [0.1, 0.5, 1.0],\n",
        "    'clf__n_estimators': [100, 200]\n",
        "}\n",
        "\n",
        "ada = Modeler(AdaBoostClassifier, X_train_over_sampled, y_train_over_sampled, X_cv_over_sampled, y_cv_over_sampled, ada_params, scale=True, n_jobs=False)"
      ]
    },
    {
      "cell_type": "code",
      "execution_count": null,
      "metadata": {
        "id": "Kx3i2ydWKsqE"
      },
      "outputs": [],
      "source": [
        "model_scoring = model_eval(ada[\"model\"], X_test_scaled_featured , y_test, multi=False)\n",
        "scores[\"AdaBoost Classifier | Binary\"] = {\"Accuracy\": model_scoring[0],\n",
        "                             \"ROC\": model_scoring[1],\n",
        "                             \"F1-Score\": model_scoring[2]}"
      ]
    },
    {
      "cell_type": "code",
      "execution_count": null,
      "metadata": {
        "id": "RJ_3EdChKsqE"
      },
      "outputs": [],
      "source": [
        "score_df = pd.DataFrame.from_dict(scores).T\n",
        "score_df= score_df.sort_values('ROC', ascending=False)"
      ]
    },
    {
      "cell_type": "code",
      "execution_count": null,
      "metadata": {
        "colab": {
          "base_uri": "https://localhost:8080/",
          "height": 173
        },
        "id": "ZGqPb95yKsqE",
        "outputId": "85ee9fd5-dd83-45d8-cc4a-8483aaebf9ca"
      },
      "outputs": [
        {
          "data": {
            "text/html": [
              "\n",
              "  <div id=\"df-60a76a54-e7a7-477a-96c3-d241a9fc6efb\">\n",
              "    <div class=\"colab-df-container\">\n",
              "      <div>\n",
              "<style scoped>\n",
              "    .dataframe tbody tr th:only-of-type {\n",
              "        vertical-align: middle;\n",
              "    }\n",
              "\n",
              "    .dataframe tbody tr th {\n",
              "        vertical-align: top;\n",
              "    }\n",
              "\n",
              "    .dataframe thead th {\n",
              "        text-align: right;\n",
              "    }\n",
              "</style>\n",
              "<table border=\"1\" class=\"dataframe\">\n",
              "  <thead>\n",
              "    <tr style=\"text-align: right;\">\n",
              "      <th></th>\n",
              "      <th>Accuracy</th>\n",
              "      <th>ROC</th>\n",
              "      <th>F1-Score</th>\n",
              "    </tr>\n",
              "  </thead>\n",
              "  <tbody>\n",
              "    <tr>\n",
              "      <th>K-Nearest Neighbor | Binary</th>\n",
              "      <td>0.773585</td>\n",
              "      <td>0.819444</td>\n",
              "      <td>0.708791</td>\n",
              "    </tr>\n",
              "    <tr>\n",
              "      <th>Random Forest | Binary</th>\n",
              "      <td>0.811321</td>\n",
              "      <td>0.577020</td>\n",
              "      <td>0.588509</td>\n",
              "    </tr>\n",
              "    <tr>\n",
              "      <th>AdaBoost Classifier | Binary</th>\n",
              "      <td>0.754717</td>\n",
              "      <td>0.542929</td>\n",
              "      <td>0.544613</td>\n",
              "    </tr>\n",
              "    <tr>\n",
              "      <th>Support-Vector Machine | Binary</th>\n",
              "      <td>0.830189</td>\n",
              "      <td>0.500000</td>\n",
              "      <td>0.453608</td>\n",
              "    </tr>\n",
              "  </tbody>\n",
              "</table>\n",
              "</div>\n",
              "      <button class=\"colab-df-convert\" onclick=\"convertToInteractive('df-60a76a54-e7a7-477a-96c3-d241a9fc6efb')\"\n",
              "              title=\"Convert this dataframe to an interactive table.\"\n",
              "              style=\"display:none;\">\n",
              "        \n",
              "  <svg xmlns=\"http://www.w3.org/2000/svg\" height=\"24px\"viewBox=\"0 0 24 24\"\n",
              "       width=\"24px\">\n",
              "    <path d=\"M0 0h24v24H0V0z\" fill=\"none\"/>\n",
              "    <path d=\"M18.56 5.44l.94 2.06.94-2.06 2.06-.94-2.06-.94-.94-2.06-.94 2.06-2.06.94zm-11 1L8.5 8.5l.94-2.06 2.06-.94-2.06-.94L8.5 2.5l-.94 2.06-2.06.94zm10 10l.94 2.06.94-2.06 2.06-.94-2.06-.94-.94-2.06-.94 2.06-2.06.94z\"/><path d=\"M17.41 7.96l-1.37-1.37c-.4-.4-.92-.59-1.43-.59-.52 0-1.04.2-1.43.59L10.3 9.45l-7.72 7.72c-.78.78-.78 2.05 0 2.83L4 21.41c.39.39.9.59 1.41.59.51 0 1.02-.2 1.41-.59l7.78-7.78 2.81-2.81c.8-.78.8-2.07 0-2.86zM5.41 20L4 18.59l7.72-7.72 1.47 1.35L5.41 20z\"/>\n",
              "  </svg>\n",
              "      </button>\n",
              "      \n",
              "  <style>\n",
              "    .colab-df-container {\n",
              "      display:flex;\n",
              "      flex-wrap:wrap;\n",
              "      gap: 12px;\n",
              "    }\n",
              "\n",
              "    .colab-df-convert {\n",
              "      background-color: #E8F0FE;\n",
              "      border: none;\n",
              "      border-radius: 50%;\n",
              "      cursor: pointer;\n",
              "      display: none;\n",
              "      fill: #1967D2;\n",
              "      height: 32px;\n",
              "      padding: 0 0 0 0;\n",
              "      width: 32px;\n",
              "    }\n",
              "\n",
              "    .colab-df-convert:hover {\n",
              "      background-color: #E2EBFA;\n",
              "      box-shadow: 0px 1px 2px rgba(60, 64, 67, 0.3), 0px 1px 3px 1px rgba(60, 64, 67, 0.15);\n",
              "      fill: #174EA6;\n",
              "    }\n",
              "\n",
              "    [theme=dark] .colab-df-convert {\n",
              "      background-color: #3B4455;\n",
              "      fill: #D2E3FC;\n",
              "    }\n",
              "\n",
              "    [theme=dark] .colab-df-convert:hover {\n",
              "      background-color: #434B5C;\n",
              "      box-shadow: 0px 1px 3px 1px rgba(0, 0, 0, 0.15);\n",
              "      filter: drop-shadow(0px 1px 2px rgba(0, 0, 0, 0.3));\n",
              "      fill: #FFFFFF;\n",
              "    }\n",
              "  </style>\n",
              "\n",
              "      <script>\n",
              "        const buttonEl =\n",
              "          document.querySelector('#df-60a76a54-e7a7-477a-96c3-d241a9fc6efb button.colab-df-convert');\n",
              "        buttonEl.style.display =\n",
              "          google.colab.kernel.accessAllowed ? 'block' : 'none';\n",
              "\n",
              "        async function convertToInteractive(key) {\n",
              "          const element = document.querySelector('#df-60a76a54-e7a7-477a-96c3-d241a9fc6efb');\n",
              "          const dataTable =\n",
              "            await google.colab.kernel.invokeFunction('convertToInteractive',\n",
              "                                                     [key], {});\n",
              "          if (!dataTable) return;\n",
              "\n",
              "          const docLinkHtml = 'Like what you see? Visit the ' +\n",
              "            '<a target=\"_blank\" href=https://colab.research.google.com/notebooks/data_table.ipynb>data table notebook</a>'\n",
              "            + ' to learn more about interactive tables.';\n",
              "          element.innerHTML = '';\n",
              "          dataTable['output_type'] = 'display_data';\n",
              "          await google.colab.output.renderOutput(dataTable, element);\n",
              "          const docLink = document.createElement('div');\n",
              "          docLink.innerHTML = docLinkHtml;\n",
              "          element.appendChild(docLink);\n",
              "        }\n",
              "      </script>\n",
              "    </div>\n",
              "  </div>\n",
              "  "
            ],
            "text/plain": [
              "                                 Accuracy       ROC  F1-Score\n",
              "K-Nearest Neighbor | Binary      0.773585  0.819444  0.708791\n",
              "Random Forest | Binary           0.811321  0.577020  0.588509\n",
              "AdaBoost Classifier | Binary     0.754717  0.542929  0.544613\n",
              "Support-Vector Machine | Binary  0.830189  0.500000  0.453608"
            ]
          },
          "execution_count": 101,
          "metadata": {},
          "output_type": "execute_result"
        }
      ],
      "source": [
        "score_df"
      ]
    },
    {
      "cell_type": "markdown",
      "metadata": {
        "id": "Ex5f5x1bKysD"
      },
      "source": [
        "# Dördüncü Datasetin Scale, Feature Selection ve Modelling işlemleri"
      ]
    },
    {
      "cell_type": "code",
      "execution_count": null,
      "metadata": {
        "colab": {
          "base_uri": "https://localhost:8080/"
        },
        "id": "Wefx4abIKysD",
        "outputId": "c28b66a5-75f0-4257-cc3d-d5a4e13a0038"
      },
      "outputs": [
        {
          "name": "stdout",
          "output_type": "stream",
          "text": [
            "X: (492, 20)\n",
            "y: (492,)\n"
          ]
        }
      ],
      "source": [
        "# Shuffle data before removing classname to keep mapping\n",
        "jeditV2 = df[3].sample(frac=1.0)\n",
        "\n",
        "# We do not need confusing variables such as the class name; We can use it as an index or leave it.\n",
        "X = jeditV2.iloc[:, :-1]\n",
        "y = jeditV2[\"bug\"]\n",
        "\n",
        "print(\"X:\", X.shape)\n",
        "print(\"y:\", y.shape)"
      ]
    },
    {
      "cell_type": "code",
      "execution_count": null,
      "metadata": {
        "colab": {
          "base_uri": "https://localhost:8080/",
          "height": 361
        },
        "id": "AGbXuuxoKysD",
        "outputId": "89ec69b5-02a8-4964-d05e-18bb49fa83e0"
      },
      "outputs": [
        {
          "data": {
            "text/html": [
              "\n",
              "  <div id=\"df-684c93e7-6124-4455-ab3e-3c0584740d0a\">\n",
              "    <div class=\"colab-df-container\">\n",
              "      <div>\n",
              "<style scoped>\n",
              "    .dataframe tbody tr th:only-of-type {\n",
              "        vertical-align: middle;\n",
              "    }\n",
              "\n",
              "    .dataframe tbody tr th {\n",
              "        vertical-align: top;\n",
              "    }\n",
              "\n",
              "    .dataframe thead th {\n",
              "        text-align: right;\n",
              "    }\n",
              "</style>\n",
              "<table border=\"1\" class=\"dataframe\">\n",
              "  <thead>\n",
              "    <tr style=\"text-align: right;\">\n",
              "      <th></th>\n",
              "      <th>wmc</th>\n",
              "      <th>dit</th>\n",
              "      <th>noc</th>\n",
              "      <th>cbo</th>\n",
              "      <th>rfc</th>\n",
              "      <th>lcom</th>\n",
              "      <th>ca</th>\n",
              "      <th>ce</th>\n",
              "      <th>npm</th>\n",
              "      <th>lcom3</th>\n",
              "      <th>loc</th>\n",
              "      <th>dam</th>\n",
              "      <th>moa</th>\n",
              "      <th>mfa</th>\n",
              "      <th>cam</th>\n",
              "      <th>ic</th>\n",
              "      <th>cbm</th>\n",
              "      <th>amc</th>\n",
              "      <th>max_cc</th>\n",
              "      <th>avg_cc</th>\n",
              "      <th>bug</th>\n",
              "    </tr>\n",
              "  </thead>\n",
              "  <tbody>\n",
              "    <tr>\n",
              "      <th>count</th>\n",
              "      <td>492.000000</td>\n",
              "      <td>492.000000</td>\n",
              "      <td>492.000000</td>\n",
              "      <td>492.000000</td>\n",
              "      <td>492.000000</td>\n",
              "      <td>492.000000</td>\n",
              "      <td>492.000000</td>\n",
              "      <td>492.000000</td>\n",
              "      <td>492.000000</td>\n",
              "      <td>492.000000</td>\n",
              "      <td>492.000000</td>\n",
              "      <td>492.000000</td>\n",
              "      <td>492.000000</td>\n",
              "      <td>492.000000</td>\n",
              "      <td>492.000000</td>\n",
              "      <td>492.000000</td>\n",
              "      <td>492.000000</td>\n",
              "      <td>492.000000</td>\n",
              "      <td>492.000000</td>\n",
              "      <td>492.000000</td>\n",
              "      <td>492.000000</td>\n",
              "    </tr>\n",
              "    <tr>\n",
              "      <th>mean</th>\n",
              "      <td>8.239747</td>\n",
              "      <td>2.135832</td>\n",
              "      <td>0.056349</td>\n",
              "      <td>9.817916</td>\n",
              "      <td>30.825996</td>\n",
              "      <td>50.245910</td>\n",
              "      <td>4.387137</td>\n",
              "      <td>5.522011</td>\n",
              "      <td>4.876673</td>\n",
              "      <td>1.087181</td>\n",
              "      <td>246.647226</td>\n",
              "      <td>0.496919</td>\n",
              "      <td>0.483467</td>\n",
              "      <td>0.415344</td>\n",
              "      <td>0.462153</td>\n",
              "      <td>0.384217</td>\n",
              "      <td>0.487433</td>\n",
              "      <td>24.088348</td>\n",
              "      <td>4.670674</td>\n",
              "      <td>1.542383</td>\n",
              "      <td>0.024390</td>\n",
              "    </tr>\n",
              "    <tr>\n",
              "      <th>std</th>\n",
              "      <td>6.097572</td>\n",
              "      <td>1.602042</td>\n",
              "      <td>0.148547</td>\n",
              "      <td>6.747350</td>\n",
              "      <td>26.853251</td>\n",
              "      <td>90.815358</td>\n",
              "      <td>3.868115</td>\n",
              "      <td>4.654132</td>\n",
              "      <td>3.671725</td>\n",
              "      <td>0.651449</td>\n",
              "      <td>236.152349</td>\n",
              "      <td>0.464965</td>\n",
              "      <td>0.624021</td>\n",
              "      <td>0.440211</td>\n",
              "      <td>0.254189</td>\n",
              "      <td>0.580561</td>\n",
              "      <td>0.684505</td>\n",
              "      <td>18.844989</td>\n",
              "      <td>4.236952</td>\n",
              "      <td>0.944146</td>\n",
              "      <td>0.167084</td>\n",
              "    </tr>\n",
              "    <tr>\n",
              "      <th>min</th>\n",
              "      <td>0.000000</td>\n",
              "      <td>1.000000</td>\n",
              "      <td>0.000000</td>\n",
              "      <td>0.000000</td>\n",
              "      <td>0.000000</td>\n",
              "      <td>0.000000</td>\n",
              "      <td>0.000000</td>\n",
              "      <td>0.000000</td>\n",
              "      <td>0.000000</td>\n",
              "      <td>0.000000</td>\n",
              "      <td>1.000000</td>\n",
              "      <td>0.000000</td>\n",
              "      <td>0.000000</td>\n",
              "      <td>0.000000</td>\n",
              "      <td>0.000000</td>\n",
              "      <td>0.000000</td>\n",
              "      <td>0.000000</td>\n",
              "      <td>0.000000</td>\n",
              "      <td>0.000000</td>\n",
              "      <td>0.000000</td>\n",
              "      <td>0.000000</td>\n",
              "    </tr>\n",
              "    <tr>\n",
              "      <th>25%</th>\n",
              "      <td>3.000000</td>\n",
              "      <td>1.000000</td>\n",
              "      <td>0.000000</td>\n",
              "      <td>4.000000</td>\n",
              "      <td>9.000000</td>\n",
              "      <td>1.000000</td>\n",
              "      <td>1.000000</td>\n",
              "      <td>2.000000</td>\n",
              "      <td>2.000000</td>\n",
              "      <td>0.666071</td>\n",
              "      <td>41.750000</td>\n",
              "      <td>0.000000</td>\n",
              "      <td>0.000000</td>\n",
              "      <td>0.000000</td>\n",
              "      <td>0.259815</td>\n",
              "      <td>0.000000</td>\n",
              "      <td>0.000000</td>\n",
              "      <td>8.333333</td>\n",
              "      <td>1.000000</td>\n",
              "      <td>0.851150</td>\n",
              "      <td>0.000000</td>\n",
              "    </tr>\n",
              "    <tr>\n",
              "      <th>50%</th>\n",
              "      <td>7.000000</td>\n",
              "      <td>1.500000</td>\n",
              "      <td>0.000000</td>\n",
              "      <td>8.500000</td>\n",
              "      <td>24.500000</td>\n",
              "      <td>6.000000</td>\n",
              "      <td>3.000000</td>\n",
              "      <td>5.000000</td>\n",
              "      <td>4.000000</td>\n",
              "      <td>0.846543</td>\n",
              "      <td>176.000000</td>\n",
              "      <td>0.500000</td>\n",
              "      <td>0.000000</td>\n",
              "      <td>0.052632</td>\n",
              "      <td>0.425735</td>\n",
              "      <td>0.000000</td>\n",
              "      <td>0.000000</td>\n",
              "      <td>21.500000</td>\n",
              "      <td>3.000000</td>\n",
              "      <td>1.333300</td>\n",
              "      <td>0.000000</td>\n",
              "    </tr>\n",
              "    <tr>\n",
              "      <th>75%</th>\n",
              "      <td>12.351626</td>\n",
              "      <td>2.367886</td>\n",
              "      <td>0.000000</td>\n",
              "      <td>14.317073</td>\n",
              "      <td>44.000000</td>\n",
              "      <td>36.000000</td>\n",
              "      <td>7.000000</td>\n",
              "      <td>8.000000</td>\n",
              "      <td>7.851626</td>\n",
              "      <td>2.000000</td>\n",
              "      <td>411.306911</td>\n",
              "      <td>1.000000</td>\n",
              "      <td>1.000000</td>\n",
              "      <td>0.933333</td>\n",
              "      <td>0.625000</td>\n",
              "      <td>1.000000</td>\n",
              "      <td>1.000000</td>\n",
              "      <td>34.728807</td>\n",
              "      <td>6.587398</td>\n",
              "      <td>2.000000</td>\n",
              "      <td>0.000000</td>\n",
              "    </tr>\n",
              "    <tr>\n",
              "      <th>max</th>\n",
              "      <td>27.000000</td>\n",
              "      <td>6.000000</td>\n",
              "      <td>0.447154</td>\n",
              "      <td>31.000000</td>\n",
              "      <td>117.000000</td>\n",
              "      <td>259.906504</td>\n",
              "      <td>16.000000</td>\n",
              "      <td>19.000000</td>\n",
              "      <td>17.000000</td>\n",
              "      <td>2.000000</td>\n",
              "      <td>1034.000000</td>\n",
              "      <td>1.000000</td>\n",
              "      <td>2.000000</td>\n",
              "      <td>1.000000</td>\n",
              "      <td>1.000000</td>\n",
              "      <td>2.000000</td>\n",
              "      <td>2.000000</td>\n",
              "      <td>80.250000</td>\n",
              "      <td>18.000000</td>\n",
              "      <td>4.368400</td>\n",
              "      <td>2.000000</td>\n",
              "    </tr>\n",
              "  </tbody>\n",
              "</table>\n",
              "</div>\n",
              "      <button class=\"colab-df-convert\" onclick=\"convertToInteractive('df-684c93e7-6124-4455-ab3e-3c0584740d0a')\"\n",
              "              title=\"Convert this dataframe to an interactive table.\"\n",
              "              style=\"display:none;\">\n",
              "        \n",
              "  <svg xmlns=\"http://www.w3.org/2000/svg\" height=\"24px\"viewBox=\"0 0 24 24\"\n",
              "       width=\"24px\">\n",
              "    <path d=\"M0 0h24v24H0V0z\" fill=\"none\"/>\n",
              "    <path d=\"M18.56 5.44l.94 2.06.94-2.06 2.06-.94-2.06-.94-.94-2.06-.94 2.06-2.06.94zm-11 1L8.5 8.5l.94-2.06 2.06-.94-2.06-.94L8.5 2.5l-.94 2.06-2.06.94zm10 10l.94 2.06.94-2.06 2.06-.94-2.06-.94-.94-2.06-.94 2.06-2.06.94z\"/><path d=\"M17.41 7.96l-1.37-1.37c-.4-.4-.92-.59-1.43-.59-.52 0-1.04.2-1.43.59L10.3 9.45l-7.72 7.72c-.78.78-.78 2.05 0 2.83L4 21.41c.39.39.9.59 1.41.59.51 0 1.02-.2 1.41-.59l7.78-7.78 2.81-2.81c.8-.78.8-2.07 0-2.86zM5.41 20L4 18.59l7.72-7.72 1.47 1.35L5.41 20z\"/>\n",
              "  </svg>\n",
              "      </button>\n",
              "      \n",
              "  <style>\n",
              "    .colab-df-container {\n",
              "      display:flex;\n",
              "      flex-wrap:wrap;\n",
              "      gap: 12px;\n",
              "    }\n",
              "\n",
              "    .colab-df-convert {\n",
              "      background-color: #E8F0FE;\n",
              "      border: none;\n",
              "      border-radius: 50%;\n",
              "      cursor: pointer;\n",
              "      display: none;\n",
              "      fill: #1967D2;\n",
              "      height: 32px;\n",
              "      padding: 0 0 0 0;\n",
              "      width: 32px;\n",
              "    }\n",
              "\n",
              "    .colab-df-convert:hover {\n",
              "      background-color: #E2EBFA;\n",
              "      box-shadow: 0px 1px 2px rgba(60, 64, 67, 0.3), 0px 1px 3px 1px rgba(60, 64, 67, 0.15);\n",
              "      fill: #174EA6;\n",
              "    }\n",
              "\n",
              "    [theme=dark] .colab-df-convert {\n",
              "      background-color: #3B4455;\n",
              "      fill: #D2E3FC;\n",
              "    }\n",
              "\n",
              "    [theme=dark] .colab-df-convert:hover {\n",
              "      background-color: #434B5C;\n",
              "      box-shadow: 0px 1px 3px 1px rgba(0, 0, 0, 0.15);\n",
              "      filter: drop-shadow(0px 1px 2px rgba(0, 0, 0, 0.3));\n",
              "      fill: #FFFFFF;\n",
              "    }\n",
              "  </style>\n",
              "\n",
              "      <script>\n",
              "        const buttonEl =\n",
              "          document.querySelector('#df-684c93e7-6124-4455-ab3e-3c0584740d0a button.colab-df-convert');\n",
              "        buttonEl.style.display =\n",
              "          google.colab.kernel.accessAllowed ? 'block' : 'none';\n",
              "\n",
              "        async function convertToInteractive(key) {\n",
              "          const element = document.querySelector('#df-684c93e7-6124-4455-ab3e-3c0584740d0a');\n",
              "          const dataTable =\n",
              "            await google.colab.kernel.invokeFunction('convertToInteractive',\n",
              "                                                     [key], {});\n",
              "          if (!dataTable) return;\n",
              "\n",
              "          const docLinkHtml = 'Like what you see? Visit the ' +\n",
              "            '<a target=\"_blank\" href=https://colab.research.google.com/notebooks/data_table.ipynb>data table notebook</a>'\n",
              "            + ' to learn more about interactive tables.';\n",
              "          element.innerHTML = '';\n",
              "          dataTable['output_type'] = 'display_data';\n",
              "          await google.colab.output.renderOutput(dataTable, element);\n",
              "          const docLink = document.createElement('div');\n",
              "          docLink.innerHTML = docLinkHtml;\n",
              "          element.appendChild(docLink);\n",
              "        }\n",
              "      </script>\n",
              "    </div>\n",
              "  </div>\n",
              "  "
            ],
            "text/plain": [
              "              wmc         dit         noc  ...      max_cc      avg_cc         bug\n",
              "count  492.000000  492.000000  492.000000  ...  492.000000  492.000000  492.000000\n",
              "mean     8.239747    2.135832    0.056349  ...    4.670674    1.542383    0.024390\n",
              "std      6.097572    1.602042    0.148547  ...    4.236952    0.944146    0.167084\n",
              "min      0.000000    1.000000    0.000000  ...    0.000000    0.000000    0.000000\n",
              "25%      3.000000    1.000000    0.000000  ...    1.000000    0.851150    0.000000\n",
              "50%      7.000000    1.500000    0.000000  ...    3.000000    1.333300    0.000000\n",
              "75%     12.351626    2.367886    0.000000  ...    6.587398    2.000000    0.000000\n",
              "max     27.000000    6.000000    0.447154  ...   18.000000    4.368400    2.000000\n",
              "\n",
              "[8 rows x 21 columns]"
            ]
          },
          "execution_count": 103,
          "metadata": {},
          "output_type": "execute_result"
        }
      ],
      "source": [
        "jeditV2.describe()"
      ]
    },
    {
      "cell_type": "code",
      "execution_count": null,
      "metadata": {
        "colab": {
          "base_uri": "https://localhost:8080/",
          "height": 268
        },
        "id": "v81MQCIJKysD",
        "outputId": "a9c3cc2c-6907-4a5f-f734-d9e7944c2e4e"
      },
      "outputs": [
        {
          "data": {
            "text/html": [
              "\n",
              "  <div id=\"df-a0e3bfb6-82fd-45e7-af7e-a528005eb3ac\">\n",
              "    <div class=\"colab-df-container\">\n",
              "      <div>\n",
              "<style scoped>\n",
              "    .dataframe tbody tr th:only-of-type {\n",
              "        vertical-align: middle;\n",
              "    }\n",
              "\n",
              "    .dataframe tbody tr th {\n",
              "        vertical-align: top;\n",
              "    }\n",
              "\n",
              "    .dataframe thead th {\n",
              "        text-align: right;\n",
              "    }\n",
              "</style>\n",
              "<table border=\"1\" class=\"dataframe\">\n",
              "  <thead>\n",
              "    <tr style=\"text-align: right;\">\n",
              "      <th></th>\n",
              "      <th>wmc</th>\n",
              "      <th>dit</th>\n",
              "      <th>noc</th>\n",
              "      <th>cbo</th>\n",
              "      <th>rfc</th>\n",
              "      <th>lcom</th>\n",
              "      <th>ca</th>\n",
              "      <th>ce</th>\n",
              "      <th>npm</th>\n",
              "      <th>lcom3</th>\n",
              "      <th>loc</th>\n",
              "      <th>dam</th>\n",
              "      <th>moa</th>\n",
              "      <th>mfa</th>\n",
              "      <th>cam</th>\n",
              "      <th>ic</th>\n",
              "      <th>cbm</th>\n",
              "      <th>amc</th>\n",
              "      <th>max_cc</th>\n",
              "      <th>avg_cc</th>\n",
              "    </tr>\n",
              "  </thead>\n",
              "  <tbody>\n",
              "    <tr>\n",
              "      <th>394</th>\n",
              "      <td>5.0</td>\n",
              "      <td>2.367886</td>\n",
              "      <td>0.000000</td>\n",
              "      <td>7.000000</td>\n",
              "      <td>34.0</td>\n",
              "      <td>0.000000</td>\n",
              "      <td>3.000000</td>\n",
              "      <td>7.0</td>\n",
              "      <td>3.000000</td>\n",
              "      <td>0.666667</td>\n",
              "      <td>159.0</td>\n",
              "      <td>1.0</td>\n",
              "      <td>1.0</td>\n",
              "      <td>0.995043</td>\n",
              "      <td>0.320000</td>\n",
              "      <td>0.595528</td>\n",
              "      <td>1.497967</td>\n",
              "      <td>30.200000</td>\n",
              "      <td>4.000000</td>\n",
              "      <td>1.600000</td>\n",
              "    </tr>\n",
              "    <tr>\n",
              "      <th>163</th>\n",
              "      <td>10.0</td>\n",
              "      <td>2.367886</td>\n",
              "      <td>0.000000</td>\n",
              "      <td>10.000000</td>\n",
              "      <td>69.0</td>\n",
              "      <td>19.000000</td>\n",
              "      <td>4.000000</td>\n",
              "      <td>10.0</td>\n",
              "      <td>3.000000</td>\n",
              "      <td>0.740741</td>\n",
              "      <td>403.0</td>\n",
              "      <td>1.0</td>\n",
              "      <td>2.0</td>\n",
              "      <td>0.986466</td>\n",
              "      <td>0.260000</td>\n",
              "      <td>0.000000</td>\n",
              "      <td>0.000000</td>\n",
              "      <td>38.700000</td>\n",
              "      <td>4.000000</td>\n",
              "      <td>1.700000</td>\n",
              "    </tr>\n",
              "    <tr>\n",
              "      <th>357</th>\n",
              "      <td>20.0</td>\n",
              "      <td>1.000000</td>\n",
              "      <td>0.000000</td>\n",
              "      <td>14.317073</td>\n",
              "      <td>45.0</td>\n",
              "      <td>259.906504</td>\n",
              "      <td>8.739837</td>\n",
              "      <td>0.0</td>\n",
              "      <td>7.851626</td>\n",
              "      <td>2.000000</td>\n",
              "      <td>841.0</td>\n",
              "      <td>0.0</td>\n",
              "      <td>0.0</td>\n",
              "      <td>0.000000</td>\n",
              "      <td>0.187500</td>\n",
              "      <td>0.000000</td>\n",
              "      <td>0.000000</td>\n",
              "      <td>41.050000</td>\n",
              "      <td>6.587398</td>\n",
              "      <td>1.827174</td>\n",
              "    </tr>\n",
              "    <tr>\n",
              "      <th>226</th>\n",
              "      <td>5.0</td>\n",
              "      <td>1.000000</td>\n",
              "      <td>0.447154</td>\n",
              "      <td>7.000000</td>\n",
              "      <td>20.0</td>\n",
              "      <td>4.000000</td>\n",
              "      <td>3.000000</td>\n",
              "      <td>5.0</td>\n",
              "      <td>5.000000</td>\n",
              "      <td>0.500000</td>\n",
              "      <td>126.0</td>\n",
              "      <td>1.0</td>\n",
              "      <td>0.0</td>\n",
              "      <td>0.000000</td>\n",
              "      <td>0.440000</td>\n",
              "      <td>0.000000</td>\n",
              "      <td>0.000000</td>\n",
              "      <td>23.800000</td>\n",
              "      <td>7.000000</td>\n",
              "      <td>2.000000</td>\n",
              "    </tr>\n",
              "    <tr>\n",
              "      <th>77</th>\n",
              "      <td>6.0</td>\n",
              "      <td>2.000000</td>\n",
              "      <td>0.000000</td>\n",
              "      <td>14.000000</td>\n",
              "      <td>16.0</td>\n",
              "      <td>15.000000</td>\n",
              "      <td>3.000000</td>\n",
              "      <td>11.0</td>\n",
              "      <td>2.000000</td>\n",
              "      <td>1.000000</td>\n",
              "      <td>113.0</td>\n",
              "      <td>0.0</td>\n",
              "      <td>1.0</td>\n",
              "      <td>0.772727</td>\n",
              "      <td>0.466667</td>\n",
              "      <td>0.000000</td>\n",
              "      <td>0.000000</td>\n",
              "      <td>17.666667</td>\n",
              "      <td>2.000000</td>\n",
              "      <td>1.000000</td>\n",
              "    </tr>\n",
              "  </tbody>\n",
              "</table>\n",
              "</div>\n",
              "      <button class=\"colab-df-convert\" onclick=\"convertToInteractive('df-a0e3bfb6-82fd-45e7-af7e-a528005eb3ac')\"\n",
              "              title=\"Convert this dataframe to an interactive table.\"\n",
              "              style=\"display:none;\">\n",
              "        \n",
              "  <svg xmlns=\"http://www.w3.org/2000/svg\" height=\"24px\"viewBox=\"0 0 24 24\"\n",
              "       width=\"24px\">\n",
              "    <path d=\"M0 0h24v24H0V0z\" fill=\"none\"/>\n",
              "    <path d=\"M18.56 5.44l.94 2.06.94-2.06 2.06-.94-2.06-.94-.94-2.06-.94 2.06-2.06.94zm-11 1L8.5 8.5l.94-2.06 2.06-.94-2.06-.94L8.5 2.5l-.94 2.06-2.06.94zm10 10l.94 2.06.94-2.06 2.06-.94-2.06-.94-.94-2.06-.94 2.06-2.06.94z\"/><path d=\"M17.41 7.96l-1.37-1.37c-.4-.4-.92-.59-1.43-.59-.52 0-1.04.2-1.43.59L10.3 9.45l-7.72 7.72c-.78.78-.78 2.05 0 2.83L4 21.41c.39.39.9.59 1.41.59.51 0 1.02-.2 1.41-.59l7.78-7.78 2.81-2.81c.8-.78.8-2.07 0-2.86zM5.41 20L4 18.59l7.72-7.72 1.47 1.35L5.41 20z\"/>\n",
              "  </svg>\n",
              "      </button>\n",
              "      \n",
              "  <style>\n",
              "    .colab-df-container {\n",
              "      display:flex;\n",
              "      flex-wrap:wrap;\n",
              "      gap: 12px;\n",
              "    }\n",
              "\n",
              "    .colab-df-convert {\n",
              "      background-color: #E8F0FE;\n",
              "      border: none;\n",
              "      border-radius: 50%;\n",
              "      cursor: pointer;\n",
              "      display: none;\n",
              "      fill: #1967D2;\n",
              "      height: 32px;\n",
              "      padding: 0 0 0 0;\n",
              "      width: 32px;\n",
              "    }\n",
              "\n",
              "    .colab-df-convert:hover {\n",
              "      background-color: #E2EBFA;\n",
              "      box-shadow: 0px 1px 2px rgba(60, 64, 67, 0.3), 0px 1px 3px 1px rgba(60, 64, 67, 0.15);\n",
              "      fill: #174EA6;\n",
              "    }\n",
              "\n",
              "    [theme=dark] .colab-df-convert {\n",
              "      background-color: #3B4455;\n",
              "      fill: #D2E3FC;\n",
              "    }\n",
              "\n",
              "    [theme=dark] .colab-df-convert:hover {\n",
              "      background-color: #434B5C;\n",
              "      box-shadow: 0px 1px 3px 1px rgba(0, 0, 0, 0.15);\n",
              "      filter: drop-shadow(0px 1px 2px rgba(0, 0, 0, 0.3));\n",
              "      fill: #FFFFFF;\n",
              "    }\n",
              "  </style>\n",
              "\n",
              "      <script>\n",
              "        const buttonEl =\n",
              "          document.querySelector('#df-a0e3bfb6-82fd-45e7-af7e-a528005eb3ac button.colab-df-convert');\n",
              "        buttonEl.style.display =\n",
              "          google.colab.kernel.accessAllowed ? 'block' : 'none';\n",
              "\n",
              "        async function convertToInteractive(key) {\n",
              "          const element = document.querySelector('#df-a0e3bfb6-82fd-45e7-af7e-a528005eb3ac');\n",
              "          const dataTable =\n",
              "            await google.colab.kernel.invokeFunction('convertToInteractive',\n",
              "                                                     [key], {});\n",
              "          if (!dataTable) return;\n",
              "\n",
              "          const docLinkHtml = 'Like what you see? Visit the ' +\n",
              "            '<a target=\"_blank\" href=https://colab.research.google.com/notebooks/data_table.ipynb>data table notebook</a>'\n",
              "            + ' to learn more about interactive tables.';\n",
              "          element.innerHTML = '';\n",
              "          dataTable['output_type'] = 'display_data';\n",
              "          await google.colab.output.renderOutput(dataTable, element);\n",
              "          const docLink = document.createElement('div');\n",
              "          docLink.innerHTML = docLinkHtml;\n",
              "          element.appendChild(docLink);\n",
              "        }\n",
              "      </script>\n",
              "    </div>\n",
              "  </div>\n",
              "  "
            ],
            "text/plain": [
              "      wmc       dit       noc  ...        amc    max_cc    avg_cc\n",
              "394   5.0  2.367886  0.000000  ...  30.200000  4.000000  1.600000\n",
              "163  10.0  2.367886  0.000000  ...  38.700000  4.000000  1.700000\n",
              "357  20.0  1.000000  0.000000  ...  41.050000  6.587398  1.827174\n",
              "226   5.0  1.000000  0.447154  ...  23.800000  7.000000  2.000000\n",
              "77    6.0  2.000000  0.000000  ...  17.666667  2.000000  1.000000\n",
              "\n",
              "[5 rows x 20 columns]"
            ]
          },
          "execution_count": 104,
          "metadata": {},
          "output_type": "execute_result"
        }
      ],
      "source": [
        "X.head()"
      ]
    },
    {
      "cell_type": "code",
      "execution_count": null,
      "metadata": {
        "colab": {
          "base_uri": "https://localhost:8080/"
        },
        "id": "6_2eldNAKysE",
        "outputId": "5c18b0e5-cbaa-4742-ee5b-bd921a14b79f"
      },
      "outputs": [
        {
          "data": {
            "text/plain": [
              "0    0\n",
              "1    0\n",
              "2    0\n",
              "3    0\n",
              "4    0\n",
              "dtype: int64"
            ]
          },
          "execution_count": 129,
          "metadata": {},
          "output_type": "execute_result"
        }
      ],
      "source": [
        "y.head()"
      ]
    },
    {
      "cell_type": "code",
      "execution_count": null,
      "metadata": {
        "id": "dlExPQn0KysE"
      },
      "outputs": [],
      "source": [
        "#Label convert binary \n",
        "y = np.where((y > 1), 1, y) \n",
        "y = pd.Series(y)"
      ]
    },
    {
      "cell_type": "code",
      "execution_count": null,
      "metadata": {
        "id": "_0sp8ly4KysE"
      },
      "outputs": [],
      "source": [
        "print([y == 1])"
      ]
    },
    {
      "cell_type": "code",
      "execution_count": null,
      "metadata": {
        "id": "MiQv3l2uKysE"
      },
      "outputs": [],
      "source": [
        "#Class Balance: we can see bugs rate\n",
        "unique, counts = np.unique(y, return_counts=True)\n",
        "print(\"Classes:\", unique.tolist())\n",
        "print(\"Counts:\", counts.tolist())\n",
        "\n",
        "plt.bar(unique, counts, color=['g', 'orange'], alpha=0.7)\n",
        "plt.title(\"#Bugs VS Occurrences\")\n",
        "plt.xticks(range(len(unique)))\n",
        "plt.ylabel(\"Occurrences\")\n",
        "plt.xlabel(\"# Bugs\");"
      ]
    },
    {
      "cell_type": "code",
      "execution_count": null,
      "metadata": {
        "colab": {
          "base_uri": "https://localhost:8080/"
        },
        "id": "rXDelqZKKysE",
        "outputId": "910d31c9-b5ba-4309-e078-43d7196df9c5"
      },
      "outputs": [
        {
          "name": "stdout",
          "output_type": "stream",
          "text": [
            "Train: (344, 20) (344,) Test: (74, 20) (74,) Cross Validation (74, 20) (74,)\n"
          ]
        }
      ],
      "source": [
        "#Splitting data train, test, and cross validation\n",
        "from sklearn.model_selection import train_test_split\n",
        "X_train, X_test, y_train, y_test = train_test_split(X, y, test_size=0.3)\n",
        "X_cv, X_test, y_cv, y_test = train_test_split(X_test, y_test, test_size=0.5)\n",
        "print(\"Train:\", X_train.shape, y_train.shape,\n",
        "      \"Test:\", X_test.shape, y_test.shape,\n",
        "      \"Cross Validation\", X_cv.shape, y_cv.shape)"
      ]
    },
    {
      "cell_type": "code",
      "execution_count": null,
      "metadata": {
        "id": "iEFDv-x9KysE"
      },
      "outputs": [],
      "source": [
        "#we can see y_train bugs rate\n",
        "unique, counts = np.unique(y_train, return_counts=True)\n",
        "print(\"Classes:\", unique.tolist())\n",
        "print(\"Counts:\", counts.tolist())\n",
        "\n",
        "plt.bar(unique, counts, color=['g', 'orange'], alpha=0.7)\n",
        "plt.title(\"#Bugs VS Occurrences\")\n",
        "plt.xticks(range(len(unique)))\n",
        "plt.ylabel(\"Occurrences\")\n",
        "plt.xlabel(\"# Bugs\");"
      ]
    },
    {
      "cell_type": "code",
      "execution_count": null,
      "metadata": {
        "colab": {
          "base_uri": "https://localhost:8080/"
        },
        "id": "YQeDFN9AKysF",
        "outputId": "6ffe844f-046a-4fd1-a659-4595cca02ff8"
      },
      "outputs": [
        {
          "name": "stdout",
          "output_type": "stream",
          "text": [
            "Train: (344, 20) (344,) Test: (74, 20) (74,) Cross Validation (74, 20) (74,)\n"
          ]
        }
      ],
      "source": [
        "#Scaling features\n",
        "X_train_scaled = pd.DataFrame(StandardScaler().fit_transform(X_train.values), columns=X_train.columns, index=X_train.index)\n",
        "X_test_scaled = pd.DataFrame(StandardScaler().fit_transform(X_test.values), columns=X_test.columns, index=X_test.index)\n",
        "\n",
        "data_for_viz = X_train_scaled.copy()\n",
        "data_for_viz_unscaled = X_train.copy()\n",
        "\n",
        "data_for_viz['Bugs'] = y_train.copy().tolist()\n",
        "data_for_viz_unscaled['Bugs'] = y_train.copy().tolist()\n",
        "\n",
        "print(\"Train:\", X_train.shape, y_train.shape,\n",
        "      \"Test:\", X_test.shape, y_test.shape,\n",
        "      \"Cross Validation\", X_cv.shape, y_cv.shape)"
      ]
    },
    {
      "cell_type": "code",
      "execution_count": null,
      "metadata": {
        "id": "7vWZWuFGKysF"
      },
      "outputs": [],
      "source": [
        "data_for_viz.head()"
      ]
    },
    {
      "cell_type": "code",
      "execution_count": null,
      "metadata": {
        "id": "682u40y4KysF"
      },
      "outputs": [],
      "source": [
        "#Correlation matrix\n",
        "fig, ax = plt.subplots(figsize=(10,8))\n",
        "\n",
        "corr = data_for_viz.corr()\n",
        "mask = np.triu(corr)\n",
        "sns.heatmap(corr, vmin=-1, vmax=1, center= 0, cmap= 'Pastel2', linewidths=3, ax=ax, mask=mask);\n",
        "\n",
        "#We can see that highest correlated variables with Bugs are:\n",
        "\n",
        "#1) wmc \n",
        "# highest correlated with rfc, npm, loc, ce, dam, "
      ]
    },
    {
      "cell_type": "code",
      "execution_count": null,
      "metadata": {
        "id": "fm9apT5iKysF"
      },
      "outputs": [],
      "source": [
        "#Feature Importance / Selection\n",
        "rfc = RandomForestClassifier()\n",
        "rfc.fit(X_train, y_train);\n",
        "coef_rfc = pd.Series(rfc.feature_importances_, index = X_train.columns)"
      ]
    },
    {
      "cell_type": "code",
      "execution_count": null,
      "metadata": {
        "colab": {
          "base_uri": "https://localhost:8080/"
        },
        "id": "xFYS6U0sKysF",
        "outputId": "63ba8c65-aac4-4992-df56-f03e5004ad44"
      },
      "outputs": [
        {
          "name": "stdout",
          "output_type": "stream",
          "text": [
            "accuracy score: 0.9941860465116279\n"
          ]
        }
      ],
      "source": [
        "preds = rfc.predict(X_train)\n",
        "print(\"accuracy score:\", accuracy_score(y_train, preds))\n",
        "#Acc is high and its normal because of only x_train modelling"
      ]
    },
    {
      "cell_type": "code",
      "execution_count": null,
      "metadata": {
        "id": "2Z8oDD58KysF"
      },
      "outputs": [],
      "source": [
        "coef_rfc.sort_values()[7:].plot(kind='barh', cmap=\"Pastel2\");"
      ]
    },
    {
      "cell_type": "code",
      "execution_count": null,
      "metadata": {
        "id": "c5vY50DjKysF"
      },
      "outputs": [],
      "source": [
        "data_for_viz_unscaled.head()"
      ]
    },
    {
      "cell_type": "code",
      "execution_count": null,
      "metadata": {
        "id": "uZjVoYhkKysG"
      },
      "outputs": [],
      "source": [
        "for_pair_plot = data_for_viz_unscaled[['rfc', 'ce', 'loc','amc', 'avg_cc', 'cam','lcom3','cbo','ca','dit','max_cc','cbm','Bugs']]\n",
        "pairplot = sns.pairplot(for_pair_plot, hue=\"Bugs\", vars=['rfc', 'ce', 'loc','amc', 'avg_cc', 'cam','lcom3','cbo','ca','dit','max_cc','cbm']);\n",
        "pairplot.fig.suptitle(\"Scatter w.r.t classes: 0, > 1 Bugs\", y=1.02);\n",
        "\n"
      ]
    },
    {
      "cell_type": "code",
      "execution_count": null,
      "metadata": {
        "id": "ohQnIONYKysG"
      },
      "outputs": [],
      "source": [
        "#MODELING\n",
        "def Modeler(model, X_train, y_train, X_cv, y_cv, params, scale=True, n_jobs=True, pca=False):\n",
        "    \n",
        "    if scale & pca:\n",
        "        pipeline = Pipeline([\n",
        "            ('scale', StandardScaler()),\n",
        "            ('dim_reduct', PCA(n_components=4)),\n",
        "            ('clf', model())])\n",
        "        print(\"Scaling and dim reduct...\")\n",
        "        \n",
        "    elif scale:\n",
        "        pipeline = Pipeline([ ('scale', StandardScaler()), ('clf', model())])\n",
        "        \n",
        "    elif pca:\n",
        "        pipeline = Pipeline([\n",
        "        ('dim_reduct', PCA(n_components=pca)),\n",
        "        ('clf', model())])\n",
        "    else:\n",
        "        pipeline = Pipeline([('clf', model())])\n",
        "        \n",
        "    grid = GridSearchCV(pipeline, param_grid = params, cv=3, n_jobs=4, refit=True)\n",
        "    grid.fit(X_cv, y_cv)\n",
        "    \n",
        "    best_prameters = {}\n",
        "    for k, v in grid.best_params_.items():\n",
        "        best_prameters[k[5:]] = v\n",
        "\n",
        "    if n_jobs:\n",
        "        model = model(**best_prameters, n_jobs=4)\n",
        "    else:\n",
        "        model = model(**best_prameters)\n",
        "   \n",
        "    model.fit(X_train, y_train)\n",
        "    \n",
        "    print(\"Best Parameters for model:\", best_prameters)\n",
        "\n",
        "    return {\n",
        "        \"model\": model, \n",
        "        \"best_params\":best_prameters\n",
        "    }"
      ]
    },
    {
      "cell_type": "code",
      "execution_count": null,
      "metadata": {
        "id": "swHkHxHcKysG"
      },
      "outputs": [],
      "source": [
        "def model_eval(model, X_test, y_test, acc=True, auc_=True, plot_conf=True, plot_auc=True, multi=True, f1=True, prop=False):\n",
        "    \n",
        "    res = [None, None, None] # Accuracy, auc_roc, f1_score\n",
        "    y_pred = model.predict(X_test)\n",
        "    \n",
        "    if prop:\n",
        "        y_pred = np.where(y_pred > 0.5, 1, 0)\n",
        "    \n",
        "    if f1:\n",
        "        f_sc = f1_score(y_test, y_pred, average='macro')\n",
        "        res[2] = f_sc\n",
        "        \n",
        "    if acc:\n",
        "        res[0] = accuracy_score(y_test, y_pred)\n",
        "#         print('accuracy:', res[0] * 100 ,'%')\n",
        "\n",
        "    if auc_:\n",
        "        lb = LabelBinarizer()\n",
        "        lb.fit(y_test)\n",
        "\n",
        "        truth = lb.transform(y_test)\n",
        "        y_pred_encode = lb.transform(y_pred)\n",
        "\n",
        "        res[1] = roc_auc_score(truth, y_pred_encode, average = 'macro')\n",
        "#         print('ROC:', res[1] * 100 ,'%')\n",
        "\n",
        "    if plot_conf:\n",
        "        fig, ax = plt.subplots(figsize=(10,6))\n",
        "\n",
        "        conf = confusion_matrix(y_test, y_pred, labels=np.unique(y_test))\n",
        "        sns.heatmap(conf, cmap= 'Set1', annot=True, cbar=False)\n",
        "        plt.ylabel('Actual')\n",
        "        plt.xlabel('Predicted')\n",
        "        plt.title('Confusion Matrix');\n",
        "    \n",
        "    if plot_auc:\n",
        "        fig, ax = plt.subplots(figsize=(10,6))\n",
        "\n",
        "        if not auc_:\n",
        "            lb = LabelBinarizer()\n",
        "            lb.fit(y_test)\n",
        "\n",
        "            truth = lb.transform(y_test)\n",
        "            y_pred_encode = lb.transform(y_pred)\n",
        "\n",
        "        fpr = [None, None, None]\n",
        "        tpr = [None, None, None]\n",
        "        auc_of_roc = [None, None, None]\n",
        "        \n",
        "        n_classes = 1 #(0, 1)\n",
        "        \n",
        "        for i in range(n_classes):\n",
        "            fpr[i], tpr[i], _ = roc_curve(truth[:, i], y_pred_encode[:, i])\n",
        "            auc_of_roc[i] = auc(fpr[i], tpr[i])\n",
        "            \n",
        "        plt.plot(fpr[0], tpr[0], label='0 - area under ROC = %0.3f' % auc_of_roc[0])\n",
        "        if multi:\n",
        "            plt.plot(fpr[1], tpr[1], label='1 - area under ROC = %0.3f' % auc_of_roc[1])\n",
        "\n",
        "        plt.xlabel('False Positive Rate')\n",
        "        plt.ylabel('True Positive Rate')\n",
        "        plt.title(\"ROC AUC\");\n",
        "        plt.legend()\n",
        "\n",
        "    return res"
      ]
    },
    {
      "cell_type": "code",
      "execution_count": null,
      "metadata": {
        "id": "P17HC3siyxLE"
      },
      "outputs": [],
      "source": [
        "X_train_scaled_featured = X_train_scaled[['rfc', 'ce', 'loc','amc', 'avg_cc', 'cam','lcom3','cbo','ca','dit','max_cc','cbm']]\n",
        "X_test_scaled_featured = X_test_scaled[['rfc', 'ce', 'loc','amc', 'avg_cc', 'cam','lcom3','cbo','ca','dit','max_cc','cbm']]\n",
        "X_cv_featured = X_cv[['rfc', 'ce', 'loc','amc', 'avg_cc', 'cam','lcom3','cbo','ca','dit','max_cc','cbm']]"
      ]
    },
    {
      "cell_type": "code",
      "execution_count": null,
      "metadata": {
        "id": "6qCLx_C6KysG"
      },
      "outputs": [],
      "source": [
        "from imblearn.over_sampling import SMOTE\n",
        "X_train_over_sampled, y_train_over_sampled = SMOTE().fit_resample(X_train_scaled_featured, y_train)\n",
        "X_cv_over_sampled, y_cv_over_sampled = SMOTE().fit_resample(X_cv_featured, y_cv)"
      ]
    },
    {
      "cell_type": "code",
      "execution_count": null,
      "metadata": {
        "id": "IjA1ifFJKysG"
      },
      "outputs": [],
      "source": [
        "# print((y_train_over_sampled == 1).sum())\n",
        "# print((y_train_over_sampled == 0).sum())\n",
        "\n",
        "# print((y_cv_over_sampled == 1).sum())\n",
        "# print((y_cv_over_sampled == 0).sum())\n",
        "\n",
        "X_train_over_sampled = pd.DataFrame(X_train_over_sampled)\n",
        "X_cv_over_sampled = pd.DataFrame(X_cv_over_sampled)\n",
        "\n",
        "y_train_over_sampled = pd.Series(y_train_over_sampled)\n",
        "y_cv_over_sampled = pd.Series(y_cv_over_sampled)"
      ]
    },
    {
      "cell_type": "code",
      "execution_count": null,
      "metadata": {
        "id": "SBCMq6TsKysH"
      },
      "outputs": [],
      "source": [
        "# SVC()\n",
        "svc_params = {\n",
        "    'clf__C': [0.1, 1, 10],\n",
        "    'clf__kernel': ['linear', 'rbf'],\n",
        "    'clf__gamma':[1, 0.01, 0.001]\n",
        "}\n",
        "\n",
        "svc = Modeler(SVC, X_train_over_sampled, y_train_over_sampled, X_cv_over_sampled, y_cv_over_sampled, svc_params, scale=True, n_jobs=False)"
      ]
    },
    {
      "cell_type": "code",
      "execution_count": null,
      "metadata": {
        "id": "7Aq41NsDKysH"
      },
      "outputs": [],
      "source": [
        "model_scoring = model_eval(svc[\"model\"], X_test_scaled_featured, y_test, multi=False)\n",
        "scores = {}\n",
        "scores[\"Support-Vector Machine | Binary\"] = {\"Accuracy\": model_scoring[0],\n",
        "                             \"ROC\": model_scoring[1],\n",
        "                             \"F1-Score\": model_scoring[2]}"
      ]
    },
    {
      "cell_type": "code",
      "execution_count": null,
      "metadata": {
        "id": "_9Yvrd0KKysH"
      },
      "outputs": [],
      "source": [
        "#KNN\n",
        "knn_params = {\n",
        "    'clf__n_neighbors': [3, 5, 11, 17], # Try not to put even numbers\n",
        "    'clf__weights': ['uniform', 'distance'],\n",
        "    'clf__metric': ['euclidean', 'manhattan'],\n",
        "}\n",
        "\n",
        "knn = Modeler(KNeighborsClassifier, X_train_over_sampled, y_train_over_sampled, X_cv_over_sampled, y_cv_over_sampled, knn_params, scale=True)"
      ]
    },
    {
      "cell_type": "code",
      "execution_count": null,
      "metadata": {
        "id": "ijkYKQpeKysH"
      },
      "outputs": [],
      "source": [
        "model_scoring = model_eval(knn[\"model\"], X_test_scaled_featured, y_test, multi=False)\n",
        "scores[\"K-Nearest Neighbor | Binary\"] = {\"Accuracy\": model_scoring[0],\n",
        "                             \"ROC\": model_scoring[1],\n",
        "                             \"F1-Score\": model_scoring[2]}"
      ]
    },
    {
      "cell_type": "code",
      "execution_count": null,
      "metadata": {
        "id": "9Ni_r1lJKysH"
      },
      "outputs": [],
      "source": [
        "#RANDOM FOREST\n",
        "rfc_params = {\n",
        "    'clf__n_estimators'      : [200, 500, 1000],\n",
        "    'clf__max_depth'         : [10, 20, 50],\n",
        "    'clf__max_features': [1.0, 0.7, 0.4],\n",
        "    'clf__criterion' :['gini', 'entropy']\n",
        "}\n",
        "\n",
        "rfc = Modeler(RandomForestClassifier,X_train_over_sampled, y_train_over_sampled, X_cv_over_sampled, y_cv_over_sampled, rfc_params, scale=True) "
      ]
    },
    {
      "cell_type": "code",
      "execution_count": null,
      "metadata": {
        "id": "Ep2ZmL6ZKysH"
      },
      "outputs": [],
      "source": [
        "model_scoring = model_eval(rfc[\"model\"], X_test_scaled_featured, y_test, multi=False)\n",
        "scores[\"Random Forest | Binary\"] = {\"Accuracy\": model_scoring[0],\n",
        "                             \"ROC\": model_scoring[1],\n",
        "                             \"F1-Score\": model_scoring[2]}"
      ]
    },
    {
      "cell_type": "code",
      "execution_count": null,
      "metadata": {
        "id": "o3-MkMagKysI"
      },
      "outputs": [],
      "source": [
        "#ADA BOOST\n",
        "# AdaBoostClassifier\n",
        "ada_params = {\n",
        "    'clf__learning_rate': [0.1, 0.5, 1.0],\n",
        "    'clf__n_estimators': [100, 200]\n",
        "}\n",
        "\n",
        "ada = Modeler(AdaBoostClassifier, X_train_over_sampled, y_train_over_sampled, X_cv_over_sampled, y_cv_over_sampled, ada_params, scale=True, n_jobs=False)"
      ]
    },
    {
      "cell_type": "code",
      "execution_count": null,
      "metadata": {
        "id": "zm5kKrlwKysI"
      },
      "outputs": [],
      "source": [
        "model_scoring = model_eval(ada[\"model\"], X_test_scaled_featured, y_test, multi=False)\n",
        "scores[\"AdaBoost Classifier | Binary\"] = {\"Accuracy\": model_scoring[0],\n",
        "                             \"ROC\": model_scoring[1],\n",
        "                             \"F1-Score\": model_scoring[2]}"
      ]
    },
    {
      "cell_type": "code",
      "execution_count": null,
      "metadata": {
        "id": "UFsuaA0qKysI"
      },
      "outputs": [],
      "source": [
        "score_df = pd.DataFrame.from_dict(scores).T\n",
        "score_df= score_df.sort_values('ROC', ascending=False)"
      ]
    },
    {
      "cell_type": "code",
      "execution_count": null,
      "metadata": {
        "id": "8U1Gp2XpKysI"
      },
      "outputs": [],
      "source": [
        "score_df"
      ]
    },
    {
      "cell_type": "markdown",
      "metadata": {
        "id": "NRHNc0udK7AP"
      },
      "source": [
        "# Beşinci Datasetin Scale, Feature Selection ve Modelling işlemleri"
      ]
    },
    {
      "cell_type": "code",
      "execution_count": null,
      "metadata": {
        "id": "ayXif77aK7AQ"
      },
      "outputs": [],
      "source": [
        "# Shuffle data before removing classname to keep mapping\n",
        "log4j = df[4].sample(frac=1.0)\n",
        "\n",
        "# We do not need confusing variables such as the class name; We can use it as an index or leave it.\n",
        "X = log4j.iloc[:, :-1]\n",
        "y = log4j[\"bug\"]\n",
        "\n",
        "print(\"X:\", X.shape)\n",
        "print(\"y:\", y.shape)"
      ]
    },
    {
      "cell_type": "code",
      "execution_count": null,
      "metadata": {
        "colab": {
          "base_uri": "https://localhost:8080/",
          "height": 361
        },
        "id": "rLflsav3K7AQ",
        "outputId": "c3a007ad-b6a0-4329-e992-81f1755d10d1"
      },
      "outputs": [
        {
          "data": {
            "text/html": [
              "\n",
              "  <div id=\"df-db4f1e16-61b7-4e40-bc8b-4b53fda8b64a\">\n",
              "    <div class=\"colab-df-container\">\n",
              "      <div>\n",
              "<style scoped>\n",
              "    .dataframe tbody tr th:only-of-type {\n",
              "        vertical-align: middle;\n",
              "    }\n",
              "\n",
              "    .dataframe tbody tr th {\n",
              "        vertical-align: top;\n",
              "    }\n",
              "\n",
              "    .dataframe thead th {\n",
              "        text-align: right;\n",
              "    }\n",
              "</style>\n",
              "<table border=\"1\" class=\"dataframe\">\n",
              "  <thead>\n",
              "    <tr style=\"text-align: right;\">\n",
              "      <th></th>\n",
              "      <th>wmc</th>\n",
              "      <th>dit</th>\n",
              "      <th>noc</th>\n",
              "      <th>cbo</th>\n",
              "      <th>rfc</th>\n",
              "      <th>lcom</th>\n",
              "      <th>ca</th>\n",
              "      <th>ce</th>\n",
              "      <th>npm</th>\n",
              "      <th>lcom3</th>\n",
              "      <th>loc</th>\n",
              "      <th>dam</th>\n",
              "      <th>moa</th>\n",
              "      <th>mfa</th>\n",
              "      <th>cam</th>\n",
              "      <th>ic</th>\n",
              "      <th>cbm</th>\n",
              "      <th>amc</th>\n",
              "      <th>max_cc</th>\n",
              "      <th>avg_cc</th>\n",
              "      <th>bug</th>\n",
              "    </tr>\n",
              "  </thead>\n",
              "  <tbody>\n",
              "    <tr>\n",
              "      <th>count</th>\n",
              "      <td>205.000000</td>\n",
              "      <td>205.000000</td>\n",
              "      <td>205.000000</td>\n",
              "      <td>205.000000</td>\n",
              "      <td>205.000000</td>\n",
              "      <td>205.000000</td>\n",
              "      <td>205.000000</td>\n",
              "      <td>205.000000</td>\n",
              "      <td>205.000000</td>\n",
              "      <td>205.000000</td>\n",
              "      <td>205.000000</td>\n",
              "      <td>205.000000</td>\n",
              "      <td>205.000000</td>\n",
              "      <td>205.000000</td>\n",
              "      <td>205.000000</td>\n",
              "      <td>205.000000</td>\n",
              "      <td>205.000000</td>\n",
              "      <td>205.000000</td>\n",
              "      <td>205.000000</td>\n",
              "      <td>205.000000</td>\n",
              "      <td>205.000000</td>\n",
              "    </tr>\n",
              "    <tr>\n",
              "      <th>mean</th>\n",
              "      <td>6.993504</td>\n",
              "      <td>1.490589</td>\n",
              "      <td>0.025699</td>\n",
              "      <td>5.404759</td>\n",
              "      <td>21.463510</td>\n",
              "      <td>14.711624</td>\n",
              "      <td>2.090327</td>\n",
              "      <td>3.262011</td>\n",
              "      <td>4.862558</td>\n",
              "      <td>1.024772</td>\n",
              "      <td>142.500345</td>\n",
              "      <td>0.317335</td>\n",
              "      <td>0.521190</td>\n",
              "      <td>0.326962</td>\n",
              "      <td>0.403621</td>\n",
              "      <td>0.338299</td>\n",
              "      <td>0.317240</td>\n",
              "      <td>17.965703</td>\n",
              "      <td>3.073004</td>\n",
              "      <td>1.176041</td>\n",
              "      <td>2.429268</td>\n",
              "    </tr>\n",
              "    <tr>\n",
              "      <th>std</th>\n",
              "      <td>4.809768</td>\n",
              "      <td>0.650872</td>\n",
              "      <td>0.078352</td>\n",
              "      <td>3.735764</td>\n",
              "      <td>14.858741</td>\n",
              "      <td>18.998060</td>\n",
              "      <td>2.255551</td>\n",
              "      <td>2.818555</td>\n",
              "      <td>4.099388</td>\n",
              "      <td>0.610619</td>\n",
              "      <td>122.321117</td>\n",
              "      <td>0.415972</td>\n",
              "      <td>0.646542</td>\n",
              "      <td>0.410018</td>\n",
              "      <td>0.179310</td>\n",
              "      <td>0.584363</td>\n",
              "      <td>0.578585</td>\n",
              "      <td>13.393657</td>\n",
              "      <td>2.312814</td>\n",
              "      <td>0.554181</td>\n",
              "      <td>1.521455</td>\n",
              "    </tr>\n",
              "    <tr>\n",
              "      <th>min</th>\n",
              "      <td>0.000000</td>\n",
              "      <td>1.000000</td>\n",
              "      <td>0.000000</td>\n",
              "      <td>0.000000</td>\n",
              "      <td>0.000000</td>\n",
              "      <td>0.000000</td>\n",
              "      <td>0.000000</td>\n",
              "      <td>0.000000</td>\n",
              "      <td>0.000000</td>\n",
              "      <td>0.000000</td>\n",
              "      <td>1.000000</td>\n",
              "      <td>0.000000</td>\n",
              "      <td>0.000000</td>\n",
              "      <td>0.000000</td>\n",
              "      <td>0.000000</td>\n",
              "      <td>0.000000</td>\n",
              "      <td>0.000000</td>\n",
              "      <td>0.000000</td>\n",
              "      <td>0.000000</td>\n",
              "      <td>0.000000</td>\n",
              "      <td>0.000000</td>\n",
              "    </tr>\n",
              "    <tr>\n",
              "      <th>25%</th>\n",
              "      <td>3.000000</td>\n",
              "      <td>1.000000</td>\n",
              "      <td>0.000000</td>\n",
              "      <td>3.000000</td>\n",
              "      <td>10.000000</td>\n",
              "      <td>1.000000</td>\n",
              "      <td>0.000000</td>\n",
              "      <td>1.000000</td>\n",
              "      <td>2.000000</td>\n",
              "      <td>0.666667</td>\n",
              "      <td>41.000000</td>\n",
              "      <td>0.000000</td>\n",
              "      <td>0.000000</td>\n",
              "      <td>0.000000</td>\n",
              "      <td>0.277778</td>\n",
              "      <td>0.000000</td>\n",
              "      <td>0.000000</td>\n",
              "      <td>8.000000</td>\n",
              "      <td>1.000000</td>\n",
              "      <td>0.800000</td>\n",
              "      <td>2.000000</td>\n",
              "    </tr>\n",
              "    <tr>\n",
              "      <th>50%</th>\n",
              "      <td>6.000000</td>\n",
              "      <td>1.000000</td>\n",
              "      <td>0.000000</td>\n",
              "      <td>5.000000</td>\n",
              "      <td>18.000000</td>\n",
              "      <td>6.000000</td>\n",
              "      <td>1.000000</td>\n",
              "      <td>3.000000</td>\n",
              "      <td>3.000000</td>\n",
              "      <td>0.833333</td>\n",
              "      <td>123.000000</td>\n",
              "      <td>0.000000</td>\n",
              "      <td>0.000000</td>\n",
              "      <td>0.000000</td>\n",
              "      <td>0.357143</td>\n",
              "      <td>0.000000</td>\n",
              "      <td>0.000000</td>\n",
              "      <td>15.500000</td>\n",
              "      <td>2.000000</td>\n",
              "      <td>1.000000</td>\n",
              "      <td>2.000000</td>\n",
              "    </tr>\n",
              "    <tr>\n",
              "      <th>75%</th>\n",
              "      <td>9.000000</td>\n",
              "      <td>2.000000</td>\n",
              "      <td>0.000000</td>\n",
              "      <td>7.609756</td>\n",
              "      <td>31.000000</td>\n",
              "      <td>21.000000</td>\n",
              "      <td>4.000000</td>\n",
              "      <td>5.000000</td>\n",
              "      <td>7.000000</td>\n",
              "      <td>1.500000</td>\n",
              "      <td>200.000000</td>\n",
              "      <td>0.750000</td>\n",
              "      <td>1.000000</td>\n",
              "      <td>0.764706</td>\n",
              "      <td>0.500000</td>\n",
              "      <td>1.000000</td>\n",
              "      <td>0.590244</td>\n",
              "      <td>26.000000</td>\n",
              "      <td>4.000000</td>\n",
              "      <td>1.500000</td>\n",
              "      <td>3.000000</td>\n",
              "    </tr>\n",
              "    <tr>\n",
              "      <th>max</th>\n",
              "      <td>20.000000</td>\n",
              "      <td>3.000000</td>\n",
              "      <td>0.263415</td>\n",
              "      <td>17.000000</td>\n",
              "      <td>66.000000</td>\n",
              "      <td>53.931707</td>\n",
              "      <td>10.000000</td>\n",
              "      <td>11.000000</td>\n",
              "      <td>17.000000</td>\n",
              "      <td>2.000000</td>\n",
              "      <td>530.000000</td>\n",
              "      <td>1.000000</td>\n",
              "      <td>2.000000</td>\n",
              "      <td>1.000000</td>\n",
              "      <td>0.900000</td>\n",
              "      <td>2.000000</td>\n",
              "      <td>2.000000</td>\n",
              "      <td>56.692308</td>\n",
              "      <td>11.000000</td>\n",
              "      <td>2.800000</td>\n",
              "      <td>10.000000</td>\n",
              "    </tr>\n",
              "  </tbody>\n",
              "</table>\n",
              "</div>\n",
              "      <button class=\"colab-df-convert\" onclick=\"convertToInteractive('df-db4f1e16-61b7-4e40-bc8b-4b53fda8b64a')\"\n",
              "              title=\"Convert this dataframe to an interactive table.\"\n",
              "              style=\"display:none;\">\n",
              "        \n",
              "  <svg xmlns=\"http://www.w3.org/2000/svg\" height=\"24px\"viewBox=\"0 0 24 24\"\n",
              "       width=\"24px\">\n",
              "    <path d=\"M0 0h24v24H0V0z\" fill=\"none\"/>\n",
              "    <path d=\"M18.56 5.44l.94 2.06.94-2.06 2.06-.94-2.06-.94-.94-2.06-.94 2.06-2.06.94zm-11 1L8.5 8.5l.94-2.06 2.06-.94-2.06-.94L8.5 2.5l-.94 2.06-2.06.94zm10 10l.94 2.06.94-2.06 2.06-.94-2.06-.94-.94-2.06-.94 2.06-2.06.94z\"/><path d=\"M17.41 7.96l-1.37-1.37c-.4-.4-.92-.59-1.43-.59-.52 0-1.04.2-1.43.59L10.3 9.45l-7.72 7.72c-.78.78-.78 2.05 0 2.83L4 21.41c.39.39.9.59 1.41.59.51 0 1.02-.2 1.41-.59l7.78-7.78 2.81-2.81c.8-.78.8-2.07 0-2.86zM5.41 20L4 18.59l7.72-7.72 1.47 1.35L5.41 20z\"/>\n",
              "  </svg>\n",
              "      </button>\n",
              "      \n",
              "  <style>\n",
              "    .colab-df-container {\n",
              "      display:flex;\n",
              "      flex-wrap:wrap;\n",
              "      gap: 12px;\n",
              "    }\n",
              "\n",
              "    .colab-df-convert {\n",
              "      background-color: #E8F0FE;\n",
              "      border: none;\n",
              "      border-radius: 50%;\n",
              "      cursor: pointer;\n",
              "      display: none;\n",
              "      fill: #1967D2;\n",
              "      height: 32px;\n",
              "      padding: 0 0 0 0;\n",
              "      width: 32px;\n",
              "    }\n",
              "\n",
              "    .colab-df-convert:hover {\n",
              "      background-color: #E2EBFA;\n",
              "      box-shadow: 0px 1px 2px rgba(60, 64, 67, 0.3), 0px 1px 3px 1px rgba(60, 64, 67, 0.15);\n",
              "      fill: #174EA6;\n",
              "    }\n",
              "\n",
              "    [theme=dark] .colab-df-convert {\n",
              "      background-color: #3B4455;\n",
              "      fill: #D2E3FC;\n",
              "    }\n",
              "\n",
              "    [theme=dark] .colab-df-convert:hover {\n",
              "      background-color: #434B5C;\n",
              "      box-shadow: 0px 1px 3px 1px rgba(0, 0, 0, 0.15);\n",
              "      filter: drop-shadow(0px 1px 2px rgba(0, 0, 0, 0.3));\n",
              "      fill: #FFFFFF;\n",
              "    }\n",
              "  </style>\n",
              "\n",
              "      <script>\n",
              "        const buttonEl =\n",
              "          document.querySelector('#df-db4f1e16-61b7-4e40-bc8b-4b53fda8b64a button.colab-df-convert');\n",
              "        buttonEl.style.display =\n",
              "          google.colab.kernel.accessAllowed ? 'block' : 'none';\n",
              "\n",
              "        async function convertToInteractive(key) {\n",
              "          const element = document.querySelector('#df-db4f1e16-61b7-4e40-bc8b-4b53fda8b64a');\n",
              "          const dataTable =\n",
              "            await google.colab.kernel.invokeFunction('convertToInteractive',\n",
              "                                                     [key], {});\n",
              "          if (!dataTable) return;\n",
              "\n",
              "          const docLinkHtml = 'Like what you see? Visit the ' +\n",
              "            '<a target=\"_blank\" href=https://colab.research.google.com/notebooks/data_table.ipynb>data table notebook</a>'\n",
              "            + ' to learn more about interactive tables.';\n",
              "          element.innerHTML = '';\n",
              "          dataTable['output_type'] = 'display_data';\n",
              "          await google.colab.output.renderOutput(dataTable, element);\n",
              "          const docLink = document.createElement('div');\n",
              "          docLink.innerHTML = docLinkHtml;\n",
              "          element.appendChild(docLink);\n",
              "        }\n",
              "      </script>\n",
              "    </div>\n",
              "  </div>\n",
              "  "
            ],
            "text/plain": [
              "              wmc         dit         noc  ...      max_cc      avg_cc         bug\n",
              "count  205.000000  205.000000  205.000000  ...  205.000000  205.000000  205.000000\n",
              "mean     6.993504    1.490589    0.025699  ...    3.073004    1.176041    2.429268\n",
              "std      4.809768    0.650872    0.078352  ...    2.312814    0.554181    1.521455\n",
              "min      0.000000    1.000000    0.000000  ...    0.000000    0.000000    0.000000\n",
              "25%      3.000000    1.000000    0.000000  ...    1.000000    0.800000    2.000000\n",
              "50%      6.000000    1.000000    0.000000  ...    2.000000    1.000000    2.000000\n",
              "75%      9.000000    2.000000    0.000000  ...    4.000000    1.500000    3.000000\n",
              "max     20.000000    3.000000    0.263415  ...   11.000000    2.800000   10.000000\n",
              "\n",
              "[8 rows x 21 columns]"
            ]
          },
          "execution_count": 136,
          "metadata": {},
          "output_type": "execute_result"
        }
      ],
      "source": [
        "log4j.describe()"
      ]
    },
    {
      "cell_type": "code",
      "execution_count": null,
      "metadata": {
        "colab": {
          "base_uri": "https://localhost:8080/",
          "height": 268
        },
        "id": "xfQNfDeGK7AQ",
        "outputId": "b6e41c56-341a-47f0-f5cc-0ebf9838721f"
      },
      "outputs": [
        {
          "data": {
            "text/html": [
              "\n",
              "  <div id=\"df-0763fb3a-8f1e-4358-9113-fae60dd37817\">\n",
              "    <div class=\"colab-df-container\">\n",
              "      <div>\n",
              "<style scoped>\n",
              "    .dataframe tbody tr th:only-of-type {\n",
              "        vertical-align: middle;\n",
              "    }\n",
              "\n",
              "    .dataframe tbody tr th {\n",
              "        vertical-align: top;\n",
              "    }\n",
              "\n",
              "    .dataframe thead th {\n",
              "        text-align: right;\n",
              "    }\n",
              "</style>\n",
              "<table border=\"1\" class=\"dataframe\">\n",
              "  <thead>\n",
              "    <tr style=\"text-align: right;\">\n",
              "      <th></th>\n",
              "      <th>wmc</th>\n",
              "      <th>dit</th>\n",
              "      <th>noc</th>\n",
              "      <th>cbo</th>\n",
              "      <th>rfc</th>\n",
              "      <th>lcom</th>\n",
              "      <th>ca</th>\n",
              "      <th>ce</th>\n",
              "      <th>npm</th>\n",
              "      <th>lcom3</th>\n",
              "      <th>loc</th>\n",
              "      <th>dam</th>\n",
              "      <th>moa</th>\n",
              "      <th>mfa</th>\n",
              "      <th>cam</th>\n",
              "      <th>ic</th>\n",
              "      <th>cbm</th>\n",
              "      <th>amc</th>\n",
              "      <th>max_cc</th>\n",
              "      <th>avg_cc</th>\n",
              "    </tr>\n",
              "  </thead>\n",
              "  <tbody>\n",
              "    <tr>\n",
              "      <th>155</th>\n",
              "      <td>4.0</td>\n",
              "      <td>1.0</td>\n",
              "      <td>0.0</td>\n",
              "      <td>1.000000</td>\n",
              "      <td>11.0</td>\n",
              "      <td>2.000000</td>\n",
              "      <td>1.000000</td>\n",
              "      <td>0.0</td>\n",
              "      <td>2.0</td>\n",
              "      <td>0.777778</td>\n",
              "      <td>61.0</td>\n",
              "      <td>0.0</td>\n",
              "      <td>0.0</td>\n",
              "      <td>0.000000</td>\n",
              "      <td>0.500000</td>\n",
              "      <td>1.0</td>\n",
              "      <td>1.0</td>\n",
              "      <td>13.500000</td>\n",
              "      <td>6.0</td>\n",
              "      <td>2.0000</td>\n",
              "    </tr>\n",
              "    <tr>\n",
              "      <th>133</th>\n",
              "      <td>8.0</td>\n",
              "      <td>2.0</td>\n",
              "      <td>0.0</td>\n",
              "      <td>0.000000</td>\n",
              "      <td>10.0</td>\n",
              "      <td>28.000000</td>\n",
              "      <td>0.000000</td>\n",
              "      <td>0.0</td>\n",
              "      <td>8.0</td>\n",
              "      <td>2.000000</td>\n",
              "      <td>21.0</td>\n",
              "      <td>0.0</td>\n",
              "      <td>0.0</td>\n",
              "      <td>0.650000</td>\n",
              "      <td>0.468750</td>\n",
              "      <td>1.0</td>\n",
              "      <td>2.0</td>\n",
              "      <td>1.625000</td>\n",
              "      <td>1.0</td>\n",
              "      <td>0.8750</td>\n",
              "    </tr>\n",
              "    <tr>\n",
              "      <th>75</th>\n",
              "      <td>10.0</td>\n",
              "      <td>2.0</td>\n",
              "      <td>0.0</td>\n",
              "      <td>2.000000</td>\n",
              "      <td>37.0</td>\n",
              "      <td>23.000000</td>\n",
              "      <td>0.000000</td>\n",
              "      <td>2.0</td>\n",
              "      <td>7.0</td>\n",
              "      <td>0.833333</td>\n",
              "      <td>301.0</td>\n",
              "      <td>0.0</td>\n",
              "      <td>1.0</td>\n",
              "      <td>0.884058</td>\n",
              "      <td>0.200000</td>\n",
              "      <td>0.0</td>\n",
              "      <td>0.0</td>\n",
              "      <td>28.100000</td>\n",
              "      <td>4.0</td>\n",
              "      <td>1.7000</td>\n",
              "    </tr>\n",
              "    <tr>\n",
              "      <th>74</th>\n",
              "      <td>15.0</td>\n",
              "      <td>1.0</td>\n",
              "      <td>0.0</td>\n",
              "      <td>7.609756</td>\n",
              "      <td>15.0</td>\n",
              "      <td>53.931707</td>\n",
              "      <td>4.326829</td>\n",
              "      <td>6.0</td>\n",
              "      <td>15.0</td>\n",
              "      <td>2.000000</td>\n",
              "      <td>15.0</td>\n",
              "      <td>0.0</td>\n",
              "      <td>0.0</td>\n",
              "      <td>0.000000</td>\n",
              "      <td>0.216667</td>\n",
              "      <td>0.0</td>\n",
              "      <td>0.0</td>\n",
              "      <td>0.000000</td>\n",
              "      <td>1.0</td>\n",
              "      <td>1.0000</td>\n",
              "    </tr>\n",
              "    <tr>\n",
              "      <th>197</th>\n",
              "      <td>13.0</td>\n",
              "      <td>2.0</td>\n",
              "      <td>0.0</td>\n",
              "      <td>5.000000</td>\n",
              "      <td>35.0</td>\n",
              "      <td>48.000000</td>\n",
              "      <td>0.000000</td>\n",
              "      <td>5.0</td>\n",
              "      <td>11.0</td>\n",
              "      <td>0.791667</td>\n",
              "      <td>259.0</td>\n",
              "      <td>0.0</td>\n",
              "      <td>0.0</td>\n",
              "      <td>0.600000</td>\n",
              "      <td>0.292308</td>\n",
              "      <td>1.0</td>\n",
              "      <td>2.0</td>\n",
              "      <td>18.461538</td>\n",
              "      <td>5.0</td>\n",
              "      <td>1.5385</td>\n",
              "    </tr>\n",
              "  </tbody>\n",
              "</table>\n",
              "</div>\n",
              "      <button class=\"colab-df-convert\" onclick=\"convertToInteractive('df-0763fb3a-8f1e-4358-9113-fae60dd37817')\"\n",
              "              title=\"Convert this dataframe to an interactive table.\"\n",
              "              style=\"display:none;\">\n",
              "        \n",
              "  <svg xmlns=\"http://www.w3.org/2000/svg\" height=\"24px\"viewBox=\"0 0 24 24\"\n",
              "       width=\"24px\">\n",
              "    <path d=\"M0 0h24v24H0V0z\" fill=\"none\"/>\n",
              "    <path d=\"M18.56 5.44l.94 2.06.94-2.06 2.06-.94-2.06-.94-.94-2.06-.94 2.06-2.06.94zm-11 1L8.5 8.5l.94-2.06 2.06-.94-2.06-.94L8.5 2.5l-.94 2.06-2.06.94zm10 10l.94 2.06.94-2.06 2.06-.94-2.06-.94-.94-2.06-.94 2.06-2.06.94z\"/><path d=\"M17.41 7.96l-1.37-1.37c-.4-.4-.92-.59-1.43-.59-.52 0-1.04.2-1.43.59L10.3 9.45l-7.72 7.72c-.78.78-.78 2.05 0 2.83L4 21.41c.39.39.9.59 1.41.59.51 0 1.02-.2 1.41-.59l7.78-7.78 2.81-2.81c.8-.78.8-2.07 0-2.86zM5.41 20L4 18.59l7.72-7.72 1.47 1.35L5.41 20z\"/>\n",
              "  </svg>\n",
              "      </button>\n",
              "      \n",
              "  <style>\n",
              "    .colab-df-container {\n",
              "      display:flex;\n",
              "      flex-wrap:wrap;\n",
              "      gap: 12px;\n",
              "    }\n",
              "\n",
              "    .colab-df-convert {\n",
              "      background-color: #E8F0FE;\n",
              "      border: none;\n",
              "      border-radius: 50%;\n",
              "      cursor: pointer;\n",
              "      display: none;\n",
              "      fill: #1967D2;\n",
              "      height: 32px;\n",
              "      padding: 0 0 0 0;\n",
              "      width: 32px;\n",
              "    }\n",
              "\n",
              "    .colab-df-convert:hover {\n",
              "      background-color: #E2EBFA;\n",
              "      box-shadow: 0px 1px 2px rgba(60, 64, 67, 0.3), 0px 1px 3px 1px rgba(60, 64, 67, 0.15);\n",
              "      fill: #174EA6;\n",
              "    }\n",
              "\n",
              "    [theme=dark] .colab-df-convert {\n",
              "      background-color: #3B4455;\n",
              "      fill: #D2E3FC;\n",
              "    }\n",
              "\n",
              "    [theme=dark] .colab-df-convert:hover {\n",
              "      background-color: #434B5C;\n",
              "      box-shadow: 0px 1px 3px 1px rgba(0, 0, 0, 0.15);\n",
              "      filter: drop-shadow(0px 1px 2px rgba(0, 0, 0, 0.3));\n",
              "      fill: #FFFFFF;\n",
              "    }\n",
              "  </style>\n",
              "\n",
              "      <script>\n",
              "        const buttonEl =\n",
              "          document.querySelector('#df-0763fb3a-8f1e-4358-9113-fae60dd37817 button.colab-df-convert');\n",
              "        buttonEl.style.display =\n",
              "          google.colab.kernel.accessAllowed ? 'block' : 'none';\n",
              "\n",
              "        async function convertToInteractive(key) {\n",
              "          const element = document.querySelector('#df-0763fb3a-8f1e-4358-9113-fae60dd37817');\n",
              "          const dataTable =\n",
              "            await google.colab.kernel.invokeFunction('convertToInteractive',\n",
              "                                                     [key], {});\n",
              "          if (!dataTable) return;\n",
              "\n",
              "          const docLinkHtml = 'Like what you see? Visit the ' +\n",
              "            '<a target=\"_blank\" href=https://colab.research.google.com/notebooks/data_table.ipynb>data table notebook</a>'\n",
              "            + ' to learn more about interactive tables.';\n",
              "          element.innerHTML = '';\n",
              "          dataTable['output_type'] = 'display_data';\n",
              "          await google.colab.output.renderOutput(dataTable, element);\n",
              "          const docLink = document.createElement('div');\n",
              "          docLink.innerHTML = docLinkHtml;\n",
              "          element.appendChild(docLink);\n",
              "        }\n",
              "      </script>\n",
              "    </div>\n",
              "  </div>\n",
              "  "
            ],
            "text/plain": [
              "      wmc  dit  noc       cbo   rfc  ...   ic  cbm        amc  max_cc  avg_cc\n",
              "155   4.0  1.0  0.0  1.000000  11.0  ...  1.0  1.0  13.500000     6.0  2.0000\n",
              "133   8.0  2.0  0.0  0.000000  10.0  ...  1.0  2.0   1.625000     1.0  0.8750\n",
              "75   10.0  2.0  0.0  2.000000  37.0  ...  0.0  0.0  28.100000     4.0  1.7000\n",
              "74   15.0  1.0  0.0  7.609756  15.0  ...  0.0  0.0   0.000000     1.0  1.0000\n",
              "197  13.0  2.0  0.0  5.000000  35.0  ...  1.0  2.0  18.461538     5.0  1.5385\n",
              "\n",
              "[5 rows x 20 columns]"
            ]
          },
          "execution_count": 137,
          "metadata": {},
          "output_type": "execute_result"
        }
      ],
      "source": [
        "X.head()"
      ]
    },
    {
      "cell_type": "code",
      "execution_count": null,
      "metadata": {
        "colab": {
          "base_uri": "https://localhost:8080/"
        },
        "id": "kFR4kqOPK7AR",
        "outputId": "249b3bc1-4df1-43e0-a70d-5f7bb04cbb5e"
      },
      "outputs": [
        {
          "data": {
            "text/plain": [
              "155    3\n",
              "133    2\n",
              "75     1\n",
              "74     3\n",
              "197    3\n",
              "Name: bug, dtype: int64"
            ]
          },
          "execution_count": 138,
          "metadata": {},
          "output_type": "execute_result"
        }
      ],
      "source": [
        "y.head()"
      ]
    },
    {
      "cell_type": "code",
      "execution_count": null,
      "metadata": {
        "id": "EPhZm8LrK7AR"
      },
      "outputs": [],
      "source": [
        "#Label convert binary \n",
        "y = np.where((y > 1), 1, y) \n",
        "y = pd.Series(y)"
      ]
    },
    {
      "cell_type": "code",
      "execution_count": null,
      "metadata": {
        "colab": {
          "base_uri": "https://localhost:8080/"
        },
        "id": "ZxGRLjApK7AR",
        "outputId": "c7b120cd-d0de-4b19-9130-acea6775838d"
      },
      "outputs": [
        {
          "name": "stdout",
          "output_type": "stream",
          "text": [
            "[0      False\n",
            "1      False\n",
            "2      False\n",
            "3      False\n",
            "4      False\n",
            "       ...  \n",
            "200    False\n",
            "201    False\n",
            "202    False\n",
            "203    False\n",
            "204    False\n",
            "Length: 205, dtype: bool]\n"
          ]
        }
      ],
      "source": [
        "print([y > 1])"
      ]
    },
    {
      "cell_type": "code",
      "execution_count": null,
      "metadata": {
        "id": "OtLjvt7NK7AR"
      },
      "outputs": [],
      "source": [
        "#Class Balance: we can see bugs rate\n",
        "unique, counts = np.unique(y, return_counts=True)\n",
        "print(\"Classes:\", unique.tolist())\n",
        "print(\"Counts:\", counts.tolist())\n",
        "\n",
        "plt.bar(unique, counts, color=['g', 'orange'], alpha=0.7)\n",
        "plt.title(\"#Bugs VS Occurrences\")\n",
        "plt.xticks(range(len(unique)))\n",
        "plt.ylabel(\"Occurrences\")\n",
        "plt.xlabel(\"# Bugs\");"
      ]
    },
    {
      "cell_type": "code",
      "execution_count": null,
      "metadata": {
        "colab": {
          "base_uri": "https://localhost:8080/"
        },
        "id": "uS4eeUKpK7AR",
        "outputId": "61c08d68-7516-415e-d95f-1ab834fa3afd"
      },
      "outputs": [
        {
          "name": "stdout",
          "output_type": "stream",
          "text": [
            "Train: (143, 20) (143,) Test: (31, 20) (31,) Cross Validation (31, 20) (31,)\n"
          ]
        }
      ],
      "source": [
        "#Splitting data train, test, and cross validation\n",
        "from sklearn.model_selection import train_test_split\n",
        "X_train, X_test, y_train, y_test = train_test_split(X, y, test_size=0.3)\n",
        "X_cv, X_test, y_cv, y_test = train_test_split(X_test, y_test, test_size=0.5)\n",
        "print(\"Train:\", X_train.shape, y_train.shape,\n",
        "      \"Test:\", X_test.shape, y_test.shape,\n",
        "      \"Cross Validation\", X_cv.shape, y_cv.shape)"
      ]
    },
    {
      "cell_type": "code",
      "execution_count": null,
      "metadata": {
        "id": "G6ZnyHggK7AS"
      },
      "outputs": [],
      "source": [
        "#we can see y_train bugs rate\n",
        "unique, counts = np.unique(y_train, return_counts=True)\n",
        "print(\"Classes:\", unique.tolist())\n",
        "print(\"Counts:\", counts.tolist())\n",
        "\n",
        "plt.bar(unique, counts, color=['g', 'orange'], alpha=0.7)\n",
        "plt.title(\"#Bugs VS Occurrences\")\n",
        "plt.xticks(range(len(unique)))\n",
        "plt.ylabel(\"Occurrences\")\n",
        "plt.xlabel(\"# Bugs\");"
      ]
    },
    {
      "cell_type": "code",
      "execution_count": null,
      "metadata": {
        "colab": {
          "base_uri": "https://localhost:8080/"
        },
        "id": "CZH-ZM0SK7AS",
        "outputId": "8bbc4a93-92b1-4e8e-9c6b-3c121b18c4f1"
      },
      "outputs": [
        {
          "name": "stdout",
          "output_type": "stream",
          "text": [
            "Train: (143, 20) (143,) Test: (31, 20) (31,) Cross Validation (31, 20) (31,)\n"
          ]
        }
      ],
      "source": [
        "#Scaling features\n",
        "X_train_scaled = pd.DataFrame(StandardScaler().fit_transform(X_train.values), columns=X_train.columns, index=X_train.index)\n",
        "X_test_scaled = pd.DataFrame(StandardScaler().fit_transform(X_test.values), columns=X_test.columns, index=X_test.index)\n",
        "\n",
        "data_for_viz = X_train_scaled.copy()\n",
        "data_for_viz_unscaled = X_train.copy()\n",
        "\n",
        "data_for_viz['Bugs'] = y_train.copy().tolist()\n",
        "data_for_viz_unscaled['Bugs'] = y_train.copy().tolist()\n",
        "\n",
        "print(\"Train:\", X_train.shape, y_train.shape,\n",
        "      \"Test:\", X_test.shape, y_test.shape,\n",
        "      \"Cross Validation\", X_cv.shape, y_cv.shape)"
      ]
    },
    {
      "cell_type": "code",
      "execution_count": null,
      "metadata": {
        "id": "x3lcXAe2K7AS"
      },
      "outputs": [],
      "source": [
        "data_for_viz.head()"
      ]
    },
    {
      "cell_type": "code",
      "execution_count": null,
      "metadata": {
        "id": "QTe6nxa1K7AT"
      },
      "outputs": [],
      "source": [
        "#Correlation matrix\n",
        "fig, ax = plt.subplots(figsize=(10,8))\n",
        "\n",
        "corr = data_for_viz.corr()\n",
        "mask = np.triu(corr)\n",
        "sns.heatmap(corr, vmin=-1, vmax=1, center= 0, cmap= 'Pastel2', linewidths=3, ax=ax, mask=mask);\n",
        "\n",
        "#We can see that highest correlated variables with Bugs are:\n",
        "\n",
        "#1) wmc \n",
        "# highest correlated with rfc, npm, loc, ce, dam, "
      ]
    },
    {
      "cell_type": "code",
      "execution_count": null,
      "metadata": {
        "id": "GDe-M9OvK7AT"
      },
      "outputs": [],
      "source": [
        "#Feature Importance / Selection\n",
        "rfc = RandomForestClassifier()\n",
        "rfc.fit(X_train, y_train);\n",
        "coef_rfc = pd.Series(rfc.feature_importances_, index = X_train.columns)"
      ]
    },
    {
      "cell_type": "code",
      "execution_count": null,
      "metadata": {
        "id": "PySOCDxfK7AT"
      },
      "outputs": [],
      "source": [
        "preds = rfc.predict(X_train)\n",
        "print(\"accuracy score:\", accuracy_score(y_train, preds))\n",
        "#Acc is high and its normal because of only x_train modelling"
      ]
    },
    {
      "cell_type": "code",
      "execution_count": null,
      "metadata": {
        "id": "EQFGbyTCK7AU"
      },
      "outputs": [],
      "source": [
        "coef_rfc.sort_values()[7:].plot(kind='barh', cmap=\"Pastel2\");"
      ]
    },
    {
      "cell_type": "code",
      "execution_count": null,
      "metadata": {
        "id": "0pDrOB3SK7AU"
      },
      "outputs": [],
      "source": [
        "data_for_viz_unscaled.head()"
      ]
    },
    {
      "cell_type": "code",
      "execution_count": null,
      "metadata": {
        "id": "PSIx2co6K7AU"
      },
      "outputs": [],
      "source": [
        "for_pair_plot = data_for_viz_unscaled[['ce', 'avg_cc', 'loc','amc', 'cam', 'cbo', 'mfa', 'npm', 'rfc', 'lcom3','wmc','Bugs']]\n",
        "pairplot = sns.pairplot(for_pair_plot, hue=\"Bugs\", vars=['ce', 'avg_cc', 'loc','amc', 'cam', 'cbo', 'mfa', 'npm', 'rfc', 'lcom3','wmc']);\n",
        "pairplot.fig.suptitle(\"Scatter w.r.t classes: 0, > 1 Bugs\", y=1.02);\n",
        "\n"
      ]
    },
    {
      "cell_type": "code",
      "execution_count": null,
      "metadata": {
        "id": "xRCadTeSK7AU"
      },
      "outputs": [],
      "source": [
        "#MODELING\n",
        "def Modeler(model, X_train, y_train, X_cv, y_cv, params, scale=True, n_jobs=True, pca=False):\n",
        "    \n",
        "    if scale & pca:\n",
        "        pipeline = Pipeline([\n",
        "            ('scale', StandardScaler()),\n",
        "            ('dim_reduct', PCA(n_components=4)),\n",
        "            ('clf', model())])\n",
        "        print(\"Scaling and dim reduct...\")\n",
        "        \n",
        "    elif scale:\n",
        "        pipeline = Pipeline([ ('scale', StandardScaler()), ('clf', model())])\n",
        "        \n",
        "    elif pca:\n",
        "        pipeline = Pipeline([\n",
        "        ('dim_reduct', PCA(n_components=pca)),\n",
        "        ('clf', model())])\n",
        "    else:\n",
        "        pipeline = Pipeline([('clf', model())])\n",
        "        \n",
        "    grid = GridSearchCV(pipeline, param_grid = params, cv=3, n_jobs=4, refit=True)\n",
        "    grid.fit(X_cv, y_cv)\n",
        "    \n",
        "    best_prameters = {}\n",
        "    for k, v in grid.best_params_.items():\n",
        "        best_prameters[k[5:]] = v\n",
        "\n",
        "    if n_jobs:\n",
        "        model = model(**best_prameters, n_jobs=4)\n",
        "    else:\n",
        "        model = model(**best_prameters)\n",
        "   \n",
        "    model.fit(X_train, y_train)\n",
        "    \n",
        "    print(\"Best Parameters for model:\", best_prameters)\n",
        "\n",
        "    return {\n",
        "        \"model\": model, \n",
        "        \"best_params\":best_prameters\n",
        "    }"
      ]
    },
    {
      "cell_type": "code",
      "execution_count": null,
      "metadata": {
        "id": "eLxEsDR6K7AV"
      },
      "outputs": [],
      "source": [
        "def model_eval(model, X_test, y_test, acc=True, auc_=True, plot_conf=True, plot_auc=True, multi=True, f1=True, prop=False):\n",
        "    \n",
        "    res = [None, None, None] # Accuracy, auc_roc, f1_score\n",
        "    y_pred = model.predict(X_test)\n",
        "    \n",
        "    if prop:\n",
        "        y_pred = np.where(y_pred > 0.5, 1, 0)\n",
        "    \n",
        "    if f1:\n",
        "        f_sc = f1_score(y_test, y_pred, average='macro')\n",
        "        res[2] = f_sc\n",
        "        \n",
        "    if acc:\n",
        "        res[0] = accuracy_score(y_test, y_pred)\n",
        "#         print('accuracy:', res[0] * 100 ,'%')\n",
        "\n",
        "    if auc_:\n",
        "        lb = LabelBinarizer()\n",
        "        lb.fit(y_test)\n",
        "\n",
        "        truth = lb.transform(y_test)\n",
        "        y_pred_encode = lb.transform(y_pred)\n",
        "\n",
        "        res[1] = roc_auc_score(truth, y_pred_encode, average = 'macro')\n",
        "#         print('ROC:', res[1] * 100 ,'%')\n",
        "\n",
        "    if plot_conf:\n",
        "        fig, ax = plt.subplots(figsize=(10,6))\n",
        "\n",
        "        conf = confusion_matrix(y_test, y_pred, labels=np.unique(y_test))\n",
        "        sns.heatmap(conf, cmap= 'Set1', annot=True, cbar=False)\n",
        "        plt.ylabel('Actual')\n",
        "        plt.xlabel('Predicted')\n",
        "        plt.title('Confusion Matrix');\n",
        "    \n",
        "    if plot_auc:\n",
        "        fig, ax = plt.subplots(figsize=(10,6))\n",
        "\n",
        "        if not auc_:\n",
        "            lb = LabelBinarizer()\n",
        "            lb.fit(y_test)\n",
        "\n",
        "            truth = lb.transform(y_test)\n",
        "            y_pred_encode = lb.transform(y_pred)\n",
        "\n",
        "        fpr = [None, None, None]\n",
        "        tpr = [None, None, None]\n",
        "        auc_of_roc = [None, None, None]\n",
        "        \n",
        "        n_classes = 1 #(0, 1)\n",
        "        \n",
        "        for i in range(n_classes):\n",
        "            fpr[i], tpr[i], _ = roc_curve(truth[:, i], y_pred_encode[:, i])\n",
        "            auc_of_roc[i] = auc(fpr[i], tpr[i])\n",
        "            \n",
        "        plt.plot(fpr[0], tpr[0], label='0 - area under ROC = %0.3f' % auc_of_roc[0])\n",
        "        if multi:\n",
        "            plt.plot(fpr[1], tpr[1], label='1 - area under ROC = %0.3f' % auc_of_roc[1])\n",
        "\n",
        "        plt.xlabel('False Positive Rate')\n",
        "        plt.ylabel('True Positive Rate')\n",
        "        plt.title(\"ROC AUC\");\n",
        "        plt.legend()\n",
        "\n",
        "    return res"
      ]
    },
    {
      "cell_type": "code",
      "execution_count": null,
      "metadata": {
        "id": "CsQHm6j-yBUs"
      },
      "outputs": [],
      "source": [
        "\n",
        "X_train_scaled_featured = X_train_scaled[['ce', 'avg_cc', 'loc','amc', 'cam', 'cbo', 'mfa', 'npm', 'rfc', 'lcom3','wmc']]\n",
        "X_test_scaled_featured = X_test_scaled[['ce', 'avg_cc', 'loc','amc', 'cam', 'cbo', 'mfa', 'npm', 'rfc', 'lcom3','wmc']]\n",
        "X_cv_featured = X_cv[['ce', 'avg_cc', 'loc','amc', 'cam', 'cbo', 'mfa', 'npm', 'rfc', 'lcom3','wmc']]\n"
      ]
    },
    {
      "cell_type": "code",
      "execution_count": null,
      "metadata": {
        "id": "mXrmyYKhzDOl"
      },
      "outputs": [],
      "source": [
        "from imblearn.over_sampling import SMOTE\n",
        "X_train_over_sampled, y_train_over_sampled = SMOTE().fit_resample(X_train_scaled_featured, y_train)\n",
        "X_cv_over_sampled, y_cv_over_sampled = SMOTE(k_neighbors=1).fit_resample(X_cv_featured, y_cv)\n",
        "\n"
      ]
    },
    {
      "cell_type": "code",
      "execution_count": null,
      "metadata": {
        "id": "GpFKKA4CK7AV"
      },
      "outputs": [],
      "source": [
        "# print((y_train_over_sampled == 1).sum())\n",
        "# print((y_train_over_sampled == 0).sum())\n",
        "\n",
        "# print((y_cv_over_sampled == 1).sum())\n",
        "# print((y_cv_over_sampled == 0).sum())\n",
        "\n",
        "X_train_over_sampled = pd.DataFrame(X_train_over_sampled)\n",
        "X_cv_over_sampled = pd.DataFrame(X_cv_over_sampled)\n",
        "\n",
        "y_train_over_sampled = pd.Series(y_train_over_sampled)\n",
        "y_cv_over_sampled = pd.Series(y_cv_over_sampled)"
      ]
    },
    {
      "cell_type": "code",
      "execution_count": null,
      "metadata": {
        "id": "lwnGU1ahAX74"
      },
      "outputs": [],
      "source": [
        "# print(\"Train:\", X_train_over_sampled.shape, y_train_over_sampled.shape,\n",
        "#       \"Test:\", X_test.shape, y_test.shape,\n",
        "#       \"Cross Validation\", X_cv_over_sampled.shape, y_cv_over_sampled.shape)"
      ]
    },
    {
      "cell_type": "code",
      "execution_count": null,
      "metadata": {
        "colab": {
          "base_uri": "https://localhost:8080/"
        },
        "id": "MAS09vaBK7AW",
        "outputId": "a4879574-eb2e-4817-af46-814201adf249"
      },
      "outputs": [
        {
          "name": "stdout",
          "output_type": "stream",
          "text": [
            "Best Parameters for model: {'C': 1, 'gamma': 1, 'kernel': 'rbf'}\n"
          ]
        }
      ],
      "source": [
        "# SVC()\n",
        "svc_params = {\n",
        "    'clf__C': [0.1, 1, 10],\n",
        "    'clf__kernel': ['linear', 'rbf'],\n",
        "    'clf__gamma':[1, 0.01, 0.001]\n",
        "}\n",
        "\n",
        "svc = Modeler(SVC,  X_train_over_sampled, y_train_over_sampled,  X_cv_over_sampled, y_cv_over_sampled, svc_params, scale=True, n_jobs=False)"
      ]
    },
    {
      "cell_type": "code",
      "execution_count": null,
      "metadata": {
        "id": "DXxUwqCJK7AW"
      },
      "outputs": [],
      "source": [
        "model_scoring = model_eval(svc[\"model\"], X_test_scaled_featured, y_test, multi=False)\n",
        "scores = {}\n",
        "scores[\"Support-Vector Machine | Binary\"] = {\"Accuracy\": model_scoring[0],\n",
        "                             \"ROC\": model_scoring[1],\n",
        "                             \"F1-Score\": model_scoring[2]}"
      ]
    },
    {
      "cell_type": "code",
      "execution_count": null,
      "metadata": {
        "colab": {
          "base_uri": "https://localhost:8080/"
        },
        "id": "0qA2tmt1K7AW",
        "outputId": "7ffaa54a-1f7f-4687-c2e2-8a86c9d52d30"
      },
      "outputs": [
        {
          "name": "stdout",
          "output_type": "stream",
          "text": [
            "Best Parameters for model: {'metric': 'euclidean', 'n_neighbors': 3, 'weights': 'distance'}\n"
          ]
        }
      ],
      "source": [
        "#KNN\n",
        "knn_params = {\n",
        "    'clf__n_neighbors': [3, 5, 11, 17], # Try not to put even numbers\n",
        "    'clf__weights': ['uniform', 'distance'],\n",
        "    'clf__metric': ['euclidean', 'manhattan'],\n",
        "}\n",
        "\n",
        "knn = Modeler(KNeighborsClassifier,X_train_over_sampled, y_train_over_sampled,  X_cv_over_sampled, y_cv_over_sampled, knn_params, scale=True)"
      ]
    },
    {
      "cell_type": "code",
      "execution_count": null,
      "metadata": {
        "id": "I2Ms8sYqK7AW"
      },
      "outputs": [],
      "source": [
        "model_scoring = model_eval(knn[\"model\"], X_test_scaled_featured, y_test, multi=False)\n",
        "scores[\"K-Nearest Neighbor | Binary\"] = {\"Accuracy\": model_scoring[0],\n",
        "                             \"ROC\": model_scoring[1],\n",
        "                             \"F1-Score\": model_scoring[2]}"
      ]
    },
    {
      "cell_type": "code",
      "execution_count": null,
      "metadata": {
        "colab": {
          "base_uri": "https://localhost:8080/"
        },
        "id": "tv7DtloiK7AX",
        "outputId": "ab7c417b-95c5-4caa-97b9-c7622dd506e9"
      },
      "outputs": [
        {
          "name": "stdout",
          "output_type": "stream",
          "text": [
            "Best Parameters for model: {'criterion': 'gini', 'max_depth': 10, 'max_features': 0.4, 'n_estimators': 500}\n"
          ]
        }
      ],
      "source": [
        "#RANDOM FOREST\n",
        "rfc_params = {\n",
        "    'clf__n_estimators'      : [200, 500, 1000],\n",
        "    'clf__max_depth'         : [10, 20, 50],\n",
        "    'clf__max_features': [1.0, 0.7, 0.4],\n",
        "    'clf__criterion' :['gini', 'entropy']\n",
        "}\n",
        "\n",
        "rfc = Modeler(RandomForestClassifier,X_train_over_sampled, y_train_over_sampled,  X_cv_over_sampled, y_cv_over_sampled, rfc_params, scale=True) "
      ]
    },
    {
      "cell_type": "code",
      "execution_count": null,
      "metadata": {
        "id": "Lpe0cuFRK7AX"
      },
      "outputs": [],
      "source": [
        "model_scoring = model_eval(rfc[\"model\"], X_test_scaled_featured, y_test, multi=False)\n",
        "scores[\"Random Forest | Binary\"] = {\"Accuracy\": model_scoring[0],\n",
        "                             \"ROC\": model_scoring[1],\n",
        "                             \"F1-Score\": model_scoring[2]}"
      ]
    },
    {
      "cell_type": "code",
      "execution_count": null,
      "metadata": {
        "colab": {
          "base_uri": "https://localhost:8080/"
        },
        "id": "y_QiKzIYK7AX",
        "outputId": "48b16bf5-6291-4b5b-bc1d-b94eb5c90166"
      },
      "outputs": [
        {
          "name": "stdout",
          "output_type": "stream",
          "text": [
            "Best Parameters for model: {'learning_rate': 0.1, 'n_estimators': 100}\n"
          ]
        }
      ],
      "source": [
        "#ADA BOOST\n",
        "# AdaBoostClassifier\n",
        "ada_params = {\n",
        "    'clf__learning_rate': [0.1, 0.5, 1.0],\n",
        "    'clf__n_estimators': [100, 200]\n",
        "}\n",
        "\n",
        "ada = Modeler(AdaBoostClassifier, X_train_over_sampled, y_train_over_sampled,  X_cv_over_sampled, y_cv_over_sampled, ada_params, scale=True, n_jobs=False)"
      ]
    },
    {
      "cell_type": "code",
      "execution_count": null,
      "metadata": {
        "id": "T4cMkPKMK7AX"
      },
      "outputs": [],
      "source": [
        "model_scoring = model_eval(ada[\"model\"], X_test_scaled_featured, y_test, multi=False)\n",
        "scores[\"AdaBoost Classifier | Binary\"] = {\"Accuracy\": model_scoring[0],\n",
        "                             \"ROC\": model_scoring[1],\n",
        "                             \"F1-Score\": model_scoring[2]}"
      ]
    },
    {
      "cell_type": "code",
      "execution_count": null,
      "metadata": {
        "id": "qYg-Th7-K7AX"
      },
      "outputs": [],
      "source": [
        "score_df = pd.DataFrame.from_dict(scores).T\n",
        "score_df= score_df.sort_values('ROC', ascending=False)"
      ]
    },
    {
      "cell_type": "code",
      "execution_count": null,
      "metadata": {
        "id": "pCVx-U-HK7AY"
      },
      "outputs": [],
      "source": [
        "score_df"
      ]
    },
    {
      "cell_type": "markdown",
      "metadata": {
        "id": "E6dcL10qK-UW"
      },
      "source": [
        "# Altıncı Datasetin Scale, Feature Selection ve Modelling işlemleri"
      ]
    },
    {
      "cell_type": "code",
      "execution_count": null,
      "metadata": {
        "id": "USbpzTXKK-UX"
      },
      "outputs": [],
      "source": [
        "# Shuffle data before removing classname to keep mapping\n",
        "lucene = df[5].sample(frac=1.0)\n",
        "\n",
        "# We do not need confusing variables such as the class name; We can use it as an index or leave it.\n",
        "X = lucene.iloc[:, :-1]\n",
        "y = lucene[\"bug\"]\n",
        "\n",
        "print(\"X:\", X.shape)\n",
        "print(\"y:\", y.shape)"
      ]
    },
    {
      "cell_type": "code",
      "execution_count": null,
      "metadata": {
        "id": "5I2FtB2FK-UX"
      },
      "outputs": [],
      "source": [
        "lucene.describe()"
      ]
    },
    {
      "cell_type": "code",
      "execution_count": null,
      "metadata": {
        "id": "dx83hw9QK-UX"
      },
      "outputs": [],
      "source": [
        "X.head()"
      ]
    },
    {
      "cell_type": "code",
      "execution_count": null,
      "metadata": {
        "id": "0CsacqKnK-UX"
      },
      "outputs": [],
      "source": [
        "y.head()"
      ]
    },
    {
      "cell_type": "code",
      "execution_count": null,
      "metadata": {
        "id": "Pu0T7SO-K-UX"
      },
      "outputs": [],
      "source": [
        "#Label convert binary \n",
        "y = np.where((y > 1), 1, y) \n",
        "y = pd.Series(y)"
      ]
    },
    {
      "cell_type": "code",
      "execution_count": null,
      "metadata": {
        "id": "zSmmYZ4mK-UX"
      },
      "outputs": [],
      "source": [
        "print([y > 1])"
      ]
    },
    {
      "cell_type": "code",
      "execution_count": null,
      "metadata": {
        "id": "Kh4e9obsK-UX"
      },
      "outputs": [],
      "source": [
        "#Class Balance: we can see bugs rate\n",
        "unique, counts = np.unique(y, return_counts=True)\n",
        "print(\"Classes:\", unique.tolist())\n",
        "print(\"Counts:\", counts.tolist())\n",
        "\n",
        "plt.bar(unique, counts, color=['g', 'orange'], alpha=0.7)\n",
        "plt.title(\"#Bugs VS Occurrences\")\n",
        "plt.xticks(range(len(unique)))\n",
        "plt.ylabel(\"Occurrences\")\n",
        "plt.xlabel(\"# Bugs\");"
      ]
    },
    {
      "cell_type": "code",
      "execution_count": null,
      "metadata": {
        "colab": {
          "base_uri": "https://localhost:8080/"
        },
        "id": "NA9q0jICK-UX",
        "outputId": "f1b51c5a-5a35-454b-bf15-56b0df07f861"
      },
      "outputs": [
        {
          "name": "stdout",
          "output_type": "stream",
          "text": [
            "Train: (238, 20) (238,) Test: (51, 20) (51,) Cross Validation (51, 20) (51,)\n"
          ]
        }
      ],
      "source": [
        "#Splitting data train, test, and cross validation\n",
        "from sklearn.model_selection import train_test_split\n",
        "X_train, X_test, y_train, y_test = train_test_split(X, y, test_size=0.3)\n",
        "X_cv, X_test, y_cv, y_test = train_test_split(X_test, y_test, test_size=0.5)\n",
        "print(\"Train:\", X_train.shape, y_train.shape,\n",
        "      \"Test:\", X_test.shape, y_test.shape,\n",
        "      \"Cross Validation\", X_cv.shape, y_cv.shape)"
      ]
    },
    {
      "cell_type": "code",
      "execution_count": null,
      "metadata": {
        "id": "uspyX6lzK-UY"
      },
      "outputs": [],
      "source": [
        "#we can see y_train bugs rate\n",
        "unique, counts = np.unique(y_train, return_counts=True)\n",
        "print(\"Classes:\", unique.tolist())\n",
        "print(\"Counts:\", counts.tolist())\n",
        "\n",
        "plt.bar(unique, counts, color=['g', 'orange'], alpha=0.7)\n",
        "plt.title(\"#Bugs VS Occurrences\")\n",
        "plt.xticks(range(len(unique)))\n",
        "plt.ylabel(\"Occurrences\")\n",
        "plt.xlabel(\"# Bugs\");"
      ]
    },
    {
      "cell_type": "code",
      "execution_count": null,
      "metadata": {
        "colab": {
          "base_uri": "https://localhost:8080/"
        },
        "id": "Da2v6u7kK-UY",
        "outputId": "58a4e877-f7ef-4bbd-b6f4-052aa356c887"
      },
      "outputs": [
        {
          "name": "stdout",
          "output_type": "stream",
          "text": [
            "Train: (238, 20) (238,) Test: (51, 20) (51,) Cross Validation (51, 20) (51,)\n"
          ]
        }
      ],
      "source": [
        "#Scaling features\n",
        "X_train_scaled = pd.DataFrame(StandardScaler().fit_transform(X_train.values), columns=X_train.columns, index=X_train.index)\n",
        "X_test_scaled = pd.DataFrame(StandardScaler().fit_transform(X_test.values), columns=X_test.columns, index=X_test.index)\n",
        "\n",
        "data_for_viz = X_train_scaled.copy()\n",
        "data_for_viz_unscaled = X_train.copy()\n",
        "\n",
        "data_for_viz['Bugs'] = y_train.copy().tolist()\n",
        "data_for_viz_unscaled['Bugs'] = y_train.copy().tolist()\n",
        "\n",
        "print(\"Train:\", X_train.shape, y_train.shape,\n",
        "      \"Test:\", X_test.shape, y_test.shape,\n",
        "      \"Cross Validation\", X_cv.shape, y_cv.shape)"
      ]
    },
    {
      "cell_type": "code",
      "execution_count": null,
      "metadata": {
        "id": "bEXhhtPdK-UY"
      },
      "outputs": [],
      "source": [
        "data_for_viz.head()"
      ]
    },
    {
      "cell_type": "code",
      "execution_count": null,
      "metadata": {
        "id": "CkNqHyctK-UY"
      },
      "outputs": [],
      "source": [
        "#Correlation matrix\n",
        "fig, ax = plt.subplots(figsize=(10,8))\n",
        "\n",
        "corr = data_for_viz.corr()\n",
        "mask = np.triu(corr)\n",
        "sns.heatmap(corr, vmin=-1, vmax=1, center= 0, cmap= 'Pastel2', linewidths=3, ax=ax, mask=mask);\n",
        "\n",
        "#We can see that highest correlated variables with Bugs are:\n",
        "\n",
        "#1) wmc \n",
        "# highest correlated with rfc, npm, loc, ce, dam, "
      ]
    },
    {
      "cell_type": "code",
      "execution_count": null,
      "metadata": {
        "id": "YCMvsyKzK-UY"
      },
      "outputs": [],
      "source": [
        "#Feature Importance / Selection\n",
        "rfc = RandomForestClassifier()\n",
        "rfc.fit(X_train, y_train);\n",
        "coef_rfc = pd.Series(rfc.feature_importances_, index = X_train.columns)"
      ]
    },
    {
      "cell_type": "code",
      "execution_count": null,
      "metadata": {
        "colab": {
          "base_uri": "https://localhost:8080/"
        },
        "id": "MDVCJbYaK-UY",
        "outputId": "05bf2eb0-0085-4c50-a2fc-5257af0fa5a4"
      },
      "outputs": [
        {
          "name": "stdout",
          "output_type": "stream",
          "text": [
            "accuracy score: 1.0\n"
          ]
        }
      ],
      "source": [
        "preds = rfc.predict(X_train)\n",
        "print(\"accuracy score:\", accuracy_score(y_train, preds))\n",
        "#Acc is high and its normal because of only x_train modelling"
      ]
    },
    {
      "cell_type": "code",
      "execution_count": null,
      "metadata": {
        "id": "fAlj9_1mK-UY"
      },
      "outputs": [],
      "source": [
        "coef_rfc.sort_values()[7:].plot(kind='barh', cmap=\"Pastel2\");"
      ]
    },
    {
      "cell_type": "code",
      "execution_count": null,
      "metadata": {
        "id": "V52otLheK-UZ"
      },
      "outputs": [],
      "source": [
        "data_for_viz_unscaled.head()"
      ]
    },
    {
      "cell_type": "code",
      "execution_count": null,
      "metadata": {
        "id": "BTNDw7hwK-UZ"
      },
      "outputs": [],
      "source": [
        "for_pair_plot = data_for_viz_unscaled[['rfc', 'cbo', 'loc','amc', 'cam', 'npm', 'ce','avg_cc','lcom3', 'wmc','ca', 'Bugs']]\n",
        "pairplot = sns.pairplot(for_pair_plot, hue=\"Bugs\", vars=['rfc', 'cbo', 'loc','amc', 'cam','npm', 'ce', 'avg_cc','lcom3', 'wmc','ca']);\n",
        "pairplot.fig.suptitle(\"Scatter w.r.t classes: 0, > 1 Bugs\", y=1.02);"
      ]
    },
    {
      "cell_type": "code",
      "execution_count": null,
      "metadata": {
        "id": "RLnv_qHRK-UZ"
      },
      "outputs": [],
      "source": [
        "#MODELING\n",
        "def Modeler(model, X_train, y_train, X_cv, y_cv, params, scale=True, n_jobs=True, pca=False):\n",
        "    \n",
        "    if scale & pca:\n",
        "        pipeline = Pipeline([\n",
        "            ('scale', StandardScaler()),\n",
        "            ('dim_reduct', PCA(n_components=4)),\n",
        "            ('clf', model())])\n",
        "        print(\"Scaling and dim reduct...\")\n",
        "        \n",
        "    elif scale:\n",
        "        pipeline = Pipeline([ ('scale', StandardScaler()), ('clf', model())])\n",
        "        \n",
        "    elif pca:\n",
        "        pipeline = Pipeline([\n",
        "        ('dim_reduct', PCA(n_components=pca)),\n",
        "        ('clf', model())])\n",
        "    else:\n",
        "        pipeline = Pipeline([('clf', model())])\n",
        "        \n",
        "    grid = GridSearchCV(pipeline, param_grid = params, cv=3, n_jobs=4, refit=True)\n",
        "    grid.fit(X_cv, y_cv)\n",
        "    \n",
        "    best_prameters = {}\n",
        "    for k, v in grid.best_params_.items():\n",
        "        best_prameters[k[5:]] = v\n",
        "\n",
        "    if n_jobs:\n",
        "        model = model(**best_prameters, n_jobs=4)\n",
        "    else:\n",
        "        model = model(**best_prameters)\n",
        "   \n",
        "    model.fit(X_train, y_train)\n",
        "    \n",
        "    print(\"Best Parameters for model:\", best_prameters)\n",
        "\n",
        "    return {\n",
        "        \"model\": model, \n",
        "        \"best_params\":best_prameters\n",
        "    }"
      ]
    },
    {
      "cell_type": "code",
      "execution_count": null,
      "metadata": {
        "id": "8Sfsx7_pK-UZ"
      },
      "outputs": [],
      "source": [
        "def model_eval(model, X_test, y_test, acc=True, auc_=True, plot_conf=True, plot_auc=True, multi=True, f1=True, prop=False):\n",
        "    \n",
        "    res = [None, None, None] # Accuracy, auc_roc, f1_score\n",
        "    y_pred = model.predict(X_test)\n",
        "    \n",
        "    if prop:\n",
        "        y_pred = np.where(y_pred > 0.5, 1, 0)\n",
        "    \n",
        "    if f1:\n",
        "        f_sc = f1_score(y_test, y_pred, average='macro')\n",
        "        res[2] = f_sc\n",
        "        \n",
        "    if acc:\n",
        "        res[0] = accuracy_score(y_test, y_pred)\n",
        "#         print('accuracy:', res[0] * 100 ,'%')\n",
        "\n",
        "    if auc_:\n",
        "        lb = LabelBinarizer()\n",
        "        lb.fit(y_test)\n",
        "\n",
        "        truth = lb.transform(y_test)\n",
        "        y_pred_encode = lb.transform(y_pred)\n",
        "\n",
        "        res[1] = roc_auc_score(truth, y_pred_encode, average = 'macro')\n",
        "#         print('ROC:', res[1] * 100 ,'%')\n",
        "\n",
        "    if plot_conf:\n",
        "        fig, ax = plt.subplots(figsize=(10,6))\n",
        "\n",
        "        conf = confusion_matrix(y_test, y_pred, labels=np.unique(y_test))\n",
        "        sns.heatmap(conf, cmap= 'Set1', annot=True, cbar=False)\n",
        "        plt.ylabel('Actual')\n",
        "        plt.xlabel('Predicted')\n",
        "        plt.title('Confusion Matrix');\n",
        "    \n",
        "    if plot_auc:\n",
        "        fig, ax = plt.subplots(figsize=(10,6))\n",
        "\n",
        "        if not auc_:\n",
        "            lb = LabelBinarizer()\n",
        "            lb.fit(y_test)\n",
        "\n",
        "            truth = lb.transform(y_test)\n",
        "            y_pred_encode = lb.transform(y_pred)\n",
        "\n",
        "        fpr = [None, None, None]\n",
        "        tpr = [None, None, None]\n",
        "        auc_of_roc = [None, None, None]\n",
        "        \n",
        "        n_classes = 1 #(0, 1)\n",
        "        \n",
        "        for i in range(n_classes):\n",
        "            fpr[i], tpr[i], _ = roc_curve(truth[:, i], y_pred_encode[:, i])\n",
        "            auc_of_roc[i] = auc(fpr[i], tpr[i])\n",
        "            \n",
        "        plt.plot(fpr[0], tpr[0], label='0 - area under ROC = %0.3f' % auc_of_roc[0])\n",
        "        if multi:\n",
        "            plt.plot(fpr[1], tpr[1], label='1 - area under ROC = %0.3f' % auc_of_roc[1])\n",
        "\n",
        "        plt.xlabel('False Positive Rate')\n",
        "        plt.ylabel('True Positive Rate')\n",
        "        plt.title(\"ROC AUC\");\n",
        "        plt.legend()\n",
        "\n",
        "    return res"
      ]
    },
    {
      "cell_type": "code",
      "execution_count": null,
      "metadata": {
        "id": "8n-zTsJRwnkE"
      },
      "outputs": [],
      "source": [
        "\n",
        "X_train_scaled_featured = X_train_scaled[['rfc', 'cbo', 'loc','amc', 'cam','npm', 'ce', 'avg_cc','lcom3', 'wmc','ca']]\n",
        "X_test_scaled_featured = X_test_scaled[['rfc', 'cbo', 'loc','amc', 'cam','npm', 'ce', 'avg_cc','lcom3', 'wmc','ca']]\n",
        "X_cv_featured = X_cv[['rfc', 'cbo', 'loc','amc', 'cam','npm', 'ce', 'avg_cc','lcom3', 'wmc','ca']]"
      ]
    },
    {
      "cell_type": "code",
      "execution_count": null,
      "metadata": {
        "id": "mNE0L0WFK-UZ"
      },
      "outputs": [],
      "source": [
        "from imblearn.over_sampling import SMOTE\n",
        "X_train_over_sampled, y_train_over_sampled = SMOTE().fit_resample(X_train_scaled_featured, y_train)\n",
        "X_cv_over_sampled, y_cv_over_sampled = SMOTE().fit_resample(X_cv_featured, y_cv)"
      ]
    },
    {
      "cell_type": "code",
      "execution_count": null,
      "metadata": {
        "id": "fOWXie_zK-UZ"
      },
      "outputs": [],
      "source": [
        "# print((y_train_over_sampled == 1).sum())\n",
        "# print((y_train_over_sampled == 0).sum())\n",
        "\n",
        "# print((y_cv_over_sampled == 1).sum())\n",
        "# print((y_cv_over_sampled == 0).sum())\n",
        "\n",
        "X_train_over_sampled = pd.DataFrame(X_train_over_sampled)\n",
        "X_cv_over_sampled = pd.DataFrame(X_cv_over_sampled)\n",
        "\n",
        "y_train_over_sampled = pd.Series(y_train_over_sampled)\n",
        "y_cv_over_sampled = pd.Series(y_cv_over_sampled)"
      ]
    },
    {
      "cell_type": "code",
      "execution_count": null,
      "metadata": {
        "id": "p665qZu9K-Ua"
      },
      "outputs": [],
      "source": [
        "# SVC()\n",
        "svc_params = {\n",
        "    'clf__C': [0.1, 1, 10],\n",
        "    'clf__kernel': ['linear', 'rbf'],\n",
        "    'clf__gamma':[1, 0.01, 0.001]\n",
        "}\n",
        "\n",
        "svc = Modeler(SVC, X_train_over_sampled, y_train_over_sampled, X_cv_over_sampled, y_cv_over_sampled, svc_params, scale=True, n_jobs=False)"
      ]
    },
    {
      "cell_type": "code",
      "execution_count": null,
      "metadata": {
        "id": "JASi1ypTK-Ua"
      },
      "outputs": [],
      "source": [
        "model_scoring = model_eval(svc[\"model\"], X_test_scaled_featured, y_test, multi=False)\n",
        "scores = {}\n",
        "scores[\"Support-Vector Machine | Binary\"] = {\"Accuracy\": model_scoring[0],\n",
        "                             \"ROC\": model_scoring[1],\n",
        "                             \"F1-Score\": model_scoring[2]}"
      ]
    },
    {
      "cell_type": "code",
      "execution_count": null,
      "metadata": {
        "colab": {
          "base_uri": "https://localhost:8080/"
        },
        "id": "8DSIBKTKK-Ua",
        "outputId": "3cf7d9cd-331a-4242-b11d-8e8eeab21e10"
      },
      "outputs": [
        {
          "name": "stdout",
          "output_type": "stream",
          "text": [
            "Best Parameters for model: {'metric': 'manhattan', 'n_neighbors': 5, 'weights': 'distance'}\n"
          ]
        }
      ],
      "source": [
        "#KNN\n",
        "knn_params = {\n",
        "    'clf__n_neighbors': [3, 5, 11, 17], # Try not to put even numbers\n",
        "    'clf__weights': ['uniform', 'distance'],\n",
        "    'clf__metric': ['euclidean', 'manhattan'],\n",
        "}\n",
        "\n",
        "knn = Modeler(KNeighborsClassifier,X_train_over_sampled, y_train_over_sampled, X_cv_over_sampled, y_cv_over_sampled, knn_params, scale=True)"
      ]
    },
    {
      "cell_type": "code",
      "execution_count": null,
      "metadata": {
        "id": "IYLH-_EEK-Ua"
      },
      "outputs": [],
      "source": [
        "model_scoring = model_eval(knn[\"model\"], X_test_scaled_featured, y_test, multi=False)\n",
        "scores[\"K-Nearest Neighbor | Binary\"] = {\"Accuracy\": model_scoring[0],\n",
        "                             \"ROC\": model_scoring[1],\n",
        "                             \"F1-Score\": model_scoring[2]}"
      ]
    },
    {
      "cell_type": "code",
      "execution_count": null,
      "metadata": {
        "colab": {
          "base_uri": "https://localhost:8080/"
        },
        "id": "xxB3O9_FK-Ua",
        "outputId": "32d25fe9-e95f-41a4-fb4a-48325286335a"
      },
      "outputs": [
        {
          "name": "stdout",
          "output_type": "stream",
          "text": [
            "Best Parameters for model: {'criterion': 'gini', 'max_depth': 50, 'max_features': 0.4, 'n_estimators': 200}\n"
          ]
        }
      ],
      "source": [
        "#RANDOM FOREST\n",
        "rfc_params = {\n",
        "    'clf__n_estimators'      : [200, 500, 1000],\n",
        "    'clf__max_depth'         : [10, 20, 50],\n",
        "    'clf__max_features': [1.0, 0.7, 0.4],\n",
        "    'clf__criterion' :['gini', 'entropy']\n",
        "}\n",
        "\n",
        "rfc = Modeler(RandomForestClassifier, X_train_over_sampled, y_train_over_sampled, X_cv_over_sampled, y_cv_over_sampled, rfc_params, scale=True) "
      ]
    },
    {
      "cell_type": "code",
      "execution_count": null,
      "metadata": {
        "id": "_wMQO74RK-Ua"
      },
      "outputs": [],
      "source": [
        "model_scoring = model_eval(rfc[\"model\"], X_test_scaled_featured, y_test, multi=False)\n",
        "scores[\"Random Forest | Binary\"] = {\"Accuracy\": model_scoring[0],\n",
        "                             \"ROC\": model_scoring[1],\n",
        "                             \"F1-Score\": model_scoring[2]}"
      ]
    },
    {
      "cell_type": "code",
      "execution_count": null,
      "metadata": {
        "colab": {
          "base_uri": "https://localhost:8080/"
        },
        "id": "blpZ5UEcK-Ua",
        "outputId": "55cbe8d3-fcd8-47ce-f88f-9d251e12c2fb"
      },
      "outputs": [
        {
          "name": "stdout",
          "output_type": "stream",
          "text": [
            "Best Parameters for model: {'learning_rate': 0.5, 'n_estimators': 100}\n"
          ]
        }
      ],
      "source": [
        "#ADA BOOST\n",
        "# AdaBoostClassifier\n",
        "ada_params = {\n",
        "    'clf__learning_rate': [0.1, 0.5, 1.0],\n",
        "    'clf__n_estimators': [100, 200]\n",
        "}\n",
        "\n",
        "ada = Modeler(AdaBoostClassifier, X_train_over_sampled, y_train_over_sampled, X_cv_over_sampled, y_cv_over_sampled, ada_params, scale=True, n_jobs=False)"
      ]
    },
    {
      "cell_type": "code",
      "execution_count": null,
      "metadata": {
        "id": "nWsrZUspK-Ub"
      },
      "outputs": [],
      "source": [
        "model_scoring = model_eval(ada[\"model\"], X_test_scaled_featured, y_test, multi=False)\n",
        "scores[\"AdaBoost Classifier | Binary\"] = {\"Accuracy\": model_scoring[0],\n",
        "                             \"ROC\": model_scoring[1],\n",
        "                             \"F1-Score\": model_scoring[2]}"
      ]
    },
    {
      "cell_type": "code",
      "execution_count": null,
      "metadata": {
        "id": "PV91IuoCK-Ub"
      },
      "outputs": [],
      "source": [
        "score_df = pd.DataFrame.from_dict(scores).T\n",
        "score_df= score_df.sort_values('ROC', ascending=False)"
      ]
    },
    {
      "cell_type": "code",
      "execution_count": null,
      "metadata": {
        "id": "9VY-DYxYK-Ub"
      },
      "outputs": [],
      "source": [
        "score_df"
      ]
    },
    {
      "cell_type": "markdown",
      "metadata": {
        "id": "lwIBAldvLJGx"
      },
      "source": [
        "# Yedinci Datasetin Scale, Feature Selection ve Modelling işlemleri"
      ]
    },
    {
      "cell_type": "code",
      "execution_count": null,
      "metadata": {
        "id": "sOuvyUeGLJGx"
      },
      "outputs": [],
      "source": [
        "#Shuffle data before removing classname to keep mapping\n",
        "poiV1 = df[6].sample(frac=1.0)\n",
        "\n",
        "# We do not need confusing variables such as the class name; We can use it as an index or leave it.\n",
        "X = poiV1.iloc[:, :-1]\n",
        "y = poiV1[\"bug\"]\n",
        "\n",
        "print(\"X:\", X.shape)\n",
        "print(\"y:\", y.shape)"
      ]
    },
    {
      "cell_type": "code",
      "execution_count": null,
      "metadata": {
        "id": "C39kU5KtLJGx"
      },
      "outputs": [],
      "source": [
        "poiV1.describe()"
      ]
    },
    {
      "cell_type": "code",
      "execution_count": null,
      "metadata": {
        "id": "UN07fHJPLJGx"
      },
      "outputs": [],
      "source": [
        "X.head()"
      ]
    },
    {
      "cell_type": "code",
      "execution_count": null,
      "metadata": {
        "id": "okqsdloLLJGx"
      },
      "outputs": [],
      "source": [
        "y.head()"
      ]
    },
    {
      "cell_type": "code",
      "execution_count": null,
      "metadata": {
        "id": "3xtTI3sgLJGy"
      },
      "outputs": [],
      "source": [
        "#Label convert binary \n",
        "y = np.where((y > 1), 1, y) \n",
        "y = pd.Series(y)"
      ]
    },
    {
      "cell_type": "code",
      "execution_count": null,
      "metadata": {
        "id": "_0sZC6vRLJGy"
      },
      "outputs": [],
      "source": [
        "print([y > 1])"
      ]
    },
    {
      "cell_type": "code",
      "execution_count": null,
      "metadata": {
        "id": "tigimnVpLJGy"
      },
      "outputs": [],
      "source": [
        "#Class Balance: we can see bugs rate\n",
        "unique, counts = np.unique(y, return_counts=True)\n",
        "print(\"Classes:\", unique.tolist())\n",
        "print(\"Counts:\", counts.tolist())\n",
        "\n",
        "plt.bar(unique, counts, color=['g', 'orange'], alpha=0.7)\n",
        "plt.title(\"#Bugs VS Occurrences\")\n",
        "plt.xticks(range(len(unique)))\n",
        "plt.ylabel(\"Occurrences\")\n",
        "plt.xlabel(\"# Bugs\");"
      ]
    },
    {
      "cell_type": "code",
      "execution_count": null,
      "metadata": {
        "colab": {
          "base_uri": "https://localhost:8080/"
        },
        "id": "_Pl6ngbsLJGy",
        "outputId": "66f87526-b44a-4ce9-cc6b-85878523222e"
      },
      "outputs": [
        {
          "name": "stdout",
          "output_type": "stream",
          "text": [
            "Train: (309, 20) (309,) Test: (67, 20) (67,) Cross Validation (66, 20) (66,)\n"
          ]
        }
      ],
      "source": [
        "#Splitting data train, test, and cross validation\n",
        "from sklearn.model_selection import train_test_split\n",
        "X_train, X_test, y_train, y_test = train_test_split(X, y, test_size=0.3)\n",
        "X_cv, X_test, y_cv, y_test = train_test_split(X_test, y_test, test_size=0.5)\n",
        "print(\"Train:\", X_train.shape, y_train.shape,\n",
        "      \"Test:\", X_test.shape, y_test.shape,\n",
        "      \"Cross Validation\", X_cv.shape, y_cv.shape)"
      ]
    },
    {
      "cell_type": "code",
      "execution_count": null,
      "metadata": {
        "id": "bNbAEHUiLJGy"
      },
      "outputs": [],
      "source": [
        "#we can see y_train bugs rate\n",
        "unique, counts = np.unique(y_train, return_counts=True)\n",
        "print(\"Classes:\", unique.tolist())\n",
        "print(\"Counts:\", counts.tolist())\n",
        "\n",
        "plt.bar(unique, counts, color=['g', 'orange'], alpha=0.7)\n",
        "plt.title(\"#Bugs VS Occurrences\")\n",
        "plt.xticks(range(len(unique)))\n",
        "plt.ylabel(\"Occurrences\")\n",
        "plt.xlabel(\"# Bugs\");"
      ]
    },
    {
      "cell_type": "code",
      "execution_count": null,
      "metadata": {
        "colab": {
          "base_uri": "https://localhost:8080/"
        },
        "id": "jOEK2s7aLJGy",
        "outputId": "41b888f3-0430-4f7c-84c8-b6d86e08ee45"
      },
      "outputs": [
        {
          "name": "stdout",
          "output_type": "stream",
          "text": [
            "Train: (309, 20) (309,) Test: (67, 20) (67,) Cross Validation (66, 20) (66,)\n"
          ]
        }
      ],
      "source": [
        "#Scaling features\n",
        "X_train_scaled = pd.DataFrame(StandardScaler().fit_transform(X_train.values), columns=X_train.columns, index=X_train.index)\n",
        "X_test_scaled = pd.DataFrame(StandardScaler().fit_transform(X_test.values), columns=X_test.columns, index=X_test.index)\n",
        "\n",
        "data_for_viz = X_train_scaled.copy()\n",
        "data_for_viz_unscaled = X_train.copy()\n",
        "\n",
        "data_for_viz['Bugs'] = y_train.copy().tolist()\n",
        "data_for_viz_unscaled['Bugs'] = y_train.copy().tolist()\n",
        "\n",
        "print(\"Train:\", X_train.shape, y_train.shape,\n",
        "      \"Test:\", X_test.shape, y_test.shape,\n",
        "      \"Cross Validation\", X_cv.shape, y_cv.shape)"
      ]
    },
    {
      "cell_type": "code",
      "execution_count": null,
      "metadata": {
        "id": "-2yhGKpvLJGy"
      },
      "outputs": [],
      "source": [
        "data_for_viz.head()"
      ]
    },
    {
      "cell_type": "code",
      "execution_count": null,
      "metadata": {
        "id": "QCkdqwamLJGy"
      },
      "outputs": [],
      "source": [
        "#Correlation matrix\n",
        "fig, ax = plt.subplots(figsize=(10,8))\n",
        "\n",
        "corr = data_for_viz.corr()\n",
        "mask = np.triu(corr)\n",
        "sns.heatmap(corr, vmin=-1, vmax=1, center= 0, cmap= 'Pastel2', linewidths=3, ax=ax, mask=mask);\n",
        "\n",
        "#We can see that highest correlated variables with Bugs are:\n",
        "\n",
        "#1) wmc \n",
        "# highest correlated with rfc, npm, loc, ce, dam, "
      ]
    },
    {
      "cell_type": "code",
      "execution_count": null,
      "metadata": {
        "id": "n_mm2mKSLJGz"
      },
      "outputs": [],
      "source": [
        "#Feature Importance / Selection\n",
        "rfc = RandomForestClassifier()\n",
        "rfc.fit(X_train, y_train);\n",
        "coef_rfc = pd.Series(rfc.feature_importances_, index = X_train.columns)"
      ]
    },
    {
      "cell_type": "code",
      "execution_count": null,
      "metadata": {
        "colab": {
          "base_uri": "https://localhost:8080/"
        },
        "id": "xIc9ZvEULJGz",
        "outputId": "824562ac-287e-4423-ab1a-f60c6c4a8150"
      },
      "outputs": [
        {
          "name": "stdout",
          "output_type": "stream",
          "text": [
            "accuracy score: 0.9935275080906149\n"
          ]
        }
      ],
      "source": [
        "preds = rfc.predict(X_train)\n",
        "print(\"accuracy score:\", accuracy_score(y_train, preds))\n",
        "#Acc is high and its normal because of only x_train modelling"
      ]
    },
    {
      "cell_type": "code",
      "execution_count": null,
      "metadata": {
        "id": "UWKkSD0nLJGz"
      },
      "outputs": [],
      "source": [
        "coef_rfc.sort_values()[7:].plot(kind='barh', cmap=\"Pastel2\");"
      ]
    },
    {
      "cell_type": "code",
      "execution_count": null,
      "metadata": {
        "id": "f0X_GtiuLJGz"
      },
      "outputs": [],
      "source": [
        "data_for_viz_unscaled.head()"
      ]
    },
    {
      "cell_type": "code",
      "execution_count": null,
      "metadata": {
        "id": "EpsjBFQKLJGz"
      },
      "outputs": [],
      "source": [
        "for_pair_plot = data_for_viz_unscaled[['rfc', 'cbo', 'loc','amc', 'ce', 'lcom3', 'lcom', 'max_cc', 'avg_cc', 'npm', 'wmc', 'Bugs']]\n",
        "pairplot = sns.pairplot(for_pair_plot, hue=\"Bugs\", vars=['rfc', 'cbo', 'loc','amc', 'ce', 'lcom3', 'lcom', 'max_cc', 'avg_cc', 'npm', 'wmc']);\n",
        "pairplot.fig.suptitle(\"Scatter w.r.t classes: 0, > 1 Bugs\", y=1.02);"
      ]
    },
    {
      "cell_type": "code",
      "execution_count": null,
      "metadata": {
        "id": "pq8t49beLJGz"
      },
      "outputs": [],
      "source": [
        "#MODELING\n",
        "def Modeler(model, X_train, y_train, X_cv, y_cv, params, scale=True, n_jobs=True, pca=False):\n",
        "    \n",
        "    if scale & pca:\n",
        "        pipeline = Pipeline([\n",
        "            ('scale', StandardScaler()),\n",
        "            ('dim_reduct', PCA(n_components=4)),\n",
        "            ('clf', model())])\n",
        "        print(\"Scaling and dim reduct...\")\n",
        "        \n",
        "    elif scale:\n",
        "        pipeline = Pipeline([ ('scale', StandardScaler()), ('clf', model())])\n",
        "        \n",
        "    elif pca:\n",
        "        pipeline = Pipeline([\n",
        "        ('dim_reduct', PCA(n_components=pca)),\n",
        "        ('clf', model())])\n",
        "    else:\n",
        "        pipeline = Pipeline([('clf', model())])\n",
        "        \n",
        "    grid = GridSearchCV(pipeline, param_grid = params, cv=3, n_jobs=4, refit=True)\n",
        "    grid.fit(X_cv, y_cv)\n",
        "    \n",
        "    best_prameters = {}\n",
        "    for k, v in grid.best_params_.items():\n",
        "        best_prameters[k[5:]] = v\n",
        "\n",
        "    if n_jobs:\n",
        "        model = model(**best_prameters, n_jobs=4)\n",
        "    else:\n",
        "        model = model(**best_prameters)\n",
        "   \n",
        "    model.fit(X_train, y_train)\n",
        "    \n",
        "    print(\"Best Parameters for model:\", best_prameters)\n",
        "\n",
        "    return {\n",
        "        \"model\": model, \n",
        "        \"best_params\":best_prameters\n",
        "    }"
      ]
    },
    {
      "cell_type": "code",
      "execution_count": null,
      "metadata": {
        "id": "TS-an381LJGz"
      },
      "outputs": [],
      "source": [
        "def model_eval(model, X_test, y_test, acc=True, auc_=True, plot_conf=True, plot_auc=True, multi=True, f1=True, prop=False):\n",
        "    \n",
        "    res = [None, None, None] # Accuracy, auc_roc, f1_score\n",
        "    y_pred = model.predict(X_test)\n",
        "    \n",
        "    if prop:\n",
        "        y_pred = np.where(y_pred > 0.5, 1, 0)\n",
        "    \n",
        "    if f1:\n",
        "        f_sc = f1_score(y_test, y_pred, average='macro')\n",
        "        res[2] = f_sc\n",
        "        \n",
        "    if acc:\n",
        "        res[0] = accuracy_score(y_test, y_pred)\n",
        "#         print('accuracy:', res[0] * 100 ,'%')\n",
        "\n",
        "    if auc_:\n",
        "        lb = LabelBinarizer()\n",
        "        lb.fit(y_test)\n",
        "\n",
        "        truth = lb.transform(y_test)\n",
        "        y_pred_encode = lb.transform(y_pred)\n",
        "\n",
        "        res[1] = roc_auc_score(truth, y_pred_encode, average = 'macro')\n",
        "#         print('ROC:', res[1] * 100 ,'%')\n",
        "\n",
        "    if plot_conf:\n",
        "        fig, ax = plt.subplots(figsize=(10,6))\n",
        "\n",
        "        conf = confusion_matrix(y_test, y_pred, labels=np.unique(y_test))\n",
        "        sns.heatmap(conf, cmap= 'Set1', annot=True, cbar=False)\n",
        "        plt.ylabel('Actual')\n",
        "        plt.xlabel('Predicted')\n",
        "        plt.title('Confusion Matrix');\n",
        "    \n",
        "    if plot_auc:\n",
        "        fig, ax = plt.subplots(figsize=(10,6))\n",
        "\n",
        "        if not auc_:\n",
        "            lb = LabelBinarizer()\n",
        "            lb.fit(y_test)\n",
        "\n",
        "            truth = lb.transform(y_test)\n",
        "            y_pred_encode = lb.transform(y_pred)\n",
        "\n",
        "        fpr = [None, None, None]\n",
        "        tpr = [None, None, None]\n",
        "        auc_of_roc = [None, None, None]\n",
        "        \n",
        "        n_classes = 1 #(0, 1)\n",
        "        \n",
        "        for i in range(n_classes):\n",
        "            fpr[i], tpr[i], _ = roc_curve(truth[:, i], y_pred_encode[:, i])\n",
        "            auc_of_roc[i] = auc(fpr[i], tpr[i])\n",
        "            \n",
        "        plt.plot(fpr[0], tpr[0], label='0 - area under ROC = %0.3f' % auc_of_roc[0])\n",
        "        if multi:\n",
        "            plt.plot(fpr[1], tpr[1], label='1 - area under ROC = %0.3f' % auc_of_roc[1])\n",
        "\n",
        "        plt.xlabel('False Positive Rate')\n",
        "        plt.ylabel('True Positive Rate')\n",
        "        plt.title(\"ROC AUC\");\n",
        "        plt.legend()\n",
        "\n",
        "    return res"
      ]
    },
    {
      "cell_type": "code",
      "execution_count": null,
      "metadata": {
        "id": "1B8bEPKavrD5"
      },
      "outputs": [],
      "source": [
        "X_train_scaled_featured = X_train_scaled[['rfc', 'cbo', 'loc','amc', 'ce', 'lcom3', 'lcom', 'max_cc', 'avg_cc', 'npm', 'wmc']]\n",
        "X_test_scaled_featured = X_test_scaled[['rfc', 'cbo', 'loc','amc', 'ce', 'lcom3', 'lcom', 'max_cc', 'avg_cc', 'npm', 'wmc']]\n",
        "X_cv_featured = X_cv[['rfc', 'cbo', 'loc','amc', 'ce', 'lcom3', 'lcom', 'max_cc', 'avg_cc', 'npm', 'wmc']]\n"
      ]
    },
    {
      "cell_type": "code",
      "execution_count": null,
      "metadata": {
        "id": "i4Nee5DULJG0"
      },
      "outputs": [],
      "source": [
        "from imblearn.over_sampling import SMOTE\n",
        "X_train_over_sampled, y_train_over_sampled = SMOTE().fit_resample(X_train_scaled_featured, y_train)\n",
        "X_cv_over_sampled, y_cv_over_sampled = SMOTE().fit_resample(X_cv_featured, y_cv)"
      ]
    },
    {
      "cell_type": "code",
      "execution_count": null,
      "metadata": {
        "id": "-1EGw1XfLJG0"
      },
      "outputs": [],
      "source": [
        "# print((y_train_over_sampled == 1).sum())\n",
        "# print((y_train_over_sampled == 0).sum())\n",
        "\n",
        "# print((y_cv_over_sampled == 1).sum())\n",
        "# print((y_cv_over_sampled == 0).sum())\n",
        "\n",
        "X_train_over_sampled = pd.DataFrame(X_train_over_sampled)\n",
        "X_cv_over_sampled = pd.DataFrame(X_cv_over_sampled)\n",
        "\n",
        "y_train_over_sampled = pd.Series(y_train_over_sampled)\n",
        "y_cv_over_sampled = pd.Series(y_cv_over_sampled)"
      ]
    },
    {
      "cell_type": "code",
      "execution_count": null,
      "metadata": {
        "colab": {
          "base_uri": "https://localhost:8080/"
        },
        "id": "2PuRACQxLJG0",
        "outputId": "4a7af1d9-2f1e-42d7-c807-9273df5ebcca"
      },
      "outputs": [
        {
          "name": "stdout",
          "output_type": "stream",
          "text": [
            "Best Parameters for model: {'C': 10, 'gamma': 0.01, 'kernel': 'rbf'}\n"
          ]
        }
      ],
      "source": [
        "# SVC()\n",
        "svc_params = {\n",
        "    'clf__C': [0.1, 1, 10],\n",
        "    'clf__kernel': ['linear', 'rbf'],\n",
        "    'clf__gamma':[1, 0.01, 0.001]\n",
        "}\n",
        "\n",
        "svc = Modeler(SVC, X_train_over_sampled, y_train_over_sampled, X_cv_over_sampled, y_cv_over_sampled, svc_params, scale=True, n_jobs=False)"
      ]
    },
    {
      "cell_type": "code",
      "execution_count": null,
      "metadata": {
        "id": "U9OX4pw-LJG0"
      },
      "outputs": [],
      "source": [
        "model_scoring = model_eval(svc[\"model\"], X_test_scaled_featured, y_test, multi=False)\n",
        "scores = {}\n",
        "scores[\"Support-Vector Machine | Binary\"] = {\"Accuracy\": model_scoring[0],\n",
        "                             \"ROC\": model_scoring[1],\n",
        "                             \"F1-Score\": model_scoring[2]}"
      ]
    },
    {
      "cell_type": "code",
      "execution_count": null,
      "metadata": {
        "colab": {
          "base_uri": "https://localhost:8080/"
        },
        "id": "8skym4UQLJG0",
        "outputId": "1ff37bab-f0ba-4dd7-ddec-78e0f61ad257"
      },
      "outputs": [
        {
          "name": "stdout",
          "output_type": "stream",
          "text": [
            "Best Parameters for model: {'metric': 'euclidean', 'n_neighbors': 5, 'weights': 'distance'}\n"
          ]
        }
      ],
      "source": [
        "#KNN\n",
        "knn_params = {\n",
        "    'clf__n_neighbors': [3, 5, 11, 17], # Try not to put even numbers\n",
        "    'clf__weights': ['uniform', 'distance'],\n",
        "    'clf__metric': ['euclidean', 'manhattan'],\n",
        "}\n",
        "\n",
        "knn = Modeler(KNeighborsClassifier, X_train_over_sampled, y_train_over_sampled, X_cv_over_sampled, y_cv_over_sampled, knn_params, scale=True)"
      ]
    },
    {
      "cell_type": "code",
      "execution_count": null,
      "metadata": {
        "id": "zz4U1ZvYLJG0"
      },
      "outputs": [],
      "source": [
        "model_scoring = model_eval(knn[\"model\"], X_test_scaled_featured, y_test, multi=False)\n",
        "scores[\"K-Nearest Neighbor | Binary\"] = {\"Accuracy\": model_scoring[0],\n",
        "                             \"ROC\": model_scoring[1],\n",
        "                             \"F1-Score\": model_scoring[2]}"
      ]
    },
    {
      "cell_type": "code",
      "execution_count": null,
      "metadata": {
        "colab": {
          "base_uri": "https://localhost:8080/"
        },
        "id": "bhVA4LNfLJG1",
        "outputId": "5bb663c7-9583-4323-9a14-7625cd2aacdc"
      },
      "outputs": [
        {
          "name": "stdout",
          "output_type": "stream",
          "text": [
            "Best Parameters for model: {'criterion': 'gini', 'max_depth': 10, 'max_features': 1.0, 'n_estimators': 200}\n"
          ]
        }
      ],
      "source": [
        "#RANDOM FOREST\n",
        "rfc_params = {\n",
        "    'clf__n_estimators'      : [200, 500, 1000],\n",
        "    'clf__max_depth'         : [10, 20, 50],\n",
        "    'clf__max_features': [1.0, 0.7, 0.4],\n",
        "    'clf__criterion' :['gini', 'entropy']\n",
        "}\n",
        "\n",
        "rfc = Modeler(RandomForestClassifier, X_train_over_sampled, y_train_over_sampled, X_cv_over_sampled, y_cv_over_sampled, rfc_params, scale=True) "
      ]
    },
    {
      "cell_type": "code",
      "execution_count": null,
      "metadata": {
        "id": "AZSfQzPaLJG1"
      },
      "outputs": [],
      "source": [
        "model_scoring = model_eval(rfc[\"model\"], X_test_scaled_featured, y_test, multi=False)\n",
        "scores[\"Random Forest | Binary\"] = {\"Accuracy\": model_scoring[0],\n",
        "                             \"ROC\": model_scoring[1],\n",
        "                             \"F1-Score\": model_scoring[2]}"
      ]
    },
    {
      "cell_type": "code",
      "execution_count": null,
      "metadata": {
        "colab": {
          "base_uri": "https://localhost:8080/"
        },
        "id": "08EfzSyfLJG1",
        "outputId": "6aba500f-8d64-4d93-b2fb-4b7a4a09d265"
      },
      "outputs": [
        {
          "name": "stdout",
          "output_type": "stream",
          "text": [
            "Best Parameters for model: {'learning_rate': 0.1, 'n_estimators': 100}\n"
          ]
        }
      ],
      "source": [
        "#ADA BOOST\n",
        "# AdaBoostClassifier\n",
        "ada_params = {\n",
        "    'clf__learning_rate': [0.1, 0.5, 1.0],\n",
        "    'clf__n_estimators': [100, 200]\n",
        "}\n",
        "\n",
        "ada = Modeler(AdaBoostClassifier, X_train_over_sampled, y_train_over_sampled, X_cv_over_sampled, y_cv_over_sampled, ada_params, scale=True, n_jobs=False)"
      ]
    },
    {
      "cell_type": "code",
      "execution_count": null,
      "metadata": {
        "id": "TCvSTpd8LJG1"
      },
      "outputs": [],
      "source": [
        "model_scoring = model_eval(ada[\"model\"], X_test_scaled_featured, y_test, multi=False)\n",
        "scores[\"AdaBoost Classifier | Binary\"] = {\"Accuracy\": model_scoring[0],\n",
        "                             \"ROC\": model_scoring[1],\n",
        "                             \"F1-Score\": model_scoring[2]}"
      ]
    },
    {
      "cell_type": "code",
      "execution_count": null,
      "metadata": {
        "id": "mL3vlXX1LJG1"
      },
      "outputs": [],
      "source": [
        "score_df = pd.DataFrame.from_dict(scores).T\n",
        "score_df= score_df.sort_values('ROC', ascending=False)"
      ]
    },
    {
      "cell_type": "code",
      "execution_count": null,
      "metadata": {
        "id": "0gUOvE-NLJG1"
      },
      "outputs": [],
      "source": [
        "score_df"
      ]
    },
    {
      "cell_type": "markdown",
      "metadata": {
        "id": "ffNp2Y80LQql"
      },
      "source": [
        "# Sekizinci Datasetin Scale, Feature Selection ve Modelling işlemleri"
      ]
    },
    {
      "cell_type": "code",
      "execution_count": null,
      "metadata": {
        "colab": {
          "base_uri": "https://localhost:8080/"
        },
        "id": "lSayOrTdLQqm",
        "outputId": "f68912c2-d8ca-4205-8d55-dc29e1c9cbef"
      },
      "outputs": [
        {
          "name": "stdout",
          "output_type": "stream",
          "text": [
            "X: (256, 20)\n",
            "y: (256,)\n"
          ]
        }
      ],
      "source": [
        "# Shuffle data before removing classname to keep mapping\n",
        "synapse = df[7].sample(frac=1.0)\n",
        "\n",
        "# We do not need confusing variables such as the class name; We can use it as an index or leave it.\n",
        "X = synapse.iloc[:, :-1]\n",
        "y = synapse[\"bug\"]\n",
        "\n",
        "print(\"X:\", X.shape)\n",
        "print(\"y:\", y.shape)"
      ]
    },
    {
      "cell_type": "code",
      "execution_count": null,
      "metadata": {
        "id": "PmfnVVfcLQqm"
      },
      "outputs": [],
      "source": [
        "synapse.describe()"
      ]
    },
    {
      "cell_type": "code",
      "execution_count": null,
      "metadata": {
        "id": "Rqs4jrSBLQqm"
      },
      "outputs": [],
      "source": [
        "X.head()"
      ]
    },
    {
      "cell_type": "code",
      "execution_count": null,
      "metadata": {
        "id": "4wFMOzXCLQqm"
      },
      "outputs": [],
      "source": [
        "y.head()"
      ]
    },
    {
      "cell_type": "code",
      "execution_count": null,
      "metadata": {
        "id": "8pTs8D08LQqm"
      },
      "outputs": [],
      "source": [
        "#Label convert binary \n",
        "y = np.where((y > 1), 1, y) \n",
        "y = pd.Series(y)"
      ]
    },
    {
      "cell_type": "code",
      "execution_count": null,
      "metadata": {
        "id": "BVpgIRiHLQqm"
      },
      "outputs": [],
      "source": [
        "print([y > 1])"
      ]
    },
    {
      "cell_type": "code",
      "execution_count": null,
      "metadata": {
        "id": "-osOj8_kLQqm"
      },
      "outputs": [],
      "source": [
        "#Class Balance: we can see bugs rate\n",
        "unique, counts = np.unique(y, return_counts=True)\n",
        "print(\"Classes:\", unique.tolist())\n",
        "print(\"Counts:\", counts.tolist())\n",
        "\n",
        "plt.bar(unique, counts, color=['g', 'orange'], alpha=0.7)\n",
        "plt.title(\"#Bugs VS Occurrences\")\n",
        "plt.xticks(range(len(unique)))\n",
        "plt.ylabel(\"Occurrences\")\n",
        "plt.xlabel(\"# Bugs\");"
      ]
    },
    {
      "cell_type": "code",
      "execution_count": null,
      "metadata": {
        "colab": {
          "base_uri": "https://localhost:8080/"
        },
        "id": "ZXSXXN4BLQqn",
        "outputId": "72dfca39-ebd3-44a9-9e68-2da0928eeb86"
      },
      "outputs": [
        {
          "name": "stdout",
          "output_type": "stream",
          "text": [
            "Train: (179, 20) (179,) Test: (39, 20) (39,) Cross Validation (38, 20) (38,)\n"
          ]
        }
      ],
      "source": [
        "#Splitting data train, test, and cross validation\n",
        "from sklearn.model_selection import train_test_split\n",
        "X_train, X_test, y_train, y_test = train_test_split(X, y, test_size=0.3)\n",
        "X_cv, X_test, y_cv, y_test = train_test_split(X_test, y_test, test_size=0.5)\n",
        "print(\"Train:\", X_train.shape, y_train.shape,\n",
        "      \"Test:\", X_test.shape, y_test.shape,\n",
        "      \"Cross Validation\", X_cv.shape, y_cv.shape)"
      ]
    },
    {
      "cell_type": "code",
      "execution_count": null,
      "metadata": {
        "id": "CCItNEjmLQqn"
      },
      "outputs": [],
      "source": [
        "#we can see y_train bugs rate\n",
        "unique, counts = np.unique(y_train, return_counts=True)\n",
        "print(\"Classes:\", unique.tolist())\n",
        "print(\"Counts:\", counts.tolist())\n",
        "\n",
        "plt.bar(unique, counts, color=['g', 'orange'], alpha=0.7)\n",
        "plt.title(\"#Bugs VS Occurrences\")\n",
        "plt.xticks(range(len(unique)))\n",
        "plt.ylabel(\"Occurrences\")\n",
        "plt.xlabel(\"# Bugs\");"
      ]
    },
    {
      "cell_type": "code",
      "execution_count": null,
      "metadata": {
        "colab": {
          "base_uri": "https://localhost:8080/"
        },
        "id": "Bnt2T3xgLQqn",
        "outputId": "cec17dfa-f444-444b-a9ab-cc1d4031f53b"
      },
      "outputs": [
        {
          "name": "stdout",
          "output_type": "stream",
          "text": [
            "Train: (179, 20) (179,) Test: (39, 20) (39,) Cross Validation (38, 20) (38,)\n"
          ]
        }
      ],
      "source": [
        "#Scaling features\n",
        "X_train_scaled = pd.DataFrame(StandardScaler().fit_transform(X_train.values), columns=X_train.columns, index=X_train.index)\n",
        "X_test_scaled = pd.DataFrame(StandardScaler().fit_transform(X_test.values), columns=X_test.columns, index=X_test.index)\n",
        "\n",
        "data_for_viz = X_train_scaled.copy()\n",
        "data_for_viz_unscaled = X_train.copy()\n",
        "\n",
        "data_for_viz['Bugs'] = y_train.copy().tolist()\n",
        "data_for_viz_unscaled['Bugs'] = y_train.copy().tolist()\n",
        "\n",
        "print(\"Train:\", X_train.shape, y_train.shape,\n",
        "      \"Test:\", X_test.shape, y_test.shape,\n",
        "      \"Cross Validation\", X_cv.shape, y_cv.shape)"
      ]
    },
    {
      "cell_type": "code",
      "execution_count": null,
      "metadata": {
        "id": "fj-ioJ3RLQqn"
      },
      "outputs": [],
      "source": [
        "data_for_viz.head()"
      ]
    },
    {
      "cell_type": "code",
      "execution_count": null,
      "metadata": {
        "id": "DJcOK6IbLQqn"
      },
      "outputs": [],
      "source": [
        "#Correlation matrix\n",
        "fig, ax = plt.subplots(figsize=(10,8))\n",
        "\n",
        "corr = data_for_viz.corr()\n",
        "mask = np.triu(corr)\n",
        "sns.heatmap(corr, vmin=-1, vmax=1, center= 0, cmap= 'Pastel2', linewidths=3, ax=ax, mask=mask);\n",
        "\n",
        "#We can see that highest correlated variables with Bugs are:\n",
        "\n",
        "#1) wmc \n",
        "# highest correlated with rfc, npm, loc, ce, dam, "
      ]
    },
    {
      "cell_type": "code",
      "execution_count": null,
      "metadata": {
        "id": "Wva38DvlLQqn"
      },
      "outputs": [],
      "source": [
        "#Feature Importance / Selection\n",
        "rfc = RandomForestClassifier()\n",
        "rfc.fit(X_train, y_train);\n",
        "coef_rfc = pd.Series(rfc.feature_importances_, index = X_train.columns)"
      ]
    },
    {
      "cell_type": "code",
      "execution_count": null,
      "metadata": {
        "id": "rU8_DTF7LQqo"
      },
      "outputs": [],
      "source": [
        "preds = rfc.predict(X_train)\n",
        "print(\"accuracy score:\", accuracy_score(y_train, preds))\n",
        "#Acc is high and its normal because of only x_train modelling"
      ]
    },
    {
      "cell_type": "code",
      "execution_count": null,
      "metadata": {
        "id": "hR5spCeVLQqo"
      },
      "outputs": [],
      "source": [
        "coef_rfc.sort_values()[7:].plot(kind='barh', cmap=\"Pastel2\");"
      ]
    },
    {
      "cell_type": "code",
      "execution_count": null,
      "metadata": {
        "id": "vhxNL8_9LQqo"
      },
      "outputs": [],
      "source": [
        "data_for_viz_unscaled.head()"
      ]
    },
    {
      "cell_type": "code",
      "execution_count": null,
      "metadata": {
        "id": "VzSqHjp5LQqo"
      },
      "outputs": [],
      "source": [
        "for_pair_plot = data_for_viz_unscaled[['rfc', 'wmc', 'loc','amc', 'cam', 'avg_cc','ce','max_cc','mfa','ca','lcom3', 'Bugs']]\n",
        "pairplot = sns.pairplot(for_pair_plot, hue=\"Bugs\", vars=['rfc', 'wmc', 'loc','amc', 'cam', 'avg_cc','ce','max_cc','mfa','ca','lcom3']);\n",
        "pairplot.fig.suptitle(\"Scatter w.r.t classes: 0, > 1 Bugs\", y=1.02);"
      ]
    },
    {
      "cell_type": "code",
      "execution_count": null,
      "metadata": {
        "id": "v2-6ycunLQqo"
      },
      "outputs": [],
      "source": [
        "#MODELING\n",
        "def Modeler(model, X_train, y_train, X_cv, y_cv, params, scale=True, n_jobs=True, pca=False):\n",
        "    \n",
        "    if scale & pca:\n",
        "        pipeline = Pipeline([\n",
        "            ('scale', StandardScaler()),\n",
        "            ('dim_reduct', PCA(n_components=4)),\n",
        "            ('clf', model())])\n",
        "        print(\"Scaling and dim reduct...\")\n",
        "        \n",
        "    elif scale:\n",
        "        pipeline = Pipeline([ ('scale', StandardScaler()), ('clf', model())])\n",
        "        \n",
        "    elif pca:\n",
        "        pipeline = Pipeline([\n",
        "        ('dim_reduct', PCA(n_components=pca)),\n",
        "        ('clf', model())])\n",
        "    else:\n",
        "        pipeline = Pipeline([('clf', model())])\n",
        "        \n",
        "    grid = GridSearchCV(pipeline, param_grid = params, cv=3, n_jobs=4, refit=True)\n",
        "    grid.fit(X_cv, y_cv)\n",
        "    \n",
        "    best_prameters = {}\n",
        "    for k, v in grid.best_params_.items():\n",
        "        best_prameters[k[5:]] = v\n",
        "\n",
        "    if n_jobs:\n",
        "        model = model(**best_prameters, n_jobs=4)\n",
        "    else:\n",
        "        model = model(**best_prameters)\n",
        "   \n",
        "    model.fit(X_train, y_train)\n",
        "    \n",
        "    print(\"Best Parameters for model:\", best_prameters)\n",
        "\n",
        "    return {\n",
        "        \"model\": model, \n",
        "        \"best_params\":best_prameters\n",
        "    }"
      ]
    },
    {
      "cell_type": "code",
      "execution_count": null,
      "metadata": {
        "id": "-QmDr1yULQqo"
      },
      "outputs": [],
      "source": [
        "def model_eval(model, X_test, y_test, acc=True, auc_=True, plot_conf=True, plot_auc=True, multi=True, f1=True, prop=False):\n",
        "    \n",
        "    res = [None, None, None] # Accuracy, auc_roc, f1_score\n",
        "    y_pred = model.predict(X_test)\n",
        "    \n",
        "    if prop:\n",
        "        y_pred = np.where(y_pred > 0.5, 1, 0)\n",
        "    \n",
        "    if f1:\n",
        "        f_sc = f1_score(y_test, y_pred, average='macro')\n",
        "        res[2] = f_sc\n",
        "        \n",
        "    if acc:\n",
        "        res[0] = accuracy_score(y_test, y_pred)\n",
        "#         print('accuracy:', res[0] * 100 ,'%')\n",
        "\n",
        "    if auc_:\n",
        "        lb = LabelBinarizer()\n",
        "        lb.fit(y_test)\n",
        "\n",
        "        truth = lb.transform(y_test)\n",
        "        y_pred_encode = lb.transform(y_pred)\n",
        "\n",
        "        res[1] = roc_auc_score(truth, y_pred_encode, average = 'macro')\n",
        "#         print('ROC:', res[1] * 100 ,'%')\n",
        "\n",
        "    if plot_conf:\n",
        "        fig, ax = plt.subplots(figsize=(10,6))\n",
        "\n",
        "        conf = confusion_matrix(y_test, y_pred, labels=np.unique(y_test))\n",
        "        sns.heatmap(conf, cmap= 'Set1', annot=True, cbar=False)\n",
        "        plt.ylabel('Actual')\n",
        "        plt.xlabel('Predicted')\n",
        "        plt.title('Confusion Matrix');\n",
        "    \n",
        "    if plot_auc:\n",
        "        fig, ax = plt.subplots(figsize=(10,6))\n",
        "\n",
        "        if not auc_:\n",
        "            lb = LabelBinarizer()\n",
        "            lb.fit(y_test)\n",
        "\n",
        "            truth = lb.transform(y_test)\n",
        "            y_pred_encode = lb.transform(y_pred)\n",
        "\n",
        "        fpr = [None, None, None]\n",
        "        tpr = [None, None, None]\n",
        "        auc_of_roc = [None, None, None]\n",
        "        \n",
        "        n_classes = 1 #(0, 1)\n",
        "        \n",
        "        for i in range(n_classes):\n",
        "            fpr[i], tpr[i], _ = roc_curve(truth[:, i], y_pred_encode[:, i])\n",
        "            auc_of_roc[i] = auc(fpr[i], tpr[i])\n",
        "            \n",
        "        plt.plot(fpr[0], tpr[0], label='0 - area under ROC = %0.3f' % auc_of_roc[0])\n",
        "        if multi:\n",
        "            plt.plot(fpr[1], tpr[1], label='1 - area under ROC = %0.3f' % auc_of_roc[1])\n",
        "\n",
        "        plt.xlabel('False Positive Rate')\n",
        "        plt.ylabel('True Positive Rate')\n",
        "        plt.title(\"ROC AUC\");\n",
        "        plt.legend()\n",
        "\n",
        "    return res"
      ]
    },
    {
      "cell_type": "code",
      "execution_count": null,
      "metadata": {
        "id": "eHna9zXQu59-"
      },
      "outputs": [],
      "source": [
        "X_train_scaled_featured = X_train_scaled[['rfc', 'wmc', 'loc','amc', 'cam', 'avg_cc','ce','max_cc','mfa','ca','lcom3']]\n",
        "X_test_scaled_featured = X_test_scaled[['rfc', 'wmc', 'loc','amc', 'cam', 'avg_cc','ce','max_cc','mfa','ca','lcom3']]\n",
        "X_cv_featured = X_cv[['rfc', 'wmc', 'loc','amc', 'cam', 'avg_cc','ce','max_cc','mfa','ca','lcom3']]"
      ]
    },
    {
      "cell_type": "code",
      "execution_count": null,
      "metadata": {
        "id": "lagGb24CLQqp"
      },
      "outputs": [],
      "source": [
        "from imblearn.over_sampling import SMOTE\n",
        "X_train_over_sampled, y_train_over_sampled = SMOTE().fit_resample(X_train_scaled_featured, y_train)\n",
        "X_cv_over_sampled, y_cv_over_sampled = SMOTE().fit_resample(X_cv_featured, y_cv)"
      ]
    },
    {
      "cell_type": "code",
      "execution_count": null,
      "metadata": {
        "id": "kJe_QeDaLQqp"
      },
      "outputs": [],
      "source": [
        "# print((y_train_over_sampled == 1).sum())\n",
        "# print((y_train_over_sampled == 0).sum())\n",
        "\n",
        "# print((y_cv_over_sampled == 1).sum())\n",
        "# print((y_cv_over_sampled == 0).sum())\n",
        "\n",
        "X_train_over_sampled = pd.DataFrame(X_train_over_sampled)\n",
        "X_cv_over_sampled = pd.DataFrame(X_cv_over_sampled)\n",
        "\n",
        "y_train_over_sampled = pd.Series(y_train_over_sampled)\n",
        "y_cv_over_sampled = pd.Series(y_cv_over_sampled)"
      ]
    },
    {
      "cell_type": "code",
      "execution_count": null,
      "metadata": {
        "colab": {
          "base_uri": "https://localhost:8080/"
        },
        "id": "n1QnSMeiLQqp",
        "outputId": "e01c5698-2da2-4be3-dc09-9b89d8b65251"
      },
      "outputs": [
        {
          "name": "stdout",
          "output_type": "stream",
          "text": [
            "Best Parameters for model: {'C': 1, 'gamma': 1, 'kernel': 'rbf'}\n"
          ]
        }
      ],
      "source": [
        "# SVC()\n",
        "svc_params = {\n",
        "    'clf__C': [0.1, 1, 10],\n",
        "    'clf__kernel': ['linear', 'rbf'],\n",
        "    'clf__gamma':[1, 0.01, 0.001]\n",
        "}\n",
        "\n",
        "svc = Modeler(SVC, X_train_over_sampled, y_train_over_sampled, X_cv_over_sampled, y_cv_over_sampled, svc_params, scale=True, n_jobs=False)"
      ]
    },
    {
      "cell_type": "code",
      "execution_count": null,
      "metadata": {
        "id": "Qfg860Q8LQqp"
      },
      "outputs": [],
      "source": [
        "model_scoring = model_eval(svc[\"model\"], X_test_scaled_featured, y_test, multi=False)\n",
        "scores = {}\n",
        "scores[\"Support-Vector Machine | Binary\"] = {\"Accuracy\": model_scoring[0],\n",
        "                             \"ROC\": model_scoring[1],\n",
        "                             \"F1-Score\": model_scoring[2]}"
      ]
    },
    {
      "cell_type": "code",
      "execution_count": null,
      "metadata": {
        "colab": {
          "base_uri": "https://localhost:8080/"
        },
        "id": "SBfSdPBjLQqp",
        "outputId": "8f2edf84-0b5b-4f76-9529-e5e56fbca091"
      },
      "outputs": [
        {
          "name": "stdout",
          "output_type": "stream",
          "text": [
            "Best Parameters for model: {'metric': 'manhattan', 'n_neighbors': 17, 'weights': 'distance'}\n"
          ]
        }
      ],
      "source": [
        "#KNN\n",
        "knn_params = {\n",
        "    'clf__n_neighbors': [3, 5, 11, 17], # Try not to put even numbers\n",
        "    'clf__weights': ['uniform', 'distance'],\n",
        "    'clf__metric': ['euclidean', 'manhattan'],\n",
        "}\n",
        "\n",
        "knn = Modeler(KNeighborsClassifier, X_train_over_sampled, y_train_over_sampled, X_cv_over_sampled, y_cv_over_sampled, knn_params, scale=True)"
      ]
    },
    {
      "cell_type": "code",
      "execution_count": null,
      "metadata": {
        "id": "6Cpi6jqDLQqp"
      },
      "outputs": [],
      "source": [
        "model_scoring = model_eval(knn[\"model\"], X_test_scaled_featured, y_test, multi=False)\n",
        "scores[\"K-Nearest Neighbor | Binary\"] = {\"Accuracy\": model_scoring[0],\n",
        "                             \"ROC\": model_scoring[1],\n",
        "                             \"F1-Score\": model_scoring[2]}"
      ]
    },
    {
      "cell_type": "code",
      "execution_count": null,
      "metadata": {
        "colab": {
          "base_uri": "https://localhost:8080/"
        },
        "id": "OCwiMN03LQqp",
        "outputId": "c0262bf7-bd8a-4297-afd6-bbc91f7e4fd8"
      },
      "outputs": [
        {
          "name": "stdout",
          "output_type": "stream",
          "text": [
            "Best Parameters for model: {'criterion': 'gini', 'max_depth': 20, 'max_features': 0.4, 'n_estimators': 200}\n"
          ]
        }
      ],
      "source": [
        "#RANDOM FOREST\n",
        "rfc_params = {\n",
        "    'clf__n_estimators'      : [200, 500, 1000],\n",
        "    'clf__max_depth'         : [10, 20, 50],\n",
        "    'clf__max_features': [1.0, 0.7, 0.4],\n",
        "    'clf__criterion' :['gini', 'entropy']\n",
        "}\n",
        "\n",
        "rfc = Modeler(RandomForestClassifier,  X_train_over_sampled, y_train_over_sampled, X_cv_over_sampled, y_cv_over_sampled, rfc_params, scale=True) "
      ]
    },
    {
      "cell_type": "code",
      "execution_count": null,
      "metadata": {
        "id": "WAMRA2aVLQqq"
      },
      "outputs": [],
      "source": [
        "model_scoring = model_eval(rfc[\"model\"], X_test_scaled_featured, y_test, multi=False)\n",
        "scores[\"Random Forest | Binary\"] = {\"Accuracy\": model_scoring[0],\n",
        "                             \"ROC\": model_scoring[1],\n",
        "                             \"F1-Score\": model_scoring[2]}"
      ]
    },
    {
      "cell_type": "code",
      "execution_count": null,
      "metadata": {
        "id": "Ht417iI9LQqq"
      },
      "outputs": [],
      "source": [
        "#ADA BOOST\n",
        "# AdaBoostClassifier\n",
        "ada_params = {\n",
        "    'clf__learning_rate': [0.1, 0.5, 1.0],\n",
        "    'clf__n_estimators': [100, 200]\n",
        "}\n",
        "\n",
        "ada = Modeler(AdaBoostClassifier,  X_train_over_sampled, y_train_over_sampled, X_cv_over_sampled, y_cv_over_sampled, ada_params, scale=True, n_jobs=False)"
      ]
    },
    {
      "cell_type": "code",
      "execution_count": null,
      "metadata": {
        "id": "wRKyyFdgLQqq"
      },
      "outputs": [],
      "source": [
        "model_scoring = model_eval(ada[\"model\"], X_test_scaled_featured, y_test, multi=False)\n",
        "scores[\"AdaBoost Classifier | Binary\"] = {\"Accuracy\": model_scoring[0],\n",
        "                             \"ROC\": model_scoring[1],\n",
        "                             \"F1-Score\": model_scoring[2]}"
      ]
    },
    {
      "cell_type": "code",
      "execution_count": null,
      "metadata": {
        "id": "cBwSudh2LQqq"
      },
      "outputs": [],
      "source": [
        "score_df = pd.DataFrame.from_dict(scores).T\n",
        "score_df= score_df.sort_values('ROC', ascending=False)"
      ]
    },
    {
      "cell_type": "code",
      "execution_count": null,
      "metadata": {
        "id": "QjL2uST1Xp5c"
      },
      "outputs": [],
      "source": [
        "score_df"
      ]
    },
    {
      "cell_type": "markdown",
      "metadata": {
        "id": "5fEJpIBhLZEK"
      },
      "source": [
        "#Dokuzuncu İlk Datasetin Scale, Feature Selection ve Modelling işlemleri"
      ]
    },
    {
      "cell_type": "code",
      "execution_count": null,
      "metadata": {
        "id": "kJaZkMh6LZEK"
      },
      "outputs": [],
      "source": [
        "# Shuffle data before removing classname to keep mapping\n",
        "velocity = df[8].sample(frac=1.0)\n",
        "\n",
        "# We do not need confusing variables such as the class name; We can use it as an index or leave it.\n",
        "X = velocity.iloc[:, :-1]\n",
        "y = velocity[\"bug\"]\n",
        "\n",
        "print(\"X:\", X.shape)\n",
        "print(\"y:\", y.shape)"
      ]
    },
    {
      "cell_type": "code",
      "execution_count": null,
      "metadata": {
        "id": "RWlIX_w5LZEL"
      },
      "outputs": [],
      "source": [
        "velocity.describe()"
      ]
    },
    {
      "cell_type": "code",
      "execution_count": null,
      "metadata": {
        "id": "-NOCUzg7LZEL"
      },
      "outputs": [],
      "source": [
        "X.head()"
      ]
    },
    {
      "cell_type": "code",
      "execution_count": null,
      "metadata": {
        "id": "BbA3LeaCLZEL"
      },
      "outputs": [],
      "source": [
        "y.head()"
      ]
    },
    {
      "cell_type": "code",
      "execution_count": null,
      "metadata": {
        "id": "3AaU2WJiLZEL"
      },
      "outputs": [],
      "source": [
        "#Label convert binary \n",
        "y = np.where((y > 1), 1, y) \n",
        "y = pd.Series(y)"
      ]
    },
    {
      "cell_type": "code",
      "execution_count": null,
      "metadata": {
        "id": "Ta7s9b4PLZEL"
      },
      "outputs": [],
      "source": [
        "print([y > 1])"
      ]
    },
    {
      "cell_type": "code",
      "execution_count": null,
      "metadata": {
        "id": "9HbogFPxLZEL"
      },
      "outputs": [],
      "source": [
        "#Class Balance: we can see bugs rate\n",
        "unique, counts = np.unique(y, return_counts=True)\n",
        "print(\"Classes:\", unique.tolist())\n",
        "print(\"Counts:\", counts.tolist())\n",
        "\n",
        "plt.bar(unique, counts, color=['g', 'orange'], alpha=0.7)\n",
        "plt.title(\"#Bugs VS Occurrences\")\n",
        "plt.xticks(range(len(unique)))\n",
        "plt.ylabel(\"Occurrences\")\n",
        "plt.xlabel(\"# Bugs\");"
      ]
    },
    {
      "cell_type": "code",
      "execution_count": null,
      "metadata": {
        "id": "6-x5TN5JLZEM"
      },
      "outputs": [],
      "source": [
        "#Splitting data train, test, and cross validation\n",
        "from sklearn.model_selection import train_test_split\n",
        "X_train, X_test, y_train, y_test = train_test_split(X, y, test_size=0.3)\n",
        "X_cv, X_test, y_cv, y_test = train_test_split(X_test, y_test, test_size=0.5)\n",
        "print(\"Train:\", X_train.shape, y_train.shape,\n",
        "      \"Test:\", X_test.shape, y_test.shape,\n",
        "      \"Cross Validation\", X_cv.shape, y_cv.shape)"
      ]
    },
    {
      "cell_type": "code",
      "execution_count": null,
      "metadata": {
        "id": "M7aBthkvLZEM"
      },
      "outputs": [],
      "source": [
        "#we can see y_train bugs rate\n",
        "unique, counts = np.unique(y_train, return_counts=True)\n",
        "print(\"Classes:\", unique.tolist())\n",
        "print(\"Counts:\", counts.tolist())\n",
        "\n",
        "plt.bar(unique, counts, color=['g', 'orange'], alpha=0.7)\n",
        "plt.title(\"#Bugs VS Occurrences\")\n",
        "plt.xticks(range(len(unique)))\n",
        "plt.ylabel(\"Occurrences\")\n",
        "plt.xlabel(\"# Bugs\");"
      ]
    },
    {
      "cell_type": "code",
      "execution_count": null,
      "metadata": {
        "id": "FrF4qvNXLZEM"
      },
      "outputs": [],
      "source": [
        "#Scaling features\n",
        "X_train_scaled = pd.DataFrame(StandardScaler().fit_transform(X_train.values), columns=X_train.columns, index=X_train.index)\n",
        "X_test_scaled = pd.DataFrame(StandardScaler().fit_transform(X_test.values), columns=X_test.columns, index=X_test.index)\n",
        "\n",
        "data_for_viz = X_train_scaled.copy()\n",
        "data_for_viz_unscaled = X_train.copy()\n",
        "\n",
        "data_for_viz['Bugs'] = y_train.copy().tolist()\n",
        "data_for_viz_unscaled['Bugs'] = y_train.copy().tolist()\n",
        "\n",
        "print(\"Train:\", X_train.shape, y_train.shape,\n",
        "      \"Test:\", X_test.shape, y_test.shape,\n",
        "      \"Cross Validation\", X_cv.shape, y_cv.shape)"
      ]
    },
    {
      "cell_type": "code",
      "execution_count": null,
      "metadata": {
        "id": "2ju7mhz1LZEM"
      },
      "outputs": [],
      "source": [
        "data_for_viz.head()"
      ]
    },
    {
      "cell_type": "code",
      "execution_count": null,
      "metadata": {
        "id": "p_OE6fUzLZEM"
      },
      "outputs": [],
      "source": [
        "#Correlation matrix\n",
        "fig, ax = plt.subplots(figsize=(10,8))\n",
        "\n",
        "corr = data_for_viz.corr()\n",
        "mask = np.triu(corr)\n",
        "sns.heatmap(corr, vmin=-1, vmax=1, center= 0, cmap= 'Pastel2', linewidths=3, ax=ax, mask=mask);\n",
        "\n",
        "#We can see that highest correlated variables with Bugs are:\n",
        "\n",
        "#1) wmc \n",
        "# highest correlated with rfc, npm, loc, ce, dam, "
      ]
    },
    {
      "cell_type": "code",
      "execution_count": null,
      "metadata": {
        "id": "ZF_pgrLzLZEM"
      },
      "outputs": [],
      "source": [
        "#Feature Importance / Selection\n",
        "rfc = RandomForestClassifier()\n",
        "rfc.fit(X_train, y_train);\n",
        "coef_rfc = pd.Series(rfc.feature_importances_, index = X_train.columns)"
      ]
    },
    {
      "cell_type": "code",
      "execution_count": null,
      "metadata": {
        "colab": {
          "base_uri": "https://localhost:8080/"
        },
        "id": "QkjdwFj5LZEN",
        "outputId": "028aca6a-ba5a-487e-932d-0afe7e6eec5f"
      },
      "outputs": [
        {
          "name": "stdout",
          "output_type": "stream",
          "text": [
            "accuracy score: 1.0\n"
          ]
        }
      ],
      "source": [
        "preds = rfc.predict(X_train)\n",
        "print(\"accuracy score:\", accuracy_score(y_train, preds))\n",
        "#Acc is high and its normal because of only x_train modelling"
      ]
    },
    {
      "cell_type": "code",
      "execution_count": null,
      "metadata": {
        "id": "AQGJCHxJLZEN"
      },
      "outputs": [],
      "source": [
        "coef_rfc.sort_values()[7:].plot(kind='barh', cmap=\"Pastel2\");"
      ]
    },
    {
      "cell_type": "code",
      "execution_count": null,
      "metadata": {
        "id": "8EiDxpeVLZEN"
      },
      "outputs": [],
      "source": [
        "data_for_viz_unscaled.head()"
      ]
    },
    {
      "cell_type": "code",
      "execution_count": null,
      "metadata": {
        "id": "kOY5YMXLLZEN"
      },
      "outputs": [],
      "source": [
        "for_pair_plot = data_for_viz_unscaled[['rfc', 'cbo', 'loc','amc', 'cam','ce','npm', 'wmc', 'avg_cc', 'lcom', 'ca', 'Bugs']]\n",
        "pairplot = sns.pairplot(for_pair_plot, hue=\"Bugs\", vars=['rfc', 'cbo', 'loc','amc', 'cam','ce','npm', 'wmc', 'avg_cc', 'lcom', 'ca']);\n",
        "pairplot.fig.suptitle(\"Scatter w.r.t classes: 0, > 1 Bugs\", y=1.02);"
      ]
    },
    {
      "cell_type": "code",
      "execution_count": null,
      "metadata": {
        "id": "NCqp2jyiLZEN"
      },
      "outputs": [],
      "source": [
        "#MODELING\n",
        "def Modeler(model, X_train, y_train, X_cv, y_cv, params, scale=True, n_jobs=True, pca=False):\n",
        "    \n",
        "    if scale & pca:\n",
        "        pipeline = Pipeline([\n",
        "            ('scale', StandardScaler()),\n",
        "            ('dim_reduct', PCA(n_components=4)),\n",
        "            ('clf', model())])\n",
        "        print(\"Scaling and dim reduct...\")\n",
        "        \n",
        "    elif scale:\n",
        "        pipeline = Pipeline([ ('scale', StandardScaler()), ('clf', model())])\n",
        "        \n",
        "    elif pca:\n",
        "        pipeline = Pipeline([\n",
        "        ('dim_reduct', PCA(n_components=pca)),\n",
        "        ('clf', model())])\n",
        "    else:\n",
        "        pipeline = Pipeline([('clf', model())])\n",
        "        \n",
        "    grid = GridSearchCV(pipeline, param_grid = params, cv=3, n_jobs=4, refit=True)\n",
        "    grid.fit(X_cv, y_cv)\n",
        "    \n",
        "    best_prameters = {}\n",
        "    for k, v in grid.best_params_.items():\n",
        "        best_prameters[k[5:]] = v\n",
        "\n",
        "    if n_jobs:\n",
        "        model = model(**best_prameters, n_jobs=4)\n",
        "    else:\n",
        "        model = model(**best_prameters)\n",
        "   \n",
        "    model.fit(X_train, y_train)\n",
        "    \n",
        "    print(\"Best Parameters for model:\", best_prameters)\n",
        "\n",
        "    return {\n",
        "        \"model\": model, \n",
        "        \"best_params\":best_prameters\n",
        "    }"
      ]
    },
    {
      "cell_type": "code",
      "execution_count": null,
      "metadata": {
        "id": "d2vh-ArILZEN"
      },
      "outputs": [],
      "source": [
        "def model_eval(model, X_test, y_test, acc=True, auc_=True, plot_conf=True, plot_auc=True, multi=True, f1=True, prop=False):\n",
        "    \n",
        "    res = [None, None, None] # Accuracy, auc_roc, f1_score\n",
        "    y_pred = model.predict(X_test)\n",
        "    \n",
        "    if prop:\n",
        "        y_pred = np.where(y_pred > 0.5, 1, 0)\n",
        "    \n",
        "    if f1:\n",
        "        f_sc = f1_score(y_test, y_pred, average='macro')\n",
        "        res[2] = f_sc\n",
        "        \n",
        "    if acc:\n",
        "        res[0] = accuracy_score(y_test, y_pred)\n",
        "#         print('accuracy:', res[0] * 100 ,'%')\n",
        "\n",
        "    if auc_:\n",
        "        lb = LabelBinarizer()\n",
        "        lb.fit(y_test)\n",
        "\n",
        "        truth = lb.transform(y_test)\n",
        "        y_pred_encode = lb.transform(y_pred)\n",
        "\n",
        "        res[1] = roc_auc_score(truth, y_pred_encode, average = 'macro')\n",
        "#         print('ROC:', res[1] * 100 ,'%')\n",
        "\n",
        "    if plot_conf:\n",
        "        fig, ax = plt.subplots(figsize=(10,6))\n",
        "\n",
        "        conf = confusion_matrix(y_test, y_pred, labels=np.unique(y_test))\n",
        "        sns.heatmap(conf, cmap= 'Set1', annot=True, cbar=False)\n",
        "        plt.ylabel('Actual')\n",
        "        plt.xlabel('Predicted')\n",
        "        plt.title('Confusion Matrix');\n",
        "    \n",
        "    if plot_auc:\n",
        "        fig, ax = plt.subplots(figsize=(10,6))\n",
        "\n",
        "        if not auc_:\n",
        "            lb = LabelBinarizer()\n",
        "            lb.fit(y_test)\n",
        "\n",
        "            truth = lb.transform(y_test)\n",
        "            y_pred_encode = lb.transform(y_pred)\n",
        "\n",
        "        fpr = [None, None, None]\n",
        "        tpr = [None, None, None]\n",
        "        auc_of_roc = [None, None, None]\n",
        "        \n",
        "        n_classes = 1 #(0, 1)\n",
        "        \n",
        "        for i in range(n_classes):\n",
        "            fpr[i], tpr[i], _ = roc_curve(truth[:, i], y_pred_encode[:, i])\n",
        "            auc_of_roc[i] = auc(fpr[i], tpr[i])\n",
        "            \n",
        "        plt.plot(fpr[0], tpr[0], label='0 - area under ROC = %0.3f' % auc_of_roc[0])\n",
        "        if multi:\n",
        "            plt.plot(fpr[1], tpr[1], label='1 - area under ROC = %0.3f' % auc_of_roc[1])\n",
        "\n",
        "        plt.xlabel('False Positive Rate')\n",
        "        plt.ylabel('True Positive Rate')\n",
        "        plt.title(\"ROC AUC\");\n",
        "        plt.legend()\n",
        "\n",
        "    return res"
      ]
    },
    {
      "cell_type": "code",
      "execution_count": null,
      "metadata": {
        "id": "vqsTOZ3etlfa"
      },
      "outputs": [],
      "source": [
        "X_train_scaled_featured = X_train_scaled[['rfc', 'cbo', 'loc','amc', 'cam','ce','npm', 'wmc', 'avg_cc', 'lcom', 'ca']]\n",
        "X_test_scaled_featured = X_test_scaled[['rfc', 'cbo', 'loc','amc', 'cam','ce','npm', 'wmc', 'avg_cc', 'lcom', 'ca']]\n",
        "X_cv_featured = X_cv[['rfc', 'cbo', 'loc','amc', 'cam','ce','npm', 'wmc', 'avg_cc', 'lcom', 'ca']]"
      ]
    },
    {
      "cell_type": "code",
      "execution_count": null,
      "metadata": {
        "id": "rRyztp7ELZEO"
      },
      "outputs": [],
      "source": [
        "from imblearn.over_sampling import SMOTE\n",
        "X_train_over_sampled, y_train_over_sampled = SMOTE().fit_resample(X_train_scaled_featured, y_train)\n",
        "X_cv_over_sampled, y_cv_over_sampled = SMOTE().fit_resample(X_cv_featured , y_cv)"
      ]
    },
    {
      "cell_type": "code",
      "execution_count": null,
      "metadata": {
        "id": "5HAfvvOnLZEO"
      },
      "outputs": [],
      "source": [
        "# print((y_train_over_sampled == 1).sum())\n",
        "# print((y_train_over_sampled == 0).sum())\n",
        "\n",
        "# print((y_cv_over_sampled == 1).sum())\n",
        "# print((y_cv_over_sampled == 0).sum())\n",
        "\n",
        "X_train_over_sampled = pd.DataFrame(X_train_over_sampled)\n",
        "X_cv_over_sampled = pd.DataFrame(X_cv_over_sampled)\n",
        "\n",
        "y_train_over_sampled = pd.Series(y_train_over_sampled)\n",
        "y_cv_over_sampled = pd.Series(y_cv_over_sampled)"
      ]
    },
    {
      "cell_type": "code",
      "execution_count": null,
      "metadata": {
        "colab": {
          "base_uri": "https://localhost:8080/"
        },
        "id": "koacAdJZLZEO",
        "outputId": "a09f734e-49d2-4e54-d980-db7230bd2c3e"
      },
      "outputs": [
        {
          "name": "stdout",
          "output_type": "stream",
          "text": [
            "Best Parameters for model: {'C': 1, 'gamma': 1, 'kernel': 'linear'}\n"
          ]
        }
      ],
      "source": [
        "# SVC()\n",
        "svc_params = {\n",
        "    'clf__C': [0.1, 1, 10],\n",
        "    'clf__kernel': ['linear', 'rbf'],\n",
        "    'clf__gamma':[1, 0.01, 0.001]\n",
        "}\n",
        "\n",
        "svc = Modeler(SVC, X_train_over_sampled, y_train_over_sampled, X_cv_over_sampled, y_cv_over_sampled, svc_params, scale=True, n_jobs=False)"
      ]
    },
    {
      "cell_type": "code",
      "execution_count": null,
      "metadata": {
        "id": "MWrB1v6FLZEO"
      },
      "outputs": [],
      "source": [
        "model_scoring = model_eval(svc[\"model\"], X_test_scaled_featured, y_test, multi=False)\n",
        "scores = {}\n",
        "scores[\"Support-Vector Machine | Binary\"] = {\"Accuracy\": model_scoring[0],\n",
        "                             \"ROC\": model_scoring[1],\n",
        "                             \"F1-Score\": model_scoring[2]}"
      ]
    },
    {
      "cell_type": "code",
      "execution_count": null,
      "metadata": {
        "colab": {
          "base_uri": "https://localhost:8080/"
        },
        "id": "5kgn8FJSLZEO",
        "outputId": "b083c234-cd44-41f2-ee8d-b42a7cea163a"
      },
      "outputs": [
        {
          "name": "stdout",
          "output_type": "stream",
          "text": [
            "Best Parameters for model: {'metric': 'manhattan', 'n_neighbors': 5, 'weights': 'distance'}\n"
          ]
        }
      ],
      "source": [
        "#KNN\n",
        "knn_params = {\n",
        "    'clf__n_neighbors': [3, 5, 11, 17], # Try not to put even numbers\n",
        "    'clf__weights': ['uniform', 'distance'],\n",
        "    'clf__metric': ['euclidean', 'manhattan'],\n",
        "}\n",
        "\n",
        "knn = Modeler(KNeighborsClassifier, X_train_over_sampled, y_train_over_sampled, X_cv_over_sampled, y_cv_over_sampled, knn_params, scale=True)"
      ]
    },
    {
      "cell_type": "code",
      "execution_count": null,
      "metadata": {
        "id": "MonEUJXzLZEO"
      },
      "outputs": [],
      "source": [
        "model_scoring = model_eval(knn[\"model\"], X_test_scaled_featured, y_test, multi=False)\n",
        "scores[\"K-Nearest Neighbor | Binary\"] = {\"Accuracy\": model_scoring[0],\n",
        "                             \"ROC\": model_scoring[1],\n",
        "                             \"F1-Score\": model_scoring[2]}"
      ]
    },
    {
      "cell_type": "code",
      "execution_count": null,
      "metadata": {
        "colab": {
          "background_save": true
        },
        "id": "k8QOCH2YLZEO",
        "outputId": "401fa1a5-b511-43c9-bfb9-b67e4cb0c919"
      },
      "outputs": [
        {
          "name": "stdout",
          "output_type": "stream",
          "text": [
            "Best Parameters for model: {'criterion': 'gini', 'max_depth': 50, 'max_features': 0.7, 'n_estimators': 500}\n"
          ]
        }
      ],
      "source": [
        "#RANDOM FOREST\n",
        "rfc_params = {\n",
        "    'clf__n_estimators'      : [200, 500, 1000],\n",
        "    'clf__max_depth'         : [10, 20, 50],\n",
        "    'clf__max_features': [1.0, 0.7, 0.4],\n",
        "    'clf__criterion' :['gini', 'entropy']\n",
        "}\n",
        "\n",
        "rfc = Modeler(RandomForestClassifier, X_train_over_sampled, y_train_over_sampled, X_cv_over_sampled, y_cv_over_sampled, rfc_params, scale=True) "
      ]
    },
    {
      "cell_type": "code",
      "execution_count": null,
      "metadata": {
        "colab": {
          "background_save": true
        },
        "id": "XqgPpHUKLZEO"
      },
      "outputs": [],
      "source": [
        "model_scoring = model_eval(rfc[\"model\"], X_test_scaled_featured, y_test, multi=False)\n",
        "scores[\"Random Forest | Binary\"] = {\"Accuracy\": model_scoring[0],\n",
        "                             \"ROC\": model_scoring[1],\n",
        "                             \"F1-Score\": model_scoring[2]}"
      ]
    },
    {
      "cell_type": "code",
      "execution_count": null,
      "metadata": {
        "colab": {
          "background_save": true
        },
        "id": "OBIpB69cLZEP",
        "outputId": "0f7e6e55-89b2-489b-db74-62bb69c48e4a"
      },
      "outputs": [
        {
          "name": "stdout",
          "output_type": "stream",
          "text": [
            "Best Parameters for model: {'learning_rate': 1.0, 'n_estimators': 200}\n"
          ]
        }
      ],
      "source": [
        "#ADA BOOST\n",
        "# AdaBoostClassifier\n",
        "ada_params = {\n",
        "    'clf__learning_rate': [0.1, 0.5, 1.0],\n",
        "    'clf__n_estimators': [100, 200]\n",
        "}\n",
        "\n",
        "ada = Modeler(AdaBoostClassifier, X_train_over_sampled, y_train_over_sampled, X_cv_over_sampled, y_cv_over_sampled, ada_params, scale=True, n_jobs=False)"
      ]
    },
    {
      "cell_type": "code",
      "execution_count": null,
      "metadata": {
        "colab": {
          "background_save": true
        },
        "id": "cswAs4qwLZEP"
      },
      "outputs": [],
      "source": [
        "model_scoring = model_eval(ada[\"model\"], X_test_scaled_featured, y_test, multi=False)\n",
        "scores[\"AdaBoost Classifier | Binary\"] = {\"Accuracy\": model_scoring[0],\n",
        "                             \"ROC\": model_scoring[1],\n",
        "                             \"F1-Score\": model_scoring[2]}"
      ]
    },
    {
      "cell_type": "code",
      "execution_count": null,
      "metadata": {
        "colab": {
          "background_save": true
        },
        "id": "X7IWtaIqLZEP"
      },
      "outputs": [],
      "source": [
        "score_df = pd.DataFrame.from_dict(scores).T\n",
        "score_df= score_df.sort_values('ROC', ascending=False)"
      ]
    },
    {
      "cell_type": "code",
      "execution_count": null,
      "metadata": {
        "colab": {
          "background_save": true
        },
        "id": "JOn6l4vKLZEP"
      },
      "outputs": [],
      "source": [
        "score_df"
      ]
    },
    {
      "cell_type": "markdown",
      "metadata": {
        "id": "DKe06dcIDvWO"
      },
      "source": [
        "# Onuncu Datasetin Scale, Feature Selection ve Modelling işlemleri"
      ]
    },
    {
      "cell_type": "code",
      "execution_count": null,
      "metadata": {
        "colab": {
          "background_save": true
        },
        "id": "oG6qKyDoLcz6"
      },
      "outputs": [],
      "source": [
        "# Shuffle data before removing classname to keep mapping\n",
        "xercesV1 = df[9].sample(frac=1.0)\n",
        "\n",
        "# We do not need confusing variables such as the class name; We can use it as an index or leave it.\n",
        "X = xercesV1.iloc[:, :-1]\n",
        "y = xercesV1[\"bug\"]\n",
        "\n",
        "print(\"X:\", X.shape)\n",
        "print(\"y:\", y.shape)"
      ]
    },
    {
      "cell_type": "code",
      "execution_count": null,
      "metadata": {
        "colab": {
          "background_save": true
        },
        "id": "7ok4zfkFLcz7"
      },
      "outputs": [],
      "source": [
        "xercesV1.describe()"
      ]
    },
    {
      "cell_type": "code",
      "execution_count": null,
      "metadata": {
        "colab": {
          "background_save": true
        },
        "id": "zldlR_x1Lcz7"
      },
      "outputs": [],
      "source": [
        "X.head()"
      ]
    },
    {
      "cell_type": "code",
      "execution_count": null,
      "metadata": {
        "colab": {
          "background_save": true
        },
        "id": "mPPHk-MSLcz7"
      },
      "outputs": [],
      "source": [
        "y.head()"
      ]
    },
    {
      "cell_type": "code",
      "execution_count": null,
      "metadata": {
        "colab": {
          "background_save": true
        },
        "id": "JYvdzs8wLcz7"
      },
      "outputs": [],
      "source": [
        "#Label convert binary \n",
        "y = np.where((y > 1), 1, y) \n",
        "y = pd.Series(y)"
      ]
    },
    {
      "cell_type": "code",
      "execution_count": null,
      "metadata": {
        "colab": {
          "background_save": true
        },
        "id": "y5hESYFrLcz8"
      },
      "outputs": [],
      "source": [
        "print([y > 1])"
      ]
    },
    {
      "cell_type": "code",
      "execution_count": null,
      "metadata": {
        "colab": {
          "background_save": true
        },
        "id": "bB2ntVKxLcz8"
      },
      "outputs": [],
      "source": [
        "#Class Balance: we can see bugs rate\n",
        "unique, counts = np.unique(y, return_counts=True)\n",
        "print(\"Classes:\", unique.tolist())\n",
        "print(\"Counts:\", counts.tolist())\n",
        "\n",
        "plt.bar(unique, counts, color=['g', 'orange'], alpha=0.7)\n",
        "plt.title(\"#Bugs VS Occurrences\")\n",
        "plt.xticks(range(len(unique)))\n",
        "plt.ylabel(\"Occurrences\")\n",
        "plt.xlabel(\"# Bugs\");"
      ]
    },
    {
      "cell_type": "code",
      "execution_count": null,
      "metadata": {
        "colab": {
          "background_save": true
        },
        "id": "QehwkhFvLcz8"
      },
      "outputs": [],
      "source": [
        "#Splitting data train, test, and cross validation\n",
        "from sklearn.model_selection import train_test_split\n",
        "X_train, X_test, y_train, y_test = train_test_split(X, y, test_size=0.3)\n",
        "X_cv, X_test, y_cv, y_test = train_test_split(X_test, y_test, test_size=0.5)\n",
        "print(\"Train:\", X_train.shape, y_train.shape,\n",
        "      \"Test:\", X_test.shape, y_test.shape,\n",
        "      \"Cross Validation\", X_cv.shape, y_cv.shape)"
      ]
    },
    {
      "cell_type": "code",
      "execution_count": null,
      "metadata": {
        "colab": {
          "background_save": true
        },
        "id": "3_fdR9qkLcz8"
      },
      "outputs": [],
      "source": [
        "#we can see y_train bugs rate\n",
        "unique, counts = np.unique(y_train, return_counts=True)\n",
        "print(\"Classes:\", unique.tolist())\n",
        "print(\"Counts:\", counts.tolist())\n",
        "\n",
        "plt.bar(unique, counts, color=['g', 'orange'], alpha=0.7)\n",
        "plt.title(\"#Bugs VS Occurrences\")\n",
        "plt.xticks(range(len(unique)))\n",
        "plt.ylabel(\"Occurrences\")\n",
        "plt.xlabel(\"# Bugs\");"
      ]
    },
    {
      "cell_type": "code",
      "execution_count": null,
      "metadata": {
        "colab": {
          "background_save": true
        },
        "id": "wWT6uX8nLcz8",
        "outputId": "99739ea7-1cd3-48d7-c250-e21dde8a452e"
      },
      "outputs": [
        {
          "name": "stdout",
          "output_type": "stream",
          "text": [
            "Train: (411, 20) (411,) Test: (89, 20) (89,) Cross Validation (88, 20) (88,)\n"
          ]
        }
      ],
      "source": [
        "#Scaling features\n",
        "X_train_scaled = pd.DataFrame(StandardScaler().fit_transform(X_train.values), columns=X_train.columns, index=X_train.index)\n",
        "X_test_scaled = pd.DataFrame(StandardScaler().fit_transform(X_test.values), columns=X_test.columns, index=X_test.index)\n",
        "\n",
        "data_for_viz = X_train_scaled.copy()\n",
        "data_for_viz_unscaled = X_train.copy()\n",
        "\n",
        "data_for_viz['Bugs'] = y_train.copy().tolist()\n",
        "data_for_viz_unscaled['Bugs'] = y_train.copy().tolist()\n",
        "\n",
        "print(\"Train:\", X_train.shape, y_train.shape,\n",
        "      \"Test:\", X_test.shape, y_test.shape,\n",
        "      \"Cross Validation\", X_cv.shape, y_cv.shape)"
      ]
    },
    {
      "cell_type": "code",
      "execution_count": null,
      "metadata": {
        "colab": {
          "background_save": true
        },
        "id": "JgTi2eEELcz9"
      },
      "outputs": [],
      "source": [
        "data_for_viz.head()"
      ]
    },
    {
      "cell_type": "code",
      "execution_count": null,
      "metadata": {
        "colab": {
          "background_save": true
        },
        "id": "-Bg9KhjbLcz9"
      },
      "outputs": [],
      "source": [
        "#Correlation matrix\n",
        "fig, ax = plt.subplots(figsize=(10,8))\n",
        "\n",
        "corr = data_for_viz.corr()\n",
        "mask = np.triu(corr)\n",
        "sns.heatmap(corr, vmin=-1, vmax=1, center= 0, cmap= 'Pastel2', linewidths=3, ax=ax, mask=mask);\n",
        "\n",
        "#We can see that highest correlated variables with Bugs are:\n",
        "\n",
        "#1) wmc \n",
        "# highest correlated with rfc, npm, loc, ce, dam, "
      ]
    },
    {
      "cell_type": "code",
      "execution_count": null,
      "metadata": {
        "colab": {
          "background_save": true
        },
        "id": "mOAMgKpcLcz9"
      },
      "outputs": [],
      "source": [
        "#Feature Importance / Selection\n",
        "rfc = RandomForestClassifier()\n",
        "rfc.fit(X_train, y_train);\n",
        "coef_rfc = pd.Series(rfc.feature_importances_, index = X_train.columns)"
      ]
    },
    {
      "cell_type": "code",
      "execution_count": null,
      "metadata": {
        "colab": {
          "background_save": true
        },
        "id": "ol22_WL_Lcz9",
        "outputId": "00703016-1d67-43ab-be7d-c2ffa8a0f2d9"
      },
      "outputs": [
        {
          "name": "stdout",
          "output_type": "stream",
          "text": [
            "accuracy score: 0.9975669099756691\n"
          ]
        }
      ],
      "source": [
        "preds = rfc.predict(X_train)\n",
        "print(\"accuracy score:\", accuracy_score(y_train, preds))\n",
        "#Acc is high and its normal because of only x_train modelling"
      ]
    },
    {
      "cell_type": "code",
      "execution_count": null,
      "metadata": {
        "colab": {
          "background_save": true
        },
        "id": "W9hYcz3XLcz-"
      },
      "outputs": [],
      "source": [
        "coef_rfc.sort_values()[7:].plot(kind='barh', cmap=\"Pastel2\");"
      ]
    },
    {
      "cell_type": "code",
      "execution_count": null,
      "metadata": {
        "colab": {
          "background_save": true
        },
        "id": "9Jd95De_Lcz-"
      },
      "outputs": [],
      "source": [
        "data_for_viz_unscaled.head()"
      ]
    },
    {
      "cell_type": "code",
      "execution_count": null,
      "metadata": {
        "colab": {
          "background_save": true
        },
        "id": "n-A0-0KxLcz-"
      },
      "outputs": [],
      "source": [
        "for_pair_plot = data_for_viz_unscaled[['ce', 'cbo', 'loc','amc', 'cam', 'Bugs']]\n",
        "pairplot = sns.pairplot(for_pair_plot, hue=\"Bugs\", vars=['ce', 'cbo', 'loc','amc', 'cam']);\n",
        "pairplot.fig.suptitle(\"Scatter w.r.t classes: 0, > 1 Bugs\", y=1.02);"
      ]
    },
    {
      "cell_type": "code",
      "execution_count": null,
      "metadata": {
        "colab": {
          "background_save": true
        },
        "id": "LrkAq4BmLcz-"
      },
      "outputs": [],
      "source": [
        "#MODELING\n",
        "def Modeler(model, X_train, y_train, X_cv, y_cv, params, scale=True, n_jobs=True, pca=False):\n",
        "    \n",
        "    if scale & pca:\n",
        "        pipeline = Pipeline([\n",
        "            ('scale', StandardScaler()),\n",
        "            ('dim_reduct', PCA(n_components=4)),\n",
        "            ('clf', model())])\n",
        "        print(\"Scaling and dim reduct...\")\n",
        "        \n",
        "    elif scale:\n",
        "        pipeline = Pipeline([ ('scale', StandardScaler()), ('clf', model())])\n",
        "        \n",
        "    elif pca:\n",
        "        pipeline = Pipeline([\n",
        "        ('dim_reduct', PCA(n_components=pca)),\n",
        "        ('clf', model())])\n",
        "    else:\n",
        "        pipeline = Pipeline([('clf', model())])\n",
        "        \n",
        "    grid = GridSearchCV(pipeline, param_grid = params, cv=3, n_jobs=4, refit=True)\n",
        "    grid.fit(X_cv, y_cv)\n",
        "    \n",
        "    best_prameters = {}\n",
        "    for k, v in grid.best_params_.items():\n",
        "        best_prameters[k[5:]] = v\n",
        "\n",
        "    if n_jobs:\n",
        "        model = model(**best_prameters, n_jobs=4)\n",
        "    else:\n",
        "        model = model(**best_prameters)\n",
        "   \n",
        "    model.fit(X_train, y_train)\n",
        "    \n",
        "    print(\"Best Parameters for model:\", best_prameters)\n",
        "\n",
        "    return {\n",
        "        \"model\": model, \n",
        "        \"best_params\":best_prameters\n",
        "    }"
      ]
    },
    {
      "cell_type": "code",
      "execution_count": null,
      "metadata": {
        "colab": {
          "background_save": true
        },
        "id": "Dzqwx3c1Lcz-"
      },
      "outputs": [],
      "source": [
        "def model_eval(model, X_test, y_test, acc=True, auc_=True, plot_conf=True, plot_auc=True, multi=True, f1=True, prop=False):\n",
        "    \n",
        "    res = [None, None, None] # Accuracy, auc_roc, f1_score\n",
        "    y_pred = model.predict(X_test)\n",
        "    \n",
        "    if prop:\n",
        "        y_pred = np.where(y_pred > 0.5, 1, 0)\n",
        "    \n",
        "    if f1:\n",
        "        f_sc = f1_score(y_test, y_pred, average='macro')\n",
        "        res[2] = f_sc\n",
        "        \n",
        "    if acc:\n",
        "        res[0] = accuracy_score(y_test, y_pred)\n",
        "#         print('accuracy:', res[0] * 100 ,'%')\n",
        "\n",
        "    if auc_:\n",
        "        lb = LabelBinarizer()\n",
        "        lb.fit(y_test)\n",
        "\n",
        "        truth = lb.transform(y_test)\n",
        "        y_pred_encode = lb.transform(y_pred)\n",
        "\n",
        "        res[1] = roc_auc_score(truth, y_pred_encode, average = 'macro')\n",
        "#         print('ROC:', res[1] * 100 ,'%')\n",
        "\n",
        "    if plot_conf:\n",
        "        fig, ax = plt.subplots(figsize=(10,6))\n",
        "\n",
        "        conf = confusion_matrix(y_test, y_pred, labels=np.unique(y_test))\n",
        "        sns.heatmap(conf, cmap= 'Set1', annot=True, cbar=False)\n",
        "        plt.ylabel('Actual')\n",
        "        plt.xlabel('Predicted')\n",
        "        plt.title('Confusion Matrix');\n",
        "    \n",
        "    if plot_auc:\n",
        "        fig, ax = plt.subplots(figsize=(10,6))\n",
        "\n",
        "        if not auc_:\n",
        "            lb = LabelBinarizer()\n",
        "            lb.fit(y_test)\n",
        "\n",
        "            truth = lb.transform(y_test)\n",
        "            y_pred_encode = lb.transform(y_pred)\n",
        "\n",
        "        fpr = [None, None, None]\n",
        "        tpr = [None, None, None]\n",
        "        auc_of_roc = [None, None, None]\n",
        "        \n",
        "        n_classes = 1 #(0, 1)\n",
        "        \n",
        "        for i in range(n_classes):\n",
        "            fpr[i], tpr[i], _ = roc_curve(truth[:, i], y_pred_encode[:, i])\n",
        "            auc_of_roc[i] = auc(fpr[i], tpr[i])\n",
        "            \n",
        "        plt.plot(fpr[0], tpr[0], label='0 - area under ROC = %0.3f' % auc_of_roc[0])\n",
        "        if multi:\n",
        "            plt.plot(fpr[1], tpr[1], label='1 - area under ROC = %0.3f' % auc_of_roc[1])\n",
        "\n",
        "        plt.xlabel('False Positive Rate')\n",
        "        plt.ylabel('True Positive Rate')\n",
        "        plt.title(\"ROC AUC\");\n",
        "        plt.legend()\n",
        "\n",
        "    return res"
      ]
    },
    {
      "cell_type": "code",
      "execution_count": null,
      "metadata": {
        "colab": {
          "background_save": true
        },
        "id": "8qiw9kzcomFb"
      },
      "outputs": [],
      "source": [
        "X_train_scaled_featured = X_train_scaled[['ce', 'cbo', 'loc','amc', 'cam']]\n",
        "X_test_scaled_featured = X_test_scaled[['ce', 'cbo', 'loc','amc', 'cam']]\n",
        "X_cv_featured = X_cv[['ce', 'cbo', 'loc','amc', 'cam']]"
      ]
    },
    {
      "cell_type": "code",
      "execution_count": null,
      "metadata": {
        "colab": {
          "background_save": true
        },
        "id": "FRxhzTSPLcz_"
      },
      "outputs": [],
      "source": [
        "from imblearn.over_sampling import SMOTE\n",
        "X_train_over_sampled, y_train_over_sampled = SMOTE().fit_resample(X_train_scaled_featured , y_train)\n",
        "X_cv_over_sampled, y_cv_over_sampled = SMOTE().fit_resample(X_cv_featured, y_cv)"
      ]
    },
    {
      "cell_type": "code",
      "execution_count": null,
      "metadata": {
        "colab": {
          "background_save": true
        },
        "id": "lUbYYVgALcz_"
      },
      "outputs": [],
      "source": [
        "# print((y_train_over_sampled == 1).sum())\n",
        "# print((y_train_over_sampled == 0).sum())\n",
        "\n",
        "# print((y_cv_over_sampled == 1).sum())\n",
        "# print((y_cv_over_sampled == 0).sum())\n",
        "\n",
        "X_train_over_sampled = pd.DataFrame(X_train_over_sampled)\n",
        "X_cv_over_sampled = pd.DataFrame(X_cv_over_sampled)\n",
        "\n",
        "y_train_over_sampled = pd.Series(y_train_over_sampled)\n",
        "y_cv_over_sampled = pd.Series(y_cv_over_sampled)"
      ]
    },
    {
      "cell_type": "code",
      "execution_count": null,
      "metadata": {
        "colab": {
          "background_save": true
        },
        "id": "vsgGSLEcLc0A",
        "outputId": "eed60b68-f0e5-44dc-ed39-c517d2d0dc8d"
      },
      "outputs": [
        {
          "name": "stdout",
          "output_type": "stream",
          "text": [
            "Best Parameters for model: {'C': 1, 'gamma': 1, 'kernel': 'linear'}\n"
          ]
        }
      ],
      "source": [
        "# SVC()\n",
        "svc_params = {\n",
        "    'clf__C': [0.1, 1, 10],\n",
        "    'clf__kernel': ['linear', 'rbf'],\n",
        "    'clf__gamma':[1, 0.01, 0.001]\n",
        "}\n",
        "\n",
        "svc = Modeler(SVC, X_train_over_sampled, y_train_over_sampled, X_cv_over_sampled, y_cv_over_sampled, svc_params, scale=True, n_jobs=False)"
      ]
    },
    {
      "cell_type": "code",
      "execution_count": null,
      "metadata": {
        "colab": {
          "background_save": true
        },
        "id": "4i8IoXujLc0A"
      },
      "outputs": [],
      "source": [
        "model_scoring = model_eval(svc[\"model\"], X_test_scaled_featured, y_test, multi=False)\n",
        "scores = {}\n",
        "scores[\"Support-Vector Machine | Binary\"] = {\"Accuracy\": model_scoring[0],\n",
        "                             \"ROC\": model_scoring[1],\n",
        "                             \"F1-Score\": model_scoring[2]}"
      ]
    },
    {
      "cell_type": "code",
      "execution_count": null,
      "metadata": {
        "colab": {
          "background_save": true
        },
        "id": "syWsvOTKLc0A",
        "outputId": "8d603f4c-027c-4df9-d383-8177f48d12ed"
      },
      "outputs": [
        {
          "name": "stdout",
          "output_type": "stream",
          "text": [
            "Best Parameters for model: {'metric': 'euclidean', 'n_neighbors': 11, 'weights': 'distance'}\n"
          ]
        }
      ],
      "source": [
        "#KNN\n",
        "knn_params = {\n",
        "    'clf__n_neighbors': [3, 5, 11, 17], # Try not to put even numbers\n",
        "    'clf__weights': ['uniform', 'distance'],\n",
        "    'clf__metric': ['euclidean', 'manhattan'],\n",
        "}\n",
        "\n",
        "knn = Modeler(KNeighborsClassifier,X_train_over_sampled, y_train_over_sampled, X_cv_over_sampled, y_cv_over_sampled, knn_params, scale=True)"
      ]
    },
    {
      "cell_type": "code",
      "execution_count": null,
      "metadata": {
        "colab": {
          "background_save": true
        },
        "id": "5Am9CIe8Lc0A"
      },
      "outputs": [],
      "source": [
        "model_scoring = model_eval(knn[\"model\"], X_test_scaled_featured, y_test, multi=False)\n",
        "scores[\"K-Nearest Neighbor | Binary\"] = {\"Accuracy\": model_scoring[0],\n",
        "                             \"ROC\": model_scoring[1],\n",
        "                             \"F1-Score\": model_scoring[2]}"
      ]
    },
    {
      "cell_type": "code",
      "execution_count": null,
      "metadata": {
        "colab": {
          "background_save": true
        },
        "id": "8gO7UBYyLc0A",
        "outputId": "543c9a18-6be7-4e7b-f25b-eb0ff368ee94"
      },
      "outputs": [
        {
          "name": "stdout",
          "output_type": "stream",
          "text": [
            "Best Parameters for model: {'criterion': 'gini', 'max_depth': 50, 'max_features': 0.7, 'n_estimators': 200}\n"
          ]
        }
      ],
      "source": [
        "#RANDOM FOREST\n",
        "rfc_params = {\n",
        "    'clf__n_estimators'      : [200, 500, 1000],\n",
        "    'clf__max_depth'         : [10, 20, 50],\n",
        "    'clf__max_features': [1.0, 0.7, 0.4],\n",
        "    'clf__criterion' :['gini', 'entropy']\n",
        "}\n",
        "\n",
        "rfc = Modeler(RandomForestClassifier,X_train_over_sampled, y_train_over_sampled, X_cv_over_sampled, y_cv_over_sampled, rfc_params, scale=True) "
      ]
    },
    {
      "cell_type": "code",
      "execution_count": null,
      "metadata": {
        "id": "CnM8CAquLc0B"
      },
      "outputs": [],
      "source": [
        "model_scoring = model_eval(rfc[\"model\"], X_test_scaled_featured, y_test, multi=False)\n",
        "scores[\"Random Forest | Binary\"] = {\"Accuracy\": model_scoring[0],\n",
        "                             \"ROC\": model_scoring[1],\n",
        "                             \"F1-Score\": model_scoring[2]}"
      ]
    },
    {
      "cell_type": "code",
      "execution_count": null,
      "metadata": {
        "colab": {
          "background_save": true
        },
        "id": "iL2hZr1dLc0B",
        "outputId": "44c0e78d-1fa5-41d8-f1ef-2a4364634f53"
      },
      "outputs": [
        {
          "name": "stdout",
          "output_type": "stream",
          "text": [
            "Best Parameters for model: {'learning_rate': 0.5, 'n_estimators': 200}\n"
          ]
        }
      ],
      "source": [
        "#ADA BOOST\n",
        "# AdaBoostClassifier\n",
        "ada_params = {\n",
        "    'clf__learning_rate': [0.1, 0.5, 1.0],\n",
        "    'clf__n_estimators': [100, 200]\n",
        "}\n",
        "\n",
        "ada = Modeler(AdaBoostClassifier, X_train_over_sampled, y_train_over_sampled, X_cv_over_sampled, y_cv_over_sampled, ada_params, scale=True, n_jobs=False)"
      ]
    },
    {
      "cell_type": "code",
      "execution_count": null,
      "metadata": {
        "colab": {
          "background_save": true
        },
        "id": "N6q5hwrWLc0B"
      },
      "outputs": [],
      "source": [
        "model_scoring = model_eval(ada[\"model\"], X_test_scaled_featured, y_test, multi=False)\n",
        "scores[\"AdaBoost Classifier | Binary\"] = {\"Accuracy\": model_scoring[0],\n",
        "                             \"ROC\": model_scoring[1],\n",
        "                             \"F1-Score\": model_scoring[2]}"
      ]
    },
    {
      "cell_type": "code",
      "execution_count": null,
      "metadata": {
        "colab": {
          "background_save": true
        },
        "id": "d4SEEu0GLc0B"
      },
      "outputs": [],
      "source": [
        "score_df = pd.DataFrame.from_dict(scores).T\n",
        "score_df= score_df.sort_values('ROC', ascending=False)"
      ]
    },
    {
      "cell_type": "code",
      "execution_count": null,
      "metadata": {
        "id": "ZK1KUuIGLc0B"
      },
      "outputs": [],
      "source": [
        "score_df"
      ]
    }
  ],
  "metadata": {
    "colab": {
      "collapsed_sections": [
        "E6dcL10qK-UW",
        "lwIBAldvLJGx",
        "ffNp2Y80LQql",
        "5fEJpIBhLZEK",
        "DKe06dcIDvWO"
      ],
      "name": "CENG480.ipynb özgün",
      "provenance": [],
      "toc_visible": true,
      "include_colab_link": true
    },
    "kernelspec": {
      "display_name": "Python 3",
      "name": "python3"
    },
    "language_info": {
      "name": "python"
    }
  },
  "nbformat": 4,
  "nbformat_minor": 0
}